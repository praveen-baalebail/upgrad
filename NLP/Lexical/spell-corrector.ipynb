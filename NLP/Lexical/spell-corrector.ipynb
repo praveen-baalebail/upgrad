{
 "cells": [
  {
   "cell_type": "code",
   "execution_count": 1,
   "metadata": {},
   "outputs": [],
   "source": [
    "import re\n",
    "from collections import Counter"
   ]
  },
  {
   "cell_type": "code",
   "execution_count": 2,
   "metadata": {},
   "outputs": [],
   "source": [
    "# function to tokenise words\n",
    "def words(document):\n",
    "    \"Convert text to lower case and tokenise the document\"\n",
    "    return re.findall(r'\\w+', document.lower())"
   ]
  },
  {
   "cell_type": "code",
   "execution_count": 3,
   "metadata": {},
   "outputs": [],
   "source": [
    "# create a frequency table of all the words of the document\n",
    "all_words = Counter(words(open('big.txt').read()))"
   ]
  },
  {
   "cell_type": "code",
   "execution_count": 4,
   "metadata": {},
   "outputs": [
    {
     "data": {
      "text/plain": [
       "135"
      ]
     },
     "execution_count": 4,
     "metadata": {},
     "output_type": "execute_result"
    }
   ],
   "source": [
    "# check frequency of a random word, say, 'chair'\n",
    "all_words['chair']"
   ]
  },
  {
   "cell_type": "code",
   "execution_count": 5,
   "metadata": {},
   "outputs": [
    {
     "data": {
      "text/plain": [
       "[('the', 79809),\n",
       " ('of', 40024),\n",
       " ('and', 38312),\n",
       " ('to', 28765),\n",
       " ('in', 22023),\n",
       " ('a', 21124),\n",
       " ('that', 12512),\n",
       " ('he', 12401),\n",
       " ('was', 11410),\n",
       " ('it', 10681)]"
      ]
     },
     "execution_count": 5,
     "metadata": {},
     "output_type": "execute_result"
    }
   ],
   "source": [
    "# look at top 10 frequent words\n",
    "all_words.most_common(10)"
   ]
  },
  {
   "cell_type": "code",
   "execution_count": 6,
   "metadata": {},
   "outputs": [],
   "source": [
    "def edits_one(word):\n",
    "    \"Create all edits that are one edit away from `word`.\"\n",
    "    alphabets    = 'abcdefghijklmnopqrstuvwxyz'\n",
    "    splits     = [(word[:i], word[i:])                   for i in range(len(word) + 1)]\n",
    "    deletes    = [left + right[1:]                       for left, right in splits if right]\n",
    "    inserts    = [left + c + right                       for left, right in splits for c in alphabets]\n",
    "    replaces   = [left + c + right[1:]                   for left, right in splits if right for c in alphabets]\n",
    "    transposes = [left + right[1] + right[0] + right[2:] for left, right in splits if len(right)>1]\n",
    "    return set(deletes + inserts + replaces + transposes)"
   ]
  },
  {
   "cell_type": "code",
   "execution_count": 7,
   "metadata": {},
   "outputs": [],
   "source": [
    "def edits_two(word):\n",
    "    \"Create all edits that are two edits away from `word`.\"\n",
    "    return (e2 for e1 in edits_one(word) for e2 in edits_one(e1))"
   ]
  },
  {
   "cell_type": "code",
   "execution_count": 8,
   "metadata": {},
   "outputs": [],
   "source": [
    "def known(words):\n",
    "    \"The subset of `words` that appear in the `all_words`.\"\n",
    "    return set(word for word in words if word in all_words)"
   ]
  },
  {
   "cell_type": "code",
   "execution_count": 9,
   "metadata": {},
   "outputs": [],
   "source": [
    "def possible_corrections(word):\n",
    "    \"Generate possible spelling corrections for word.\"\n",
    "    return (known([word]) or known(edits_one(word)) or known(edits_two(word)) or [word])"
   ]
  },
  {
   "cell_type": "code",
   "execution_count": 10,
   "metadata": {},
   "outputs": [],
   "source": [
    "def prob(word, N=sum(all_words.values())): \n",
    "    \"Probability of `word`: Number of appearances of 'word' / total number of tokens\"\n",
    "    return all_words[word] / N"
   ]
  },
  {
   "cell_type": "code",
   "execution_count": 26,
   "metadata": {},
   "outputs": [
    {
     "name": "stdout",
     "output_type": "stream",
     "text": [
      "442\n",
      "90902\n",
      "{'emphasize'}\n"
     ]
    }
   ],
   "source": [
    "print(len(set(edits_one(\"emfasize\"))))\n",
    "print(len(set(edits_two(\"emfasize\"))))\n",
    "#print(edits_one(\"emfasize\"))\n",
    "print(possible_corrections(\"emfasize\"))\n"
   ]
  },
  {
   "cell_type": "code",
   "execution_count": 11,
   "metadata": {},
   "outputs": [
    {
     "name": "stdout",
     "output_type": "stream",
     "text": [
      "336\n",
      "{'mongney', 'fmonney', 'monnkey', 'mwnney', 'ronney', 'ponney', 'momnney', 'moneny', 'menney', 'minney', 'monnev', 'mooney', 'msonney', 'motney', 'mojney', 'monny', 'monnney', 'mnoney', 'mosney', 'gonney', 'monncy', 'monnoey', 'mokney', 'monkney', 'mmnney', 'monnfy', 'moknney', 'morney', 'monnbey', 'monnwey', 'dmonney', 'mznney', 'mionney', 'monnejy', 'monnby', 'monnepy', 'mjnney', 'mouney', 'monneqy', 'monneyz', 'moznney', 'monqney', 'monneay', 'monsey', 'monnery', 'monney', 'monnzey', 'mgnney', 'monpney', 'monwey', 'moqnney', 'lonney', 'monnry', 'manney', 'monnej', 'mxonney', 'sonney', 'monsney', 'monneky', 'motnney', 'monnpy', 'monvey', 'monneys', 'monnuy', 'mwonney', 'conney', 'monnjey', 'mponney', 'myonney', 'omnney', 'monneyx', 'monnvey', 'monnei', 'moynney', 'mcnney', 'mhonney', 'fonney', 'mognney', 'monpey', 'monneyu', 'monnep', 'monnew', 'monner', 'monnem', 'monneyv', 'monndey', 'monnec', 'mkonney', 'monneny', 'monneyn', 'monniy', 'mjonney', 'monneyo', 'monnyey', 'mbonney', 'monnzy', 'mornney', 'moneney', 'zmonney', 'honney', 'montney', 'monnesy', 'mbnney', 'monrey', 'modney', 'amonney', 'monneiy', 'ionney', 'monngy', 'mocnney', 'vonney', 'movney', 'monnek', 'monnex', 'mononey', 'monnrey', 'monneb', 'nmonney', 'monnewy', 'moxnney', 'cmonney', 'mgonney', 'monaey', 'jonney', 'moncney', 'mmonney', 'mosnney', 'monnly', 'monnevy', 'mfonney', 'yonney', 'monneyj', 'mondney', 'mknney', 'mohnney', 'wonney', 'eonney', 'monnhey', 'meonney', 'monnely', 'mzonney', 'muonney', 'mofnney', 'monnty', 'bonney', 'monnegy', 'monnay', 'money', 'monneyg', 'mondey', 'monnezy', 'monnsey', 'mobney', 'nonney', 'monned', 'monxney', 'monnecy', 'monmney', 'monqey', 'monnet', 'monnwy', 'monxey', 'mongey', 'monneyt', 'monneyp', 'monnety', 'monnef', 'monneey', 'mocney', 'mobnney', 'mpnney', 'monncey', 'mojnney', 'mqnney', 'monnea', 'monneh', 'aonney', 'monnny', 'bmonney', 'monneyc', 'moqney', 'mtnney', 'monjey', 'monnedy', 'monneyq', 'xmonney', 'monnyy', 'mrnney', 'monfey', 'wmonney', 'monnfey', 'monnxey', 'omonney', 'monneym', 'onney', 'mopney', 'monfney', 'konney', 'hmonney', 'monnye', 'maonney', 'uonney', 'mdnney', 'mnonney', 'monneyk', 'monneye', 'msnney', 'mvonney', 'mohney', 'umonney', 'moenney', 'mozney', 'monneyr', 'monnes', 'rmonney', 'mconney', 'moniey', 'monneq', 'monnqey', 'mynney', 'monnemy', 'monnuey', 'monneby', 'monne', 'monjney', 'xonney', 'mowney', 'gmonney', 'monnee', 'monneyh', 'monlney', 'mnney', 'moonney', 'mtonney', 'monneuy', 'pmonney', 'moneey', 'momney', 'monnjy', 'qonney', 'monnky', 'monyey', 'monnhy', 'monwney', 'mfnney', 'moinney', 'monnen', 'monnel', 'monneyi', 'monnsy', 'monneyb', 'moncey', 'monniey', 'mlnney', 'ymonney', 'jmonney', 'qmonney', 'emonney', 'monhney', 'monuney', 'monbey', 'moniney', 'moxney', 'imonney', 'tmonney', 'monoey', 'mogney', 'monzney', 'mnnney', 'mxnney', 'zonney', 'monbney', 'monnez', 'monkey', 'monnmy', 'monneyd', 'vmonney', 'monnoy', 'mhnney', 'monvney', 'lmonney', 'movnney', 'mopnney', 'munney', 'monnpey', 'monngey', 'moaney', 'monneu', 'monnvy', 'monnehy', 'moeney', 'mvnney', 'mounney', 'monzey', 'monhey', 'monnxy', 'monntey', 'monnexy', 'donney', 'monyney', 'mofney', 'monaney', 'monneg', 'kmonney', 'tonney', 'mlonney', 'mronney', 'monneoy', 'mownney', 'modnney', 'monneo', 'monmey', 'moiney', 'monnley', 'monnqy', 'molnney', 'monnmey', 'monneyf', 'montey', 'monuey', 'moanney', 'monneyy', 'monndy', 'monnefy', 'monley', 'monrney', 'monneyl', 'molney', 'monneya', 'monneyw', 'mqonney', 'smonney', 'moyney', 'oonney', 'mdonney', 'monnaey'}\n"
     ]
    }
   ],
   "source": [
    "print(len(set(edits_one(\"monney\"))))\n",
    "print(edits_one(\"monney\"))"
   ]
  },
  {
   "cell_type": "code",
   "execution_count": 20,
   "metadata": {},
   "outputs": [
    {
     "name": "stdout",
     "output_type": "stream",
     "text": [
      "{'monkey', 'money'}\n"
     ]
    }
   ],
   "source": [
    "print(known(edits_one(\"monney\")))"
   ]
  },
  {
   "cell_type": "code",
   "execution_count": 21,
   "metadata": {},
   "outputs": [
    {
     "name": "stdout",
     "output_type": "stream",
     "text": [
      "51013\n",
      "{'monkey', 'money'}\n"
     ]
    }
   ],
   "source": [
    "# Let's look at words that are two edits away\n",
    "print(len(set(edits_two(\"monney\"))))\n",
    "print(known(edits_one(\"monney\")))"
   ]
  },
  {
   "cell_type": "code",
   "execution_count": 22,
   "metadata": {},
   "outputs": [
    {
     "name": "stdout",
     "output_type": "stream",
     "text": [
      "{'monkey', 'money'}\n"
     ]
    }
   ],
   "source": [
    "# Let's look at possible corrections of a word\n",
    "print(possible_corrections(\"monney\"))"
   ]
  },
  {
   "cell_type": "code",
   "execution_count": 23,
   "metadata": {},
   "outputs": [
    {
     "name": "stdout",
     "output_type": "stream",
     "text": [
      "0.0002922233626303688\n",
      "5.378344097491451e-06\n"
     ]
    }
   ],
   "source": [
    "# Let's look at probability of a word\n",
    "print(prob(\"money\"))\n",
    "print(prob(\"monkey\"))"
   ]
  },
  {
   "cell_type": "code",
   "execution_count": 24,
   "metadata": {},
   "outputs": [],
   "source": [
    "def spell_check(word):\n",
    "    \"Print the most probable spelling correction for `word` out of all the `possible_corrections`\"\n",
    "    correct_word = max(possible_corrections(word), key=prob)\n",
    "    if correct_word != word:\n",
    "        return \"Did you mean \" + correct_word + \"?\"\n",
    "    else:\n",
    "        return \"Correct spelling.\""
   ]
  },
  {
   "cell_type": "code",
   "execution_count": 25,
   "metadata": {},
   "outputs": [
    {
     "name": "stdout",
     "output_type": "stream",
     "text": [
      "Did you mean money?\n"
     ]
    }
   ],
   "source": [
    "# test spell check\n",
    "print(spell_check(\"monney\"))"
   ]
  },
  {
   "cell_type": "code",
   "execution_count": 27,
   "metadata": {},
   "outputs": [
    {
     "name": "stdout",
     "output_type": "stream",
     "text": [
      "learn\n"
     ]
    }
   ],
   "source": [
    "# we can use that as library as well. spell_corrector.py file is stored in this folder\n",
    "from spell_corrector import rectify\n",
    "correct = rectify(\"laern\")\n",
    "print(correct)"
   ]
  },
  {
   "cell_type": "code",
   "execution_count": null,
   "metadata": {},
   "outputs": [],
   "source": []
  }
 ],
 "metadata": {
  "kernelspec": {
   "display_name": "Python 3",
   "language": "python",
   "name": "python3"
  },
  "language_info": {
   "codemirror_mode": {
    "name": "ipython",
    "version": 3
   },
   "file_extension": ".py",
   "mimetype": "text/x-python",
   "name": "python",
   "nbconvert_exporter": "python",
   "pygments_lexer": "ipython3",
   "version": "3.7.4"
  }
 },
 "nbformat": 4,
 "nbformat_minor": 2
}
