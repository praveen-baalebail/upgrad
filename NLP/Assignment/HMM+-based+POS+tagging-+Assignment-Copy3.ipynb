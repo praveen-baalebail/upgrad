{
 "cells": [
  {
   "cell_type": "markdown",
   "metadata": {},
   "source": [
    "## Assignment - Syntactic Analysis"
   ]
  },
  {
   "cell_type": "markdown",
   "metadata": {},
   "source": [
    "### Table of Contents\n",
    "\n",
    "1. Problem Statement \n",
    "2. Data Preparation\n",
    "3. Build the vanilla Viterbi based POS tagger\n",
    "4. Viterbi Modification-Technique 1 to handle unknown words\n",
    "5. Viterbi Modification-Technique 2 to handle unkown words and improve accuracy\n",
    "6. Model Evaluation\n",
    "7. Summary\n"
   ]
  },
  {
   "cell_type": "markdown",
   "metadata": {},
   "source": [
    "### 1. Problem Statement\n",
    "\n",
    "In this assignment, we need to modify the Viterbi algorithm to solve the problem of unknown words using at least two techniques.\n",
    "\n",
    "##### Here are the High level steps we need to acomplish.\n",
    "\n",
    "1. Write the vanilla Viterbi algorithm for assigning POS tags (i.e. without dealing with unknown words) \n",
    "2.  Solve the problem of unknown words using at least two techniques. \n",
    "3.  Compare the tagging accuracy after making these modifications with the vanilla Viterbi algorithm.\n",
    "4.  List down at least three cases from the sample test file (i.e. unknown word-tag pairs) which were incorrectly tagged by the original Viterbi POS tagger and got corrected after your modifications\n"
   ]
  },
  {
   "cell_type": "markdown",
   "metadata": {},
   "source": [
    "### 2. Data Preparation\n",
    "\n",
    "* Import required libraries\n",
    "* For this assignment, we will use the Treebank dataset of NLTK with the 'universal' tagset. The Universal tagset of NLTK comprises only 12 coarse tag classes.\n",
    "* Split data into 95:5 ratio for train and test.\n",
    "* Data analysis like no.of train set, types of tag set, frequent tag sets.\n",
    "* create functions to calculate Emission probability and Transition probability."
   ]
  },
  {
   "cell_type": "code",
   "execution_count": 1,
   "metadata": {},
   "outputs": [],
   "source": [
    "#Importing libraries\n",
    "import nltk, re, pprint\n",
    "import numpy as np\n",
    "import pandas as pd\n",
    "import requests\n",
    "import matplotlib.pyplot as plt\n",
    "import seaborn as sns\n",
    "import pprint, time\n",
    "import random\n",
    "from sklearn.model_selection import train_test_split\n",
    "from nltk.tokenize import word_tokenize\n"
   ]
  },
  {
   "cell_type": "code",
   "execution_count": 2,
   "metadata": {},
   "outputs": [],
   "source": [
    "# reading the Treebank tagged 'universal' sentences\n",
    "nltk_data = list(nltk.corpus.treebank.tagged_sents(tagset='universal'))"
   ]
  },
  {
   "cell_type": "code",
   "execution_count": 3,
   "metadata": {},
   "outputs": [
    {
     "name": "stdout",
     "output_type": "stream",
     "text": [
      "3914\n",
      "[[('Pierre', 'NOUN'), ('Vinken', 'NOUN'), (',', '.'), ('61', 'NUM'), ('years', 'NOUN'), ('old', 'ADJ'), (',', '.'), ('will', 'VERB'), ('join', 'VERB'), ('the', 'DET'), ('board', 'NOUN'), ('as', 'ADP'), ('a', 'DET'), ('nonexecutive', 'ADJ'), ('director', 'NOUN'), ('Nov.', 'NOUN'), ('29', 'NUM'), ('.', '.')], [('Mr.', 'NOUN'), ('Vinken', 'NOUN'), ('is', 'VERB'), ('chairman', 'NOUN'), ('of', 'ADP'), ('Elsevier', 'NOUN'), ('N.V.', 'NOUN'), (',', '.'), ('the', 'DET'), ('Dutch', 'NOUN'), ('publishing', 'VERB'), ('group', 'NOUN'), ('.', '.')], [('Rudolph', 'NOUN'), ('Agnew', 'NOUN'), (',', '.'), ('55', 'NUM'), ('years', 'NOUN'), ('old', 'ADJ'), ('and', 'CONJ'), ('former', 'ADJ'), ('chairman', 'NOUN'), ('of', 'ADP'), ('Consolidated', 'NOUN'), ('Gold', 'NOUN'), ('Fields', 'NOUN'), ('PLC', 'NOUN'), (',', '.'), ('was', 'VERB'), ('named', 'VERB'), ('*-1', 'X'), ('a', 'DET'), ('nonexecutive', 'ADJ'), ('director', 'NOUN'), ('of', 'ADP'), ('this', 'DET'), ('British', 'ADJ'), ('industrial', 'ADJ'), ('conglomerate', 'NOUN'), ('.', '.')]]\n"
     ]
    }
   ],
   "source": [
    "# first few tagged sentences\n",
    "print(len(nltk_data))  #no of tagged sentences\n",
    "print(nltk_data[:3])\n",
    "\n",
    "#We have around 3914 sentences from the dataset."
   ]
  },
  {
   "cell_type": "code",
   "execution_count": 4,
   "metadata": {},
   "outputs": [
    {
     "name": "stdout",
     "output_type": "stream",
     "text": [
      "3718\n",
      "196\n"
     ]
    }
   ],
   "source": [
    "# Splitting into train and test into 95:5 ratio. \n",
    "random.seed(1234)\n",
    "train_set, test_set = train_test_split(nltk_data,test_size=0.05)\n",
    "\n",
    "print(len(train_set))\n",
    "print(len(test_set)) \n",
    "\n",
    "#Data is split into 95:5 ratio. Keeping the validation set small to restrict the runtime."
   ]
  },
  {
   "cell_type": "code",
   "execution_count": 5,
   "metadata": {},
   "outputs": [
    {
     "data": {
      "text/plain": [
       "95554"
      ]
     },
     "execution_count": 5,
     "metadata": {},
     "output_type": "execute_result"
    }
   ],
   "source": [
    "# Getting list of tagged words\n",
    "train_tagged_words = [tup for sent in train_set for tup in sent]\n",
    "len(train_tagged_words)\n",
    "\n",
    "#We have 95K words in train set."
   ]
  },
  {
   "cell_type": "code",
   "execution_count": 6,
   "metadata": {},
   "outputs": [
    {
     "data": {
      "text/plain": [
       "[('NOUN', 27355),\n",
       " ('VERB', 12921),\n",
       " ('.', 11122),\n",
       " ('ADP', 9355),\n",
       " ('DET', 8277),\n",
       " ('X', 6272),\n",
       " ('ADJ', 6074),\n",
       " ('NUM', 3328),\n",
       " ('PRT', 3035),\n",
       " ('ADV', 3031),\n",
       " ('PRON', 2618),\n",
       " ('CONJ', 2166)]"
      ]
     },
     "execution_count": 6,
     "metadata": {},
     "output_type": "execute_result"
    }
   ],
   "source": [
    "# Which is the most frequent tag in the corpus\n",
    "from collections import Counter\n",
    "\n",
    "tags = [pair[1] for pair in train_tagged_words]\n",
    "tag_counts = Counter(tags)\n",
    "tag_counts.most_common()\n",
    "\n",
    "# Noun is the most common POS tag followed by VERB and then by '.'\n",
    "# There are 12 unique POS tags in the data set."
   ]
  },
  {
   "cell_type": "code",
   "execution_count": 7,
   "metadata": {},
   "outputs": [
    {
     "data": {
      "text/plain": [
       "[((',', '.'), 4656),\n",
       " (('.', '.'), 3638),\n",
       " (('$', '.'), 675),\n",
       " (('``', '.'), 671),\n",
       " ((\"''\", '.'), 655),\n",
       " (('--', '.'), 218),\n",
       " ((';', '.'), 154),\n",
       " ((':', '.'), 130),\n",
       " (('-RRB-', '.'), 100),\n",
       " (('-LRB-', '.'), 97)]"
      ]
     },
     "execution_count": 7,
     "metadata": {},
     "output_type": "execute_result"
    }
   ],
   "source": [
    "# Which word is most commonly assigned to the tag '.'\n",
    "p_tags = [pair for pair in train_tagged_words if pair[1].lower() == '.']\n",
    "p_counts = Counter(p_tags)\n",
    "p_counts.most_common()[:10]\n",
    "\n",
    "#Punctuation marks and character groups used in to delimit linguistic units is tagged to '.'"
   ]
  },
  {
   "cell_type": "code",
   "execution_count": 8,
   "metadata": {},
   "outputs": [
    {
     "data": {
      "text/plain": [
       "[(('*-1', 'X'), 1065),\n",
       " (('0', 'X'), 1046),\n",
       " (('*', 'X'), 913),\n",
       " (('*T*-1', 'X'), 772),\n",
       " (('*U*', 'X'), 702),\n",
       " (('*-2', 'X'), 348),\n",
       " (('*T*-2', 'X'), 330),\n",
       " (('*-3', 'X'), 126),\n",
       " (('*T*-3', 'X'), 90),\n",
       " (('*ICH*-1', 'X'), 64)]"
      ]
     },
     "execution_count": 8,
     "metadata": {},
     "output_type": "execute_result"
    }
   ],
   "source": [
    "# Which word is most commonly assigned to the tag '.'\n",
    "x_tags = [pair for pair in train_tagged_words if pair[1] == 'X']\n",
    "x_counts = Counter(x_tags)\n",
    "x_counts.most_common()[:10]\n",
    "\n",
    "# The tag X is used for words that for some reason cannot be assigned to a real part-of-speech category.\n",
    "# Words containg patterns with '*' symbols in it.\n",
    "# Numerical 0 is also tagged to X instead of Num."
   ]
  },
  {
   "cell_type": "code",
   "execution_count": 9,
   "metadata": {},
   "outputs": [
    {
     "name": "stdout",
     "output_type": "stream",
     "text": [
      "12089\n"
     ]
    }
   ],
   "source": [
    "# Get all unique word vocabulary from the data set. Also called as tokens \n",
    "\n",
    "tokens = [pair[0] for pair in train_tagged_words]\n",
    "train_vocabulary_set = set(tokens)\n",
    "print(len(train_vocabulary_set))\n",
    "\n",
    "#There are around 12k unique Vocabulary in train set."
   ]
  },
  {
   "cell_type": "code",
   "execution_count": 10,
   "metadata": {},
   "outputs": [
    {
     "name": "stdout",
     "output_type": "stream",
     "text": [
      "12\n",
      "['.', 'ADJ', 'ADP', 'ADV', 'CONJ', 'DET', 'NOUN', 'NUM', 'PRON', 'PRT', 'VERB', 'X']\n"
     ]
    }
   ],
   "source": [
    "# Get all unique POS tags from the data set. \n",
    "tag_set = sorted(set([pair[1] for pair in train_tagged_words]))\n",
    "print(len(tag_set))\n",
    "print(tag_set)\n",
    "\n",
    "#There are 12 tag sets in the tagged word set. This will be used for our training."
   ]
  },
  {
   "cell_type": "code",
   "execution_count": 11,
   "metadata": {},
   "outputs": [],
   "source": [
    "# computing P(w/t) and storing in T x V matrix\n",
    "\n",
    "t = len(tag_set)\n",
    "v = len(train_vocabulary_set)\n",
    "w_given_t = np.zeros((t, v))"
   ]
  },
  {
   "cell_type": "code",
   "execution_count": 12,
   "metadata": {},
   "outputs": [],
   "source": [
    "# compute word given tag: Emission Probability\n",
    "def word_given_tag(word, tag, train_bag = train_tagged_words):\n",
    "    tag_list = [pair for pair in train_bag if pair[1]==tag]\n",
    "    count_tag = len(tag_list)\n",
    "    w_given_tag_list = [pair[0] for pair in tag_list if pair[0]==word]\n",
    "    count_w_given_tag = len(w_given_tag_list)\n",
    "    \n",
    "    return (count_w_given_tag, count_tag)\n",
    "\n",
    "# compute tag given tag: tag2(t2) given tag1 (t1), i.e. Transition Probability\n",
    "\n",
    "def t2_given_t1(t2, t1, train_bag = train_tagged_words):\n",
    "    tags = [pair[1] for pair in train_bag]\n",
    "    count_t1 = len([t for t in tags if t==t1])\n",
    "    count_t2_t1 = 0\n",
    "    for index in range(len(tags)-1):\n",
    "        if tags[index]==t1 and tags[index+1] == t2:\n",
    "            count_t2_t1 += 1\n",
    "    return (count_t2_t1, count_t1)\n",
    "\n",
    "#Heatmap \n",
    "def plotheatmap(df,Title,Figsize=None):\n",
    "    \n",
    "    f,ax= plt.subplots(1,1,figsize=Figsize)   \n",
    "    sns.heatmap(df,annot=True)\n",
    "    ax.set_title(Title)\n",
    "    \n",
    "    #Fix 3.11 matplot version issue by setting the limits manually.\n",
    "    bottom, top = ax.get_ylim()\n",
    "    ax.set_ylim(bottom + 0.5, top - 0.5)\n",
    "    \n",
    "    \n",
    "    plt.show()"
   ]
  },
  {
   "cell_type": "code",
   "execution_count": 13,
   "metadata": {},
   "outputs": [],
   "source": [
    "# creating t x t transition matrix of tags\n",
    "# each column is t2, each row is t1\n",
    "# thus M(i, j) represents P(tj given ti)\n",
    "\n",
    "tags_matrix = np.zeros((len(tag_set), len(tag_set)), dtype='float32')\n",
    "for i, t1 in enumerate(list(tag_set)):\n",
    "    for j, t2 in enumerate(list(tag_set)): \n",
    "        tags_matrix[i, j] = t2_given_t1(t2, t1)[0]/t2_given_t1(t2, t1)[1]"
   ]
  },
  {
   "cell_type": "code",
   "execution_count": 14,
   "metadata": {},
   "outputs": [],
   "source": [
    "# convert the matrix to a df for better readability\n",
    "tags_df = pd.DataFrame(tags_matrix, columns = list(tag_set), index=list(tag_set))"
   ]
  },
  {
   "cell_type": "code",
   "execution_count": 15,
   "metadata": {},
   "outputs": [
    {
     "data": {
      "image/png": "[encoded data removed]",
      "text/plain": [
       "<Figure size 864x432 with 2 Axes>"
      ]
     },
     "metadata": {
      "needs_background": "light"
     },
     "output_type": "display_data"
    }
   ],
   "source": [
    "plotheatmap(tags_df,\"transition probability of tags\",Figsize=(12, 6))\n",
    "\n",
    "#Adjective followed by a Noun has highest probability of 0.7.\n",
    "#Determiners followed by Noun comes next with 0.64 probability.\n",
    "#Verbs are precided by either Pronouns or Particles or Adverbs with a probability of 0.48, 0.4 and 0.34 respectively."
   ]
  },
  {
   "cell_type": "code",
   "execution_count": 16,
   "metadata": {},
   "outputs": [
    {
     "data": {
      "text/plain": [
       ".       0.094048\n",
       "ADJ     0.044776\n",
       "ADP     0.092070\n",
       "ADV     0.051969\n",
       "CONJ    0.058173\n",
       "DET     0.172811\n",
       "NOUN    0.223341\n",
       "NUM     0.079302\n",
       "PRON    0.065995\n",
       "PRT     0.002248\n",
       "VERB    0.088563\n",
       "X       0.026614\n",
       "Name: ., dtype: float32"
      ]
     },
     "execution_count": 16,
     "metadata": {},
     "output_type": "execute_result"
    }
   ],
   "source": [
    "#Transition probability, given previous tag is start of the sentence.\n",
    "tags_df.loc['.',:]\n",
    "\n",
    "# Words starting with Noun is highest with 0.22 \n",
    "# Determiners also has high probability of 0.17 to start the sentence."
   ]
  },
  {
   "cell_type": "markdown",
   "metadata": {},
   "source": [
    "### 3. Build the vanilla Viterbi based POS tagger\n",
    "\n",
    "Vanilla Viterbi algorithm works as follows:\n",
    "\n",
    "* For each word, we compute the P(tag|word) for each tag in the tag set and then assign the tag having the max P(tag/word).\n",
    "\n",
    "* P(tag|word)  = (emission probability of the word-tag pair) * (transition probability from the previous tag)."
   ]
  },
  {
   "cell_type": "code",
   "execution_count": 47,
   "metadata": {},
   "outputs": [],
   "source": [
    "# Running on entire test dataset would take more than 3-4hrs. \n",
    "# Let's test our Viterbi algorithm on a few sample sentences of test dataset\n",
    "\n",
    "random.seed(55)\n",
    "\n",
    "# choose random 5 sents\n",
    "rndom = [random.randint(1,len(test_set)) for x in range(5)]\n",
    "\n",
    "# list of sents\n",
    "test_run = [test_set[i] for i in rndom]\n",
    "\n",
    "# list of tagged words\n",
    "test_run_base = [tup for sent in test_run for tup in sent]\n",
    "\n",
    "# list of untagged words\n",
    "test_tagged_words = [tup[0] for sent in test_run for tup in sent]\n"
   ]
  },
  {
   "cell_type": "code",
   "execution_count": 57,
   "metadata": {},
   "outputs": [],
   "source": [
    "#Create function to generate a sample set of 5 sentences from test set \n",
    "def generate_sampl_set(num):\n",
    "    random.seed(num)\n",
    "\n",
    "    # choose random 5 sents\n",
    "    rndom = [random.randint(1,len(test_set)) for x in range(5)]\n",
    "\n",
    "    # list of sents\n",
    "    test_run = [test_set[i] for i in rndom]\n",
    "\n",
    "    # list of tagged words\n",
    "    test_run_base = [tup for sent in test_run for tup in sent]\n",
    "\n",
    "    # list of untagged words\n",
    "    test_tagged_words = [tup[0] for sent in test_run for tup in sent]\n",
    "    \n",
    "    return test_run_base,test_tagged_words"
   ]
  },
  {
   "cell_type": "code",
   "execution_count": 55,
   "metadata": {},
   "outputs": [],
   "source": [
    "test_run_base,test_tagged_words = gen_sampl_set(55)"
   ]
  },
  {
   "cell_type": "code",
   "execution_count": 48,
   "metadata": {},
   "outputs": [
    {
     "data": {
      "text/plain": [
       "[24, 51, 39, 190, 78]"
      ]
     },
     "execution_count": 48,
     "metadata": {},
     "output_type": "execute_result"
    }
   ],
   "source": [
    "rndom\n",
    "\n",
    "#[113, 30, 2, 24, 150] - 1234, 91 to 96\n",
    "#[24, 51, 39, 190, 78] - 55"
   ]
  },
  {
   "cell_type": "code",
   "execution_count": 54,
   "metadata": {},
   "outputs": [
    {
     "data": {
      "text/plain": [
       "['Campbell',\n",
       " \"'s\",\n",
       " 'stock',\n",
       " 'rose',\n",
       " '$',\n",
       " '3.375',\n",
       " '*U*',\n",
       " ',',\n",
       " 'to',\n",
       " '$',\n",
       " '47.125',\n",
       " '*U*',\n",
       " ',',\n",
       " 'in',\n",
       " 'reaction',\n",
       " '.',\n",
       " '``',\n",
       " 'The',\n",
       " 'economy',\n",
       " 'is',\n",
       " 'clearly',\n",
       " 'slowing',\n",
       " ',',\n",
       " \"''\",\n",
       " 'says',\n",
       " '*T*-1',\n",
       " 'Robert',\n",
       " 'Black',\n",
       " ',',\n",
       " 'president',\n",
       " 'of',\n",
       " 'the',\n",
       " 'Richmond',\n",
       " 'Federal',\n",
       " 'Reserve',\n",
       " 'Bank',\n",
       " '.',\n",
       " 'An',\n",
       " 'Upjohn',\n",
       " 'spokesman',\n",
       " 'said',\n",
       " '0',\n",
       " 'he',\n",
       " 'had',\n",
       " '``',\n",
       " 'heard',\n",
       " 'nothing',\n",
       " \"''\",\n",
       " '0',\n",
       " '*T*-3',\n",
       " 'to',\n",
       " 'suggest',\n",
       " '0',\n",
       " 'the',\n",
       " 'early',\n",
       " 'retirement',\n",
       " 'package',\n",
       " 'was',\n",
       " 'spurred',\n",
       " '*-1',\n",
       " 'by',\n",
       " 'shareholder',\n",
       " 'pressure',\n",
       " 'or',\n",
       " 'a',\n",
       " 'potential',\n",
       " 'bidder',\n",
       " 'for',\n",
       " 'the',\n",
       " 'company',\n",
       " ',',\n",
       " 'which',\n",
       " '*T*-2',\n",
       " 'occasionally',\n",
       " 'has',\n",
       " 'been',\n",
       " 'the',\n",
       " 'target',\n",
       " 'of',\n",
       " 'takeover',\n",
       " 'speculation',\n",
       " '.',\n",
       " '``',\n",
       " 'You',\n",
       " \"'ve\",\n",
       " 'got',\n",
       " 'two',\n",
       " 'champions',\n",
       " 'sitting',\n",
       " 'right',\n",
       " 'before',\n",
       " 'you',\n",
       " ',',\n",
       " \"''\",\n",
       " 'said',\n",
       " '*T*-1',\n",
       " 'Mr.',\n",
       " 'Baum',\n",
       " '.',\n",
       " 'Traditionally',\n",
       " ',',\n",
       " 'the',\n",
       " 'card',\n",
       " 'has',\n",
       " 'been',\n",
       " 'used',\n",
       " '*-66',\n",
       " 'mainly',\n",
       " 'for',\n",
       " 'travel',\n",
       " 'and',\n",
       " 'entertainment',\n",
       " 'expenses',\n",
       " '.']"
      ]
     },
     "execution_count": 54,
     "metadata": {},
     "output_type": "execute_result"
    }
   ],
   "source": [
    "test_tagged_words"
   ]
  },
  {
   "cell_type": "code",
   "execution_count": 49,
   "metadata": {},
   "outputs": [],
   "source": [
    "# Create function to calculate vanilaa Viterbi Heuristic algorithm for a given word and train set.\n",
    "\n",
    "def Viterbi_Vanilla(words, train_bag = train_tagged_words):\n",
    "    state = []\n",
    "    T = list(tag_set)\n",
    "    \n",
    "    for key, word in enumerate(words):\n",
    "        #initialise list of probability column for a given observation\n",
    "        p = [] \n",
    "        for tag in T:\n",
    "            if key == 0:\n",
    "                transition_p = tags_df.loc['.', tag]\n",
    "            else:\n",
    "                transition_p = tags_df.loc[state[-1], tag]\n",
    "                \n",
    "            # compute emission and state probabilities\n",
    "            emission_p = word_given_tag(words[key], tag)[0]/word_given_tag(words[key], tag)[1]\n",
    "            state_probability = emission_p * transition_p    \n",
    "            \n",
    "            p.append(state_probability)\n",
    "            \n",
    "        pmax = max(p)\n",
    "        # getting state for which probability is maximum\n",
    "        state_max = T[p.index(pmax)] \n",
    "        state.append(state_max)\n",
    "    return list(zip(words, state))\n"
   ]
  },
  {
   "cell_type": "code",
   "execution_count": 20,
   "metadata": {},
   "outputs": [],
   "source": [
    "#Create Function to check accuracy\n",
    "def check_accuracy(tagged_set, test_run_base,msg):\n",
    "    check = [i for i, j in zip(tagged_set, test_run_base) if i == j] \n",
    "    accuracy = round((len(check)/len(tagged_set))*100,2)\n",
    "    print(msg,accuracy,end='%')\n",
    "\n",
    "# Create Function to check incorrect tag cases.     \n",
    "def check_diff(tagged_set,test_run_base):\n",
    "    incorrect_tagged_cases = [[test_run_base[i-1],j[0],j[1],test_run_base[i+1]] for i, j in enumerate(zip(tagged_set, test_run_base)) if j[0]!=j[1]]\n",
    "    diff_df = pd.DataFrame(incorrect_tagged_cases, columns = ['Previous Word-Tag','Predicted Word-Tag','Actual Word-Tag','Next Word-Tag'])\n",
    "    return diff_df\n",
    "    "
   ]
  },
  {
   "cell_type": "code",
   "execution_count": 50,
   "metadata": {},
   "outputs": [
    {
     "name": "stdout",
     "output_type": "stream",
     "text": [
      "Time taken in seconds:  18.15\n",
      "Accuracy of vanilla Viterbi model:  93.86%"
     ]
    },
    {
     "data": {
      "text/html": [
       "<div>\n",
       "<style scoped>\n",
       "    .dataframe tbody tr th:only-of-type {\n",
       "        vertical-align: middle;\n",
       "    }\n",
       "\n",
       "    .dataframe tbody tr th {\n",
       "        vertical-align: top;\n",
       "    }\n",
       "\n",
       "    .dataframe thead th {\n",
       "        text-align: right;\n",
       "    }\n",
       "</style>\n",
       "<table border=\"1\" class=\"dataframe\">\n",
       "  <thead>\n",
       "    <tr style=\"text-align: right;\">\n",
       "      <th></th>\n",
       "      <th>Previous Word-Tag</th>\n",
       "      <th>Predicted Word-Tag</th>\n",
       "      <th>Actual Word-Tag</th>\n",
       "      <th>Next Word-Tag</th>\n",
       "    </tr>\n",
       "  </thead>\n",
       "  <tbody>\n",
       "    <tr>\n",
       "      <td>0</td>\n",
       "      <td>(potential, ADJ)</td>\n",
       "      <td>(bidder, .)</td>\n",
       "      <td>(bidder, NOUN)</td>\n",
       "      <td>(for, ADP)</td>\n",
       "    </tr>\n",
       "    <tr>\n",
       "      <td>1</td>\n",
       "      <td>(two, NUM)</td>\n",
       "      <td>(champions, .)</td>\n",
       "      <td>(champions, NOUN)</td>\n",
       "      <td>(sitting, VERB)</td>\n",
       "    </tr>\n",
       "    <tr>\n",
       "      <td>2</td>\n",
       "      <td>(champions, NOUN)</td>\n",
       "      <td>(sitting, .)</td>\n",
       "      <td>(sitting, VERB)</td>\n",
       "      <td>(right, ADJ)</td>\n",
       "    </tr>\n",
       "    <tr>\n",
       "      <td>3</td>\n",
       "      <td>(sitting, VERB)</td>\n",
       "      <td>(right, NOUN)</td>\n",
       "      <td>(right, ADJ)</td>\n",
       "      <td>(before, ADP)</td>\n",
       "    </tr>\n",
       "    <tr>\n",
       "      <td>4</td>\n",
       "      <td>(., .)</td>\n",
       "      <td>(Traditionally, .)</td>\n",
       "      <td>(Traditionally, ADV)</td>\n",
       "      <td>(,, .)</td>\n",
       "    </tr>\n",
       "    <tr>\n",
       "      <td>5</td>\n",
       "      <td>(used, VERB)</td>\n",
       "      <td>(*-66, .)</td>\n",
       "      <td>(*-66, X)</td>\n",
       "      <td>(mainly, ADV)</td>\n",
       "    </tr>\n",
       "    <tr>\n",
       "      <td>6</td>\n",
       "      <td>(and, CONJ)</td>\n",
       "      <td>(entertainment, .)</td>\n",
       "      <td>(entertainment, NOUN)</td>\n",
       "      <td>(expenses, NOUN)</td>\n",
       "    </tr>\n",
       "  </tbody>\n",
       "</table>\n",
       "</div>"
      ],
      "text/plain": [
       "   Previous Word-Tag  Predicted Word-Tag        Actual Word-Tag  \\\n",
       "0   (potential, ADJ)         (bidder, .)         (bidder, NOUN)   \n",
       "1         (two, NUM)      (champions, .)      (champions, NOUN)   \n",
       "2  (champions, NOUN)        (sitting, .)        (sitting, VERB)   \n",
       "3    (sitting, VERB)       (right, NOUN)           (right, ADJ)   \n",
       "4             (., .)  (Traditionally, .)   (Traditionally, ADV)   \n",
       "5       (used, VERB)           (*-66, .)              (*-66, X)   \n",
       "6        (and, CONJ)  (entertainment, .)  (entertainment, NOUN)   \n",
       "\n",
       "      Next Word-Tag  \n",
       "0        (for, ADP)  \n",
       "1   (sitting, VERB)  \n",
       "2      (right, ADJ)  \n",
       "3     (before, ADP)  \n",
       "4            (,, .)  \n",
       "5     (mainly, ADV)  \n",
       "6  (expenses, NOUN)  "
      ]
     },
     "execution_count": 50,
     "metadata": {},
     "output_type": "execute_result"
    }
   ],
   "source": [
    "#Test on Vanilla Viterbi model\n",
    "start = time.time()\n",
    "tagged_set1 = Viterbi_Vanilla(test_tagged_words)\n",
    "end = time.time()\n",
    "print(\"Time taken in seconds: \", round(end-start,2))\n",
    "\n",
    "check_accuracy(tagged_set1,test_run_base,'Accuracy of vanilla Viterbi model: ')\n",
    "\n",
    "check_diff(tagged_set1,test_run_base)"
   ]
  },
  {
   "cell_type": "markdown",
   "metadata": {},
   "source": [
    "#### Observations from vanilla Viterbi Model\n",
    "\n",
    "* Most of the unknown words are tagged as '.' since its the first tag\n",
    "* For unknown words Emission probability will be 0 and hence it takes the default flag.\n",
    "* In order to resolve this we can consider only the transition probability and evaluate the accuracy.\n"
   ]
  },
  {
   "cell_type": "markdown",
   "metadata": {},
   "source": [
    "### Solve the problem of unknown words"
   ]
  },
  {
   "cell_type": "code",
   "execution_count": 25,
   "metadata": {},
   "outputs": [
    {
     "name": "stdout",
     "output_type": "stream",
     "text": [
      "Total Unknown words : 6\n",
      "\n",
      "\n",
      "Unknown Words : ['unavailability', '42.1', '79', 'foundations', 'singled', 'Lurie']\n"
     ]
    }
   ],
   "source": [
    "# list unknown words in sample test set compared to train set.\n",
    "\n",
    "test_tagged_set = set([tup[0] for sent in test_run for tup in sent])\n",
    "train_tagged_set = set([tup[0] for sent in train_set for tup in sent])\n",
    "\n",
    "unknown_words = list(test_tagged_set - train_tagged_set)\n",
    "print(\"Total Unknown words :\", len(unknown_words))\n",
    "print(\"\\n\")\n",
    "print(\"Unknown Words :\", unknown_words)\n",
    "\n",
    "#There are 6 words in the sample set which are not in train set.\n",
    "# All these 6 words are tagged as '.', which is first tag out of 12 tag classes universal tag set."
   ]
  },
  {
   "cell_type": "code",
   "execution_count": 71,
   "metadata": {},
   "outputs": [
    {
     "name": "stdout",
     "output_type": "stream",
     "text": [
      "\n",
      " striving\n",
      "Emmision probability:  0.0\n",
      "Transition Probability for tag: . 0.03531786\n",
      "Transition Probability for tag: ADJ 0.06496934\n",
      "Transition Probability for tag: ADP 0.09105022\n",
      "Transition Probability for tag: ADV 0.082201354\n",
      "Transition Probability for tag: CONJ 0.0055111386\n",
      "Transition Probability for tag: DET 0.13490647\n",
      "Transition Probability for tag: NOUN 0.10898083\n",
      "Transition Probability for tag: NUM 0.023286501\n",
      "Transition Probability for tag: PRON 0.03562835\n",
      "Transition Probability for tag: PRT 0.031203913\n",
      "Transition Probability for tag: VERB 0.16805092\n",
      "Transition Probability for tag: X 0.21889311\n",
      "\n",
      " goverment\n",
      "Emmision probability:  0.0\n",
      "Transition Probability:  0.013246241\n"
     ]
    }
   ],
   "source": [
    "#Check the emission and transition probabilities of unknown words.\n",
    "\n",
    "print(\"\\n\", \"striving\")\n",
    "print('Emmision probability: ',word_given_tag('striving', 'VERB')[0]/word_given_tag('striving', 'VERB')[1])\n",
    "\n",
    "for t in tag_set:\n",
    "    print ('Transition Probability for tag -',t ,tags_df.loc['VERB', t])\n",
    "\n",
    "print(\"\\n\", \"goverment\")\n",
    "print('Emmision probability: ',word_given_tag('goverment', 'NOUN')[0]/word_given_tag('goverment', 'NOUN')[1])\n",
    "print ('Transition Probability: ',tags_df.loc['NOUN','DET'])\n",
    "\n",
    "\n",
    "\n",
    "# Emission probability of both words are 0\n",
    "# Transition probability of words are non zero\n",
    "# Since Viterbi considers state probability, unknown words always end up taking first default tag.\n",
    "# To address this we can consider only tranition probability for unknown words in our first technique."
   ]
  },
  {
   "cell_type": "code",
   "execution_count": 62,
   "metadata": {},
   "outputs": [
    {
     "name": "stdout",
     "output_type": "stream",
     "text": [
      "Total Unknown words : 313\n",
      "\n",
      "\n",
      "Unknown Words : ['elementary', '*T*-131', 'pack', 'landing', 'inquiring', 'hitter', 'noble', '139', 'boogieman', 'anticipation', 'presentation', 'interrogated', 'nutrition', 'cardiovascular', 'expense', 'Rusty', 'allies', 'scarcely', 'debenture', 'overtime', 'Sangyo', 'heirs', 'rigged', 'driver', 'broadcasting', 'Rill', 'honorably', '*T*-135', 'nine-month', 'reviewing', 'reimbursed', 'milked', 'riskier', 'Filter', 'cost-control', 'uncanny', '*-93', '1.49', '11\\\\/16', 'Lobsenz', 'Elliott', 'fielded', '*-117', 'vague', 'striving', 'procurement', 'fixes', 'Compare', 'Goodman', '169.9', 'deprivation', 'longest', 'thunder', 'attributes', '45.75', 'Merchant', 'sake', '29year', 'crossed', 'Anku', 'Protection', 'blackjack', 'gradual', '47.5', 'combat', 'salarymen', 'devouring', 'remodeling', 'twist', 'viewpoints', '221.4', 'Campeau', 'fend', 'shake', 'awarding', 'inhibit', 'Columbus', 'rallying', 'pediatrician', 'aftereffects', 'suburban', 'serviced', 'refinery', 'Lindner', 'large-scale', 'Sauvignon', '19.50', 'providers', 'Book', 'gauging', 'Hasbrouk', '3,288,453', 'oils', '*-102', 'condemning', 'shared', '830,000', 'gambler', 'tremendous', 'dominating', 'attendance', 'tailored', 'appointed', '3.01', 'pocket', 'balls', 'solidarity', 'subskill', 'Donoghue', 'Fulbright', 'expands', 'best-seller', 'mushy', 'Fans', 'drastically', 'market-oriented', 'undercut', 'flourish', 'reserve', 'drafted', 'ball', 'countless', 'stock-specialist', 'INQUIRY', 'malnutrition', 'removing', '737.5', 'brunt', 'eases', 'chest', '13\\\\/16', 'EURODOLLARS', 'participation', 'lobbyist', 'Midwesco', 'Irving', 'Continued', 'tightening', 'wires', 'clothing', 'zone', 'one-house', 'commenting', 'interjects', 'Impact', 'Civil', 'generators', 'empty', 'defends', 'Wohlstetter', 'Koizumi', 'refocusing', 'bicameral', 'collateral', '472', 'LATE', 'binders', 'halve', 'lengthened', 'notched', 'painted', 'Century', 'pregnant', 'reliance', 'opinions', 'Skokie', 'Lighthouse', 'chary', '69-point', 'augment', 'unproductive', 'besuboru', 'lawmaking', 'priciest', 'Bramalea', 'somehow', 'hostility', 'bombarding', 'favorably', 'punishment', 'anti-program', 'ushering', 'blue-chips', 'mudslinging', 'dust-up', 'Smelting', 'Jacobs', '57.6', 'signature', 'preparatives', 'Irwin', 'waivers', 'automated', 'bars', 'Schaefer', '*T*-182', 'Hutchinson', '3.253', 'safeguarding', 'searched', 'magnets', 'abide', 'latter', '2163.2', 'CLEARS', 'Ilminster', 'clippings', 'conforms', '*T*-155', 'awfully', 'Billings', 'cleanliness', 'exempt', 'assaults', 'brat', '36.9', 'complain', '576', 'wear', 'pennies', 'manpower', 'depending', 'zoomed', 'upsetting', 'Delegates', 'summoned', 'instructed', 'youthful', 'American-style', 'necessities', 'playwright', 'penetration', 'Walters', 'high-risk', 'insert', 'infectious', 'philosophy', 'Berson', 'flashy', '*T*-107', 'reds', '5.276', 'JUDGE', 'Performing', 'Beige', 'laying', 'Natural', 'dummies', 'Kathryn', '237-seat', 'exploit', 'neutrons', 'commit', 'Enzor', 'incident', 'bat', 'studiously', 'exceeds', 'Blackstone', 'longstanding', 'politely', '*T*-130', 'Rhone', 'Somerset', 'government-funded', '1901', 'radioactivity', '1.1650', 'rapists', 'witches', 'third-highest', 'hierarchical', '*-124', 'TEXAS', 'goverment', 'charts', 'Cheetham', 'Foreigners', 'nonetheless', '138', 'motors', 'tidily', 'Yorkers', '58-year-old', 'cement', 'concentrating', 'closeness', 'arranged', 'lap', 'coincidental', 'warehouses', 'McAuley', 'unwilling', 'counting', 'truthful', 'Environmental', 'count', 'Islamabad', 'viewership', '*T*-236', 'reacted', 'ushers', '*T*-253', '*-41', 'evaluating', 'Discos', 'devised', 'attacking', 'dinosaurs', 'qualities', 'staffs', 'collecting', 'threatens']\n"
     ]
    }
   ],
   "source": [
    "# list all unknown words in whole test set compared to train set.\n",
    "\n",
    "test_tagged_set = set([tup[0] for sent in test_set for tup in sent])\n",
    "train_tagged_set = set([tup[0] for sent in train_set for tup in sent])\n",
    "\n",
    "unknown_words = list(test_tagged_set - train_tagged_set)\n",
    "print(\"Total Unknown words :\", len(unknown_words))\n",
    "print(\"\\n\")\n",
    "print(\"Unknown Words :\", unknown_words)\n",
    "\n",
    "# There are total of 313 unknown words in the test set.\n",
    "# words vary from numbers, X tag words with '*' in it and regular words.\n",
    "# Since we know all numbers fall under NUM tag excep 0, we can default it to NUM in our viterbi modified technique."
   ]
  },
  {
   "cell_type": "markdown",
   "metadata": {},
   "source": [
    "### Viterbi Modification-Technique I\n",
    "As per the analysis from unknown words,\n",
    "\n",
    "* For unknow words consider only Transition probability.\n",
    "* For words containing only numbers, tag it to NUM by default.\n"
   ]
  },
  {
   "cell_type": "code",
   "execution_count": 30,
   "metadata": {},
   "outputs": [],
   "source": [
    "# Modification of Viterbi Heuristic algorithm to consider only Transition probability for unknown words and Num words.\n",
    "def Viterbi_m1(words, train_bag = train_tagged_words):\n",
    "    state = []\n",
    "    T = list(tag_set)\n",
    "    \n",
    "    for key, word in enumerate(words):\n",
    "        #initialise list of probability column for a given observation\n",
    "        p = [] \n",
    "        num_word=re.search('^[0-9]*.?[0-9]*[0-9]$',word)\n",
    "        \n",
    "        #if a word is number and not in train set then assign it to NUM tag\n",
    "        if num_word and word not in train_vocabulary_set:\n",
    "            state.append('NUM')\n",
    "        else:\n",
    "            for tag in T:\n",
    "                if key == 0:\n",
    "                    transition_p = tags_df.loc['.', tag]\n",
    "                else:\n",
    "                    transition_p = tags_df.loc[state[-1], tag]\n",
    "                \n",
    "                # compute emission and state probabilities\n",
    "                emission_p = word_given_tag(words[key], tag)[0]/word_given_tag(words[key], tag)[1]\n",
    "            \n",
    "                # modification to the original vanilla viterbi algorithm \n",
    "                # If word in unknown then consider only the transition_p \n",
    "            \n",
    "                if word not in train_vocabulary_set:\n",
    "                \n",
    "                    state_probability = transition_p\n",
    "                else:\n",
    "                    state_probability = emission_p * transition_p\n",
    "            \n",
    "            \n",
    "                p.append(state_probability)\n",
    "            \n",
    "            pmax = max(p)\n",
    "            # getting state for which probability is maximum\n",
    "            state_max = T[p.index(pmax)] \n",
    "            state.append(state_max)\n",
    "    return list(zip(words, state))\n"
   ]
  },
  {
   "cell_type": "code",
   "execution_count": 51,
   "metadata": {},
   "outputs": [
    {
     "name": "stdout",
     "output_type": "stream",
     "text": [
      "Time taken in seconds:  18.14\n",
      "Accuracy of Modified Viterbi Model 1:  97.37%"
     ]
    },
    {
     "data": {
      "text/html": [
       "<div>\n",
       "<style scoped>\n",
       "    .dataframe tbody tr th:only-of-type {\n",
       "        vertical-align: middle;\n",
       "    }\n",
       "\n",
       "    .dataframe tbody tr th {\n",
       "        vertical-align: top;\n",
       "    }\n",
       "\n",
       "    .dataframe thead th {\n",
       "        text-align: right;\n",
       "    }\n",
       "</style>\n",
       "<table border=\"1\" class=\"dataframe\">\n",
       "  <thead>\n",
       "    <tr style=\"text-align: right;\">\n",
       "      <th></th>\n",
       "      <th>Previous Word-Tag</th>\n",
       "      <th>Predicted Word-Tag</th>\n",
       "      <th>Actual Word-Tag</th>\n",
       "      <th>Next Word-Tag</th>\n",
       "    </tr>\n",
       "  </thead>\n",
       "  <tbody>\n",
       "    <tr>\n",
       "      <td>0</td>\n",
       "      <td>(champions, NOUN)</td>\n",
       "      <td>(sitting, NOUN)</td>\n",
       "      <td>(sitting, VERB)</td>\n",
       "      <td>(right, ADJ)</td>\n",
       "    </tr>\n",
       "    <tr>\n",
       "      <td>1</td>\n",
       "      <td>(sitting, VERB)</td>\n",
       "      <td>(right, NOUN)</td>\n",
       "      <td>(right, ADJ)</td>\n",
       "      <td>(before, ADP)</td>\n",
       "    </tr>\n",
       "    <tr>\n",
       "      <td>2</td>\n",
       "      <td>(., .)</td>\n",
       "      <td>(Traditionally, NOUN)</td>\n",
       "      <td>(Traditionally, ADV)</td>\n",
       "      <td>(,, .)</td>\n",
       "    </tr>\n",
       "  </tbody>\n",
       "</table>\n",
       "</div>"
      ],
      "text/plain": [
       "   Previous Word-Tag     Predicted Word-Tag       Actual Word-Tag  \\\n",
       "0  (champions, NOUN)        (sitting, NOUN)       (sitting, VERB)   \n",
       "1    (sitting, VERB)          (right, NOUN)          (right, ADJ)   \n",
       "2             (., .)  (Traditionally, NOUN)  (Traditionally, ADV)   \n",
       "\n",
       "   Next Word-Tag  \n",
       "0   (right, ADJ)  \n",
       "1  (before, ADP)  \n",
       "2         (,, .)  "
      ]
     },
     "execution_count": 51,
     "metadata": {},
     "output_type": "execute_result"
    }
   ],
   "source": [
    "#Test on modified Viterbi model\n",
    "start = time.time()\n",
    "tagged_set2 = Viterbi_m1(test_tagged_words)\n",
    "end = time.time()\n",
    "print(\"Time taken in seconds: \", round(end-start,2))\n",
    "\n",
    "check_accuracy(tagged_set2,test_run_base,'Accuracy of Modified Viterbi Model 1: ')\n",
    "\n",
    "check_diff(tagged_set2,test_run_base)"
   ]
  },
  {
   "cell_type": "markdown",
   "metadata": {},
   "source": [
    "#### Observations after applying Technique 1\n",
    "* After modifying vanilla Viterbi to consider only Transition probaility for unknown words, Words are not tagged to Default tags now.\n",
    "* Accuracy has improved significantly from 88% to 92.3%. \n",
    "* Since Viterbi Model is Greedy approach, it goes with max probability eventhough other combinations are valid.Hence, some words might be wrongly tagged.\n",
    "* Also, Viterbu model do not look ahead and just considers previous tag. Hence some tag which are VERB like 'Counts' in this example gets tagged as Noun. To solve this prolem we can look in to previous 2 tags or even Symantic processing.\n"
   ]
  },
  {
   "cell_type": "markdown",
   "metadata": {},
   "source": [
    "### Viterbi Modification-Technique 2\n",
    "\n",
    "1. In this approach we will consider _Morphological feature_ to define some patterns. The internal structure of a word may give useful clues as to the word's category. For example, -ness is a suffix that combines with an adjective to produce a noun.\n",
    "2. Additionally to morphological cues, we will use _Backoff techniques_ like unigram, bigram and trigram to improve the accuracy.\n",
    "\n"
   ]
  },
  {
   "cell_type": "code",
   "execution_count": 34,
   "metadata": {},
   "outputs": [],
   "source": [
    "# Define various morphological cues patterns in English \n",
    "patterns = [\n",
    "    (r'[aA-zZ]+(ed|ing|es)$', 'VERB'), # Any word ending with 'ing' or 'ed' or es is a verb\n",
    "    (r'.*ly$', 'ADV'),                 # Words like really, early are Adverbs.\n",
    "    (r'^([0-9]|[aA-zZ])+\\-[aA-zZ]*$','ADJ'), # words with a hyphen followed by alphabets like \n",
    "    (r'.*able$', 'ADJ'),               # Words like agreeable,Measurable are Adjectives   \n",
    "    (r'.*ful$', 'ADJ'),                # Words like Beautiful, Thankful falls under Adjective tags.\n",
    "    (r'.*ous$', 'ADJ'),                # Words like dangerous \n",
    "        \n",
    "    (r'^[aA-zZ].*[0-9]+','NOUN'),     # Alpha Numeric words are generally a Noun.\n",
    "    (r'.*ness$', 'NOUN'),             # Abstract nouns like happiness, loneliness\n",
    "    (r'.*\\'s$', 'NOUN'),              # possessive nouns - words ending with 's\n",
    "    (r'.*s$', 'NOUN'),                # plural nouns\n",
    "    (r'.*ers$', 'NOUN'),              # Words like Bankers, employers.\n",
    "    (r'.*ment$', 'NOUN'),             # Abstract nouns like argument, movement.\n",
    "    (r'.*town$', 'NOUN'),             # Place names ending with town.\n",
    "        \n",
    "    (r'^(0|([*|-|$].*))','X'), # Any special character combination\n",
    "    (r'.*ould$', 'X'),         # Words like Could, would etc. \n",
    "        \n",
    "    (r'(The|the|A|a|An|an|That|that|This|this|Those|those|These|these)$', 'DET'), # That/this/these/those belong to the category of Demonstrative determiners\n",
    "    (r'^[0-9]*.?[0-9]*[0-9]$','NUM'),  #All numbers with or without decimals\n",
    "    (r'.*', 'NOUN')   # If it is not matching any of the above patterns then assign it to Noun by default as it is most frequent POS tag.\n",
    "    ]\n",
    "\n",
    "    "
   ]
  },
  {
   "cell_type": "code",
   "execution_count": 46,
   "metadata": {},
   "outputs": [],
   "source": [
    "# Assign morphological cues to Regex tagger.\n",
    "regex_tagger = nltk.RegexpTagger(patterns)\n",
    "\n",
    "#Define Unigram tagger with reges as backoff method.\n",
    "unigram_tagger = nltk.UnigramTagger(train_set, backoff = regex_tagger)\n",
    "\n",
    "#Define Bigram tagger with unigram as backoff method.\n",
    "bigram_tagger = nltk.BigramTagger(train_set, backoff = unigram_tagger)\n",
    "\n",
    "#Define trigram tagger with bigram as backoff method.\n",
    "trigram_tagger = nltk.TrigramTagger(train_set, backoff = bigram_tagger)"
   ]
  },
  {
   "cell_type": "code",
   "execution_count": 44,
   "metadata": {},
   "outputs": [],
   "source": [
    "# Modification of Viterbi Heuristic algorithm to backoff technique to tag unknown words.\n",
    "\n",
    "def Viterbi_m2(words, train_bag = train_tagged_words):\n",
    "    state = []\n",
    "    T = list(tag_set)\n",
    "    \n",
    "    for key, word in enumerate(words):\n",
    "        #initialise list of probability column for a given observation\n",
    "        p = [] \n",
    "        \n",
    "        #Use Trigram tagger for unknow words.\n",
    "        if word not in train_vocabulary_set:\n",
    "            \n",
    "            unknown_word_tag = trigram_tagger.tag_sents([[(word)]])\n",
    "            for sent in unknown_word_tag:\n",
    "                for tup in sent:\n",
    "                    if tup[1] == None:\n",
    "                        state.append('NOUN')\n",
    "                    else:\n",
    "                        state.append(tup[1])\n",
    "        \n",
    "        else:\n",
    "            for tag in T:\n",
    "                if key == 0:\n",
    "                    transition_p = tags_df.loc['.', tag]\n",
    "                else:\n",
    "                    transition_p = tags_df.loc[state[-1], tag]\n",
    "                \n",
    "                # compute emission and state probabilities\n",
    "                emission_p = word_given_tag(words[key], tag)[0]/word_given_tag(words[key], tag)[1]\n",
    "                state_probability = emission_p * transition_p\n",
    "                p.append(state_probability)\n",
    "            \n",
    "            pmax = max(p)\n",
    "            # getting state for which probability is maximum\n",
    "            state_max = T[p.index(pmax)] \n",
    "            state.append(state_max)\n",
    "    return list(zip(words, state))\n"
   ]
  },
  {
   "cell_type": "code",
   "execution_count": 52,
   "metadata": {},
   "outputs": [
    {
     "name": "stdout",
     "output_type": "stream",
     "text": [
      "Time taken in seconds:  17.84\n",
      "Accuracy of Modified Viterbi Model 2:  99.12%"
     ]
    },
    {
     "data": {
      "text/html": [
       "<div>\n",
       "<style scoped>\n",
       "    .dataframe tbody tr th:only-of-type {\n",
       "        vertical-align: middle;\n",
       "    }\n",
       "\n",
       "    .dataframe tbody tr th {\n",
       "        vertical-align: top;\n",
       "    }\n",
       "\n",
       "    .dataframe thead th {\n",
       "        text-align: right;\n",
       "    }\n",
       "</style>\n",
       "<table border=\"1\" class=\"dataframe\">\n",
       "  <thead>\n",
       "    <tr style=\"text-align: right;\">\n",
       "      <th></th>\n",
       "      <th>Previous Word-Tag</th>\n",
       "      <th>Predicted Word-Tag</th>\n",
       "      <th>Actual Word-Tag</th>\n",
       "      <th>Next Word-Tag</th>\n",
       "    </tr>\n",
       "  </thead>\n",
       "  <tbody>\n",
       "    <tr>\n",
       "      <td>0</td>\n",
       "      <td>(sitting, VERB)</td>\n",
       "      <td>(right, ADV)</td>\n",
       "      <td>(right, ADJ)</td>\n",
       "      <td>(before, ADP)</td>\n",
       "    </tr>\n",
       "  </tbody>\n",
       "</table>\n",
       "</div>"
      ],
      "text/plain": [
       "  Previous Word-Tag Predicted Word-Tag Actual Word-Tag  Next Word-Tag\n",
       "0   (sitting, VERB)       (right, ADV)    (right, ADJ)  (before, ADP)"
      ]
     },
     "execution_count": 52,
     "metadata": {},
     "output_type": "execute_result"
    }
   ],
   "source": [
    "#Test on modified Viterbi model\n",
    "start = time.time()\n",
    "tagged_set3 = Viterbi_m2(test_tagged_words)\n",
    "end = time.time()\n",
    "print(\"Time taken in seconds: \", round(end-start,2))\n",
    "\n",
    "check_accuracy(tagged_set3,test_run_base,'Accuracy of Modified Viterbi Model 2: ')\n",
    "\n",
    "check_diff(tagged_set3,test_run_base)"
   ]
  },
  {
   "cell_type": "markdown",
   "metadata": {},
   "source": [
    "#### Observations after applying Technique 2.\n",
    "\n",
    "* Model accuracy improved to 92%\n",
    "* It could tag the words like 'Striving' properly to Verb instead of Noun.\n",
    "* There are some more words which are tagged incorrectly. These are the limitations of HMM and Viterbi models as it considers previous n tags instead of understanding the context of the sentence.\n"
   ]
  },
  {
   "cell_type": "markdown",
   "metadata": {},
   "source": [
    "#### Evaluating tagging accuracy\n",
    "\n",
    "Lets evaluate some sentences from test file provided in the assignment."
   ]
  },
  {
   "cell_type": "code",
   "execution_count": 38,
   "metadata": {},
   "outputs": [
    {
     "data": {
      "text/plain": [
       "['Android is a mobile operating system developed by Google.',\n",
       " 'Android has been the best-selling OS worldwide on smartphones since 2011 and on tablets since 2013.',\n",
       " \"Google and Twitter made a deal in 2015 that gave Google access to Twitter's firehose.\",\n",
       " 'Twitter is an online news and social networking service on which users post and interact with messages known as tweets.',\n",
       " 'Before entering politics, Donald Trump was a domineering businessman and a television personality.',\n",
       " 'The 2018 FIFA World Cup is the 21st FIFA World Cup, an international football tournament contested once every four years.',\n",
       " 'This is the first World Cup to be held in Eastern Europe and the 11th time that it has been held in Europe.',\n",
       " 'Show me the cheapest round trips from Dallas to Atlanta',\n",
       " 'I would like to see flights from Denver to Philadelphia.',\n",
       " 'Show me the price of the flights leaving Atlanta at about 3 in the afternoon and arriving in San Francisco.',\n",
       " 'NASA invited social media users to experience the launch of ICESAT-2 Satellite.']"
      ]
     },
     "execution_count": 38,
     "metadata": {},
     "output_type": "execute_result"
    }
   ],
   "source": [
    "#Read the file and split into sentences.\n",
    "\n",
    "f = open('Test_sentences.txt')\n",
    "text = f.read()\n",
    "sample_test_sent = text.splitlines()\n",
    "f.close()\n",
    "sample_test_sent"
   ]
  },
  {
   "cell_type": "code",
   "execution_count": 39,
   "metadata": {},
   "outputs": [],
   "source": [
    "# list of untagged words\n",
    "\n",
    "sample_test_words = [word for sent in sample_test_sent for word in sent.split()]"
   ]
  },
  {
   "cell_type": "code",
   "execution_count": 40,
   "metadata": {},
   "outputs": [],
   "source": [
    "# tagging the test sentences\n",
    "tagged_seq_tst = Viterbi_m2(sample_test_words)\n"
   ]
  },
  {
   "cell_type": "code",
   "execution_count": 41,
   "metadata": {},
   "outputs": [
    {
     "data": {
      "text/plain": [
       "[('Android', 'NOUN'),\n",
       " ('is', 'VERB'),\n",
       " ('a', 'DET'),\n",
       " ('mobile', 'ADJ'),\n",
       " ('operating', 'NOUN'),\n",
       " ('system', 'NOUN'),\n",
       " ('developed', 'VERB'),\n",
       " ('by', 'ADP'),\n",
       " ('Google.', 'NOUN')]"
      ]
     },
     "execution_count": 41,
     "metadata": {},
     "output_type": "execute_result"
    }
   ],
   "source": [
    "#Lets find the POS tagging of 1st sentence. 'Android is a mobile operating system developed by Google.'\n",
    "tagged_seq_tst[:9]\n",
    "\n",
    "# All tags have been properly identified for this sentences\n",
    "# There are some new words like Android and Google which are properly tagged as Noun."
   ]
  },
  {
   "cell_type": "code",
   "execution_count": 42,
   "metadata": {},
   "outputs": [
    {
     "data": {
      "text/plain": [
       "[('Before', 'ADP'),\n",
       " ('entering', 'VERB'),\n",
       " ('politics,', 'NOUN'),\n",
       " ('Donald', 'NOUN'),\n",
       " ('Trump', 'NOUN'),\n",
       " ('was', 'VERB'),\n",
       " ('a', 'DET'),\n",
       " ('domineering', 'VERB'),\n",
       " ('businessman', 'NOUN'),\n",
       " ('and', 'CONJ'),\n",
       " ('a', 'DET'),\n",
       " ('television', 'NOUN'),\n",
       " ('personality.', 'NOUN')]"
      ]
     },
     "execution_count": 42,
     "metadata": {},
     "output_type": "execute_result"
    }
   ],
   "source": [
    "#Lets find the POS tagging of 1st sentence. 'Android is a mobile operating system developed by Google.'\n",
    "tagged_seq_tst[60:73]\n",
    "\n",
    "# Except 1 tag, all words are properly tagged properly.\n",
    "# Unknow nouns are identified correctly in this sentence like Donald Trump and politics.\n",
    "# Unknown word 'domineering' is tagged as Verb insted of Adjective in this sentence. This is tagged using our morphological cues defined in regex_tagger."
   ]
  },
  {
   "cell_type": "markdown",
   "metadata": {},
   "source": [
    "### Compare the tagging accuracies of the modifications with the vanilla Viterbi algorithm"
   ]
  },
  {
   "cell_type": "code",
   "execution_count": 68,
   "metadata": {},
   "outputs": [
    {
     "name": "stdout",
     "output_type": "stream",
     "text": [
      "\n",
      " ----Comparing tagging accuracy for random set 1 ----\n",
      "Accuracy of vanilla Viterbi model:  87.07%\n",
      "Accuracy of Modified Viterbi Model 1:  91.38%\n",
      "Accuracy of Modified Viterbi Model 2:  92.24%\n",
      "\n",
      "\n",
      " ----Comparing tagging accuracy for random set 2 ----\n",
      "Accuracy of vanilla Viterbi model:  92.91%\n",
      "Accuracy of Modified Viterbi Model 1:  95.28%\n",
      "Accuracy of Modified Viterbi Model 2:  97.64%\n",
      "\n",
      "\n",
      " ----Comparing tagging accuracy for random set 3 ----\n",
      "Accuracy of vanilla Viterbi model:  93.48%\n",
      "Accuracy of Modified Viterbi Model 1:  97.83%\n",
      "Accuracy of Modified Viterbi Model 2:  97.83%\n",
      "\n"
     ]
    }
   ],
   "source": [
    "random_set=['124','123','55']\n",
    "cnt=1\n",
    "for num in random_set:\n",
    "    print(\"\\n ----Comparing tagging accuracy for random set\",cnt,\"----\\n\")\n",
    "    test_run_base,test_tagged_words=generate_sampl_set(num)\n",
    "    tagged_set_vanilla = Viterbi_Vanilla(test_tagged_words)\n",
    "    tagged_set_m1 = Viterbi_m1(test_tagged_words)\n",
    "    tagged_set_m2 = Viterbi_m2(test_tagged_words)\n",
    "    cnt+=1\n",
    "\n",
    "    check_accuracy(tagged_set_vanilla,test_run_base,'Accuracy of vanilla Viterbi model: ')\n",
    "    check_accuracy(tagged_set_m1,test_run_base,'\\nAccuracy of Modified Viterbi Model 1: ')\n",
    "    check_accuracy(tagged_set_m2,test_run_base,'\\nAccuracy of Modified Viterbi Model 2: ')\n",
    "    print(\"\\n\")\n",
    "\n"
   ]
  },
  {
   "cell_type": "code",
   "execution_count": 84,
   "metadata": {},
   "outputs": [
    {
     "name": "stdout",
     "output_type": "stream",
     "text": [
      "\n",
      " counts\n",
      "Emmision probability:  3.649102320829076e-05\n",
      "Transition Probability for tag - NOUN 0.26521677\n",
      "Transition Probability for tag - VERB 0.1471683\n"
     ]
    }
   ],
   "source": [
    "#Check emission and transition probability of some incorrect tagged words after applying Technique 1\n",
    "print(\"\\n\", \"counts\")\n",
    "print('Emmision probability: ',word_given_tag('counts', 'NOUN')[0]/word_given_tag('counts', 'NOUN')[1])\n",
    "\n",
    "for t in ['NOUN','VERB']:\n",
    "    print ('Transition Probability for tag -',t ,tags_df.loc['NOUN', t])\n",
    "    \n",
    "# "
   ]
  },
  {
   "cell_type": "code",
   "execution_count": null,
   "metadata": {},
   "outputs": [],
   "source": []
  },
  {
   "cell_type": "markdown",
   "metadata": {},
   "source": [
    "### List down cases which were incorrectly tagged by original POS tagger and got corrected by your modifications"
   ]
  },
  {
   "cell_type": "code",
   "execution_count": null,
   "metadata": {},
   "outputs": [],
   "source": []
  },
  {
   "cell_type": "code",
   "execution_count": null,
   "metadata": {},
   "outputs": [],
   "source": []
  },
  {
   "cell_type": "code",
   "execution_count": null,
   "metadata": {},
   "outputs": [],
   "source": []
  }
 ],
 "metadata": {
  "kernelspec": {
   "display_name": "Python 3",
   "language": "python",
   "name": "python3"
  },
  "language_info": {
   "codemirror_mode": {
    "name": "ipython",
    "version": 3
   },
   "file_extension": ".py",
   "mimetype": "text/x-python",
   "name": "python",
   "nbconvert_exporter": "python",
   "pygments_lexer": "ipython3",
   "version": "3.7.4"
  }
 },
 "nbformat": 4,
 "nbformat_minor": 2
}
