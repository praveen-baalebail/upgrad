{
 "cells": [
  {
   "cell_type": "markdown",
   "metadata": {},
   "source": [
    "## Assignment - Syntactic Analysis"
   ]
  },
  {
   "cell_type": "markdown",
   "metadata": {},
   "source": [
    "### Table of Contents\n",
    "\n",
    "1. Problem Statement \n",
    "2. Data Preparation\n",
    "3. Build the vanilla Viterbi based POS tagger\n",
    "4. Technique 1 to handle unknown words\n",
    "5. Technique 2 to handle unkown words and improve accuracy\n",
    "6. Model Evaluation\n",
    "7. Summary\n"
   ]
  },
  {
   "cell_type": "markdown",
   "metadata": {},
   "source": [
    "### 1. Problem Statement\n",
    "\n",
    "In this assignment, we need to modify the Viterbi algorithm to solve the problem of unknown words using at least two techniques.\n",
    "\n",
    "##### Here are the High level steps we need to acomplish.\n",
    "\n",
    "1. Write the vanilla Viterbi algorithm for assigning POS tags (i.e. without dealing with unknown words) \n",
    "2.  Solve the problem of unknown words using at least two techniques. \n",
    "3.  Compare the tagging accuracy after making these modifications with the vanilla Viterbi algorithm.\n",
    "4.  List down at least three cases from the sample test file (i.e. unknown word-tag pairs) which were incorrectly tagged by the original Viterbi POS tagger and got corrected after your modifications\n"
   ]
  },
  {
   "cell_type": "markdown",
   "metadata": {},
   "source": [
    "### 2. Data Preparation\n",
    "\n",
    "* Import required libraries\n",
    "* For this assignment, we will use the Treebank dataset of NLTK with the 'universal' tagset. The Universal tagset of NLTK comprises only 12 coarse tag classes.\n",
    "* Split data into 95:5 ratio for train and test.\n",
    "* Data analysis like no.of train set, types of tag set, frequent tag sets.\n",
    "* create functions to calculate Emission probability and Transition probability."
   ]
  },
  {
   "cell_type": "code",
   "execution_count": 1,
   "metadata": {},
   "outputs": [],
   "source": [
    "#Importing libraries\n",
    "import nltk, re, pprint\n",
    "import numpy as np\n",
    "import pandas as pd\n",
    "import requests\n",
    "import matplotlib.pyplot as plt\n",
    "import seaborn as sns\n",
    "import pprint, time\n",
    "import random\n",
    "from sklearn.model_selection import train_test_split\n",
    "from nltk.tokenize import word_tokenize\n"
   ]
  },
  {
   "cell_type": "code",
   "execution_count": 2,
   "metadata": {},
   "outputs": [],
   "source": [
    "# reading the Treebank tagged 'universal' sentences\n",
    "nltk_data = list(nltk.corpus.treebank.tagged_sents(tagset='universal'))"
   ]
  },
  {
   "cell_type": "code",
   "execution_count": 3,
   "metadata": {},
   "outputs": [
    {
     "name": "stdout",
     "output_type": "stream",
     "text": [
      "3914\n",
      "[[('Pierre', 'NOUN'), ('Vinken', 'NOUN'), (',', '.'), ('61', 'NUM'), ('years', 'NOUN'), ('old', 'ADJ'), (',', '.'), ('will', 'VERB'), ('join', 'VERB'), ('the', 'DET'), ('board', 'NOUN'), ('as', 'ADP'), ('a', 'DET'), ('nonexecutive', 'ADJ'), ('director', 'NOUN'), ('Nov.', 'NOUN'), ('29', 'NUM'), ('.', '.')], [('Mr.', 'NOUN'), ('Vinken', 'NOUN'), ('is', 'VERB'), ('chairman', 'NOUN'), ('of', 'ADP'), ('Elsevier', 'NOUN'), ('N.V.', 'NOUN'), (',', '.'), ('the', 'DET'), ('Dutch', 'NOUN'), ('publishing', 'VERB'), ('group', 'NOUN'), ('.', '.')], [('Rudolph', 'NOUN'), ('Agnew', 'NOUN'), (',', '.'), ('55', 'NUM'), ('years', 'NOUN'), ('old', 'ADJ'), ('and', 'CONJ'), ('former', 'ADJ'), ('chairman', 'NOUN'), ('of', 'ADP'), ('Consolidated', 'NOUN'), ('Gold', 'NOUN'), ('Fields', 'NOUN'), ('PLC', 'NOUN'), (',', '.'), ('was', 'VERB'), ('named', 'VERB'), ('*-1', 'X'), ('a', 'DET'), ('nonexecutive', 'ADJ'), ('director', 'NOUN'), ('of', 'ADP'), ('this', 'DET'), ('British', 'ADJ'), ('industrial', 'ADJ'), ('conglomerate', 'NOUN'), ('.', '.')]]\n"
     ]
    }
   ],
   "source": [
    "# first few tagged sentences\n",
    "print(len(nltk_data))  #no of tagged sentences\n",
    "print(nltk_data[:3])\n",
    "\n",
    "#We have around 3914 sentences from the dataset."
   ]
  },
  {
   "cell_type": "code",
   "execution_count": 4,
   "metadata": {},
   "outputs": [
    {
     "name": "stdout",
     "output_type": "stream",
     "text": [
      "3718\n",
      "196\n"
     ]
    }
   ],
   "source": [
    "# Splitting into train and test into 95:5 ratio. \n",
    "random.seed(1234)\n",
    "train_set, test_set = train_test_split(nltk_data,test_size=0.05)\n",
    "\n",
    "print(len(train_set))\n",
    "print(len(test_set)) \n",
    "\n",
    "#Data is split into 95:5 ratio. Keeping the validation set small to restrict the runtime."
   ]
  },
  {
   "cell_type": "code",
   "execution_count": 5,
   "metadata": {},
   "outputs": [
    {
     "data": {
      "text/plain": [
       "95790"
      ]
     },
     "execution_count": 5,
     "metadata": {},
     "output_type": "execute_result"
    }
   ],
   "source": [
    "# Getting list of tagged words\n",
    "train_tagged_words = [tup for sent in train_set for tup in sent]\n",
    "len(train_tagged_words)\n",
    "\n",
    "#We have 95K words in train set."
   ]
  },
  {
   "cell_type": "code",
   "execution_count": 6,
   "metadata": {},
   "outputs": [
    {
     "data": {
      "text/plain": [
       "[('NOUN', 27434),\n",
       " ('VERB', 12901),\n",
       " ('.', 11143),\n",
       " ('ADP', 9355),\n",
       " ('DET', 8333),\n",
       " ('X', 6307),\n",
       " ('ADJ', 6098),\n",
       " ('NUM', 3372),\n",
       " ('PRT', 3067),\n",
       " ('ADV', 3022),\n",
       " ('PRON', 2586),\n",
       " ('CONJ', 2172)]"
      ]
     },
     "execution_count": 6,
     "metadata": {},
     "output_type": "execute_result"
    }
   ],
   "source": [
    "# Which is the most frequent tag in the corpus\n",
    "from collections import Counter\n",
    "\n",
    "tags = [pair[1] for pair in train_tagged_words]\n",
    "tag_counts = Counter(tags)\n",
    "tag_counts.most_common()\n",
    "\n",
    "# Noun is the most common POS tag followed by VERB and then by '.'\n",
    "# There are 12 unique POS tags in the data set."
   ]
  },
  {
   "cell_type": "code",
   "execution_count": 7,
   "metadata": {},
   "outputs": [
    {
     "data": {
      "text/plain": [
       "[((',', '.'), 4650),\n",
       " (('.', '.'), 3636),\n",
       " (('$', '.'), 671),\n",
       " (('``', '.'), 671),\n",
       " ((\"''\", '.'), 653),\n",
       " (('--', '.'), 222),\n",
       " ((';', '.'), 158),\n",
       " ((':', '.'), 137),\n",
       " (('-RRB-', '.'), 110),\n",
       " (('-LRB-', '.'), 104)]"
      ]
     },
     "execution_count": 7,
     "metadata": {},
     "output_type": "execute_result"
    }
   ],
   "source": [
    "# Which word is most commonly assigned to the tag '.'\n",
    "p_tags = [pair for pair in train_tagged_words if pair[1].lower() == '.']\n",
    "p_counts = Counter(p_tags)\n",
    "p_counts.most_common()[:10]\n",
    "\n",
    "#Punctuation marks and character groups used in to delimit linguistic units is tagged to '.'"
   ]
  },
  {
   "cell_type": "code",
   "execution_count": 8,
   "metadata": {},
   "outputs": [
    {
     "data": {
      "text/plain": [
       "[(('*-1', 'X'), 1067),\n",
       " (('0', 'X'), 1047),\n",
       " (('*', 'X'), 916),\n",
       " (('*T*-1', 'X'), 777),\n",
       " (('*U*', 'X'), 696),\n",
       " (('*-2', 'X'), 354),\n",
       " (('*T*-2', 'X'), 334),\n",
       " (('*-3', 'X'), 127),\n",
       " (('*T*-3', 'X'), 92),\n",
       " (('*ICH*-1', 'X'), 68)]"
      ]
     },
     "execution_count": 8,
     "metadata": {},
     "output_type": "execute_result"
    }
   ],
   "source": [
    "# Which word is most commonly assigned to the tag '.'\n",
    "x_tags = [pair for pair in train_tagged_words if pair[1] == 'X']\n",
    "x_counts = Counter(x_tags)\n",
    "x_counts.most_common()[:10]\n",
    "\n",
    "# The tag X is used for words that for some reason cannot be assigned to a real part-of-speech category.\n",
    "# Words containg patterns with '*' symbols in it.\n",
    "# Numerical 0 is also tagged to X instead of Num."
   ]
  },
  {
   "cell_type": "code",
   "execution_count": 9,
   "metadata": {},
   "outputs": [
    {
     "name": "stdout",
     "output_type": "stream",
     "text": [
      "12063\n"
     ]
    }
   ],
   "source": [
    "# Get all unique word vocabulary from the data set. Also called as tokens \n",
    "\n",
    "tokens = [pair[0] for pair in train_tagged_words]\n",
    "train_vocabulary_set = set(tokens)\n",
    "print(len(train_vocabulary_set))\n",
    "\n",
    "#There are around 12k unique Vocabulary in train set."
   ]
  },
  {
   "cell_type": "code",
   "execution_count": 10,
   "metadata": {},
   "outputs": [
    {
     "name": "stdout",
     "output_type": "stream",
     "text": [
      "12\n",
      "['.', 'ADJ', 'ADP', 'ADV', 'CONJ', 'DET', 'NOUN', 'NUM', 'PRON', 'PRT', 'VERB', 'X']\n"
     ]
    }
   ],
   "source": [
    "# Get all unique POS tags from the data set. \n",
    "tag_set = sorted(set([pair[1] for pair in train_tagged_words]))\n",
    "print(len(tag_set))\n",
    "print(tag_set)\n",
    "\n",
    "#There are 12 tag sets in the tagged word set. This will be used for our training."
   ]
  },
  {
   "cell_type": "code",
   "execution_count": 11,
   "metadata": {},
   "outputs": [],
   "source": [
    "# computing P(w/t) and storing in T x V matrix\n",
    "\n",
    "t = len(tag_set)\n",
    "v = len(train_vocabulary_set)\n",
    "w_given_t = np.zeros((t, v))"
   ]
  },
  {
   "cell_type": "code",
   "execution_count": 12,
   "metadata": {},
   "outputs": [],
   "source": [
    "# compute word given tag: Emission Probability\n",
    "def word_given_tag(word, tag, train_bag = train_tagged_words):\n",
    "    tag_list = [pair for pair in train_bag if pair[1]==tag]\n",
    "    count_tag = len(tag_list)\n",
    "    w_given_tag_list = [pair[0] for pair in tag_list if pair[0]==word]\n",
    "    count_w_given_tag = len(w_given_tag_list)\n",
    "    \n",
    "    return (count_w_given_tag, count_tag)\n",
    "\n",
    "# compute tag given tag: tag2(t2) given tag1 (t1), i.e. Transition Probability\n",
    "\n",
    "def t2_given_t1(t2, t1, train_bag = train_tagged_words):\n",
    "    tags = [pair[1] for pair in train_bag]\n",
    "    count_t1 = len([t for t in tags if t==t1])\n",
    "    count_t2_t1 = 0\n",
    "    for index in range(len(tags)-1):\n",
    "        if tags[index]==t1 and tags[index+1] == t2:\n",
    "            count_t2_t1 += 1\n",
    "    return (count_t2_t1, count_t1)\n",
    "\n",
    "#Heatmap \n",
    "def plotheatmap(df,Title,Figsize=None):\n",
    "    \n",
    "    f,ax= plt.subplots(1,1,figsize=Figsize)   \n",
    "    sns.heatmap(df,annot=True)\n",
    "    ax.set_title(Title)\n",
    "    \n",
    "    #Fix 3.11 matplot version issue by setting the limits manually.\n",
    "    bottom, top = ax.get_ylim()\n",
    "    ax.set_ylim(bottom + 0.5, top - 0.5)\n",
    "    \n",
    "    \n",
    "    plt.show()"
   ]
  },
  {
   "cell_type": "code",
   "execution_count": 13,
   "metadata": {},
   "outputs": [],
   "source": [
    "# creating t x t transition matrix of tags\n",
    "# each column is t2, each row is t1\n",
    "# thus M(i, j) represents P(tj given ti)\n",
    "\n",
    "tags_matrix = np.zeros((len(tag_set), len(tag_set)), dtype='float32')\n",
    "for i, t1 in enumerate(list(tag_set)):\n",
    "    for j, t2 in enumerate(list(tag_set)): \n",
    "        tags_matrix[i, j] = t2_given_t1(t2, t1)[0]/t2_given_t1(t2, t1)[1]"
   ]
  },
  {
   "cell_type": "code",
   "execution_count": 14,
   "metadata": {},
   "outputs": [],
   "source": [
    "# convert the matrix to a df for better readability\n",
    "tags_df = pd.DataFrame(tags_matrix, columns = list(tag_set), index=list(tag_set))"
   ]
  },
  {
   "cell_type": "code",
   "execution_count": 15,
   "metadata": {},
   "outputs": [
    {
     "data": {
      "image/png": "[encoded data removed]",
      "text/plain": [
       "<Figure size 864x432 with 2 Axes>"
      ]
     },
     "metadata": {
      "needs_background": "light"
     },
     "output_type": "display_data"
    }
   ],
   "source": [
    "plotheatmap(tags_df,\"transition probability of tags\",Figsize=(12, 6))\n",
    "\n",
    "#Adjective followed by a Noun has highest probability of 0.7.\n",
    "#Determiners followed by Noun comes next with 0.64 probability.\n",
    "#Verbs are precided by either Pronouns or Particles or Adverbs with a probability of 0.48, 0.4 and 0.34 respectively."
   ]
  },
  {
   "cell_type": "code",
   "execution_count": 16,
   "metadata": {},
   "outputs": [
    {
     "data": {
      "text/plain": [
       ".       0.093512\n",
       "ADJ     0.044961\n",
       "ADP     0.090819\n",
       "ADV     0.053038\n",
       "CONJ    0.059140\n",
       "DET     0.175446\n",
       "NOUN    0.218972\n",
       "NUM     0.079781\n",
       "PRON    0.065422\n",
       "PRT     0.002423\n",
       "VERB    0.088935\n",
       "X       0.027461\n",
       "Name: ., dtype: float32"
      ]
     },
     "execution_count": 16,
     "metadata": {},
     "output_type": "execute_result"
    }
   ],
   "source": [
    "#Transition probability, given previous tag is start of the sentence.\n",
    "tags_df.loc['.',:]\n",
    "\n",
    "# Words starting with Noun is highest with 0.22 \n",
    "# Determiners also has high probability of 0.17 to start the sentence."
   ]
  },
  {
   "cell_type": "markdown",
   "metadata": {},
   "source": [
    "### 3. Build the vanilla Viterbi based POS tagger\n",
    "\n",
    "Vanilla Viterbi algorithm works as follows:\n",
    "\n",
    "* For each word, we compute the P(tag|word) for each tag in the tag set and then assign the tag having the max P(tag/word).\n",
    "\n",
    "* P(tag|word)  = (emission probability of the word-tag pair) * (transition probability from the previous tag)."
   ]
  },
  {
   "cell_type": "code",
   "execution_count": 17,
   "metadata": {},
   "outputs": [
    {
     "data": {
      "text/plain": [
       "[38, 118, 117, 45, 181]"
      ]
     },
     "execution_count": 17,
     "metadata": {},
     "output_type": "execute_result"
    }
   ],
   "source": [
    "# Running on entire test dataset would take more than 3-4hrs. \n",
    "# Let's test our Viterbi algorithm on a few sample sentences of test dataset\n",
    "\n",
    "random.seed(100)\n",
    "\n",
    "# choose random 5 sents\n",
    "rndom = [random.randint(1,len(test_set)) for x in range(5)]\n",
    "\n",
    "# list of sents\n",
    "test_run = [test_set[i] for i in rndom]\n",
    "\n",
    "# list of tagged words\n",
    "test_run_base = [tup for sent in test_run for tup in sent]\n",
    "\n",
    "# list of untagged words\n",
    "test_tagged_words = [tup[0] for sent in test_run for tup in sent]\n",
    "#test_run\n",
    "rndom"
   ]
  },
  {
   "cell_type": "code",
   "execution_count": 18,
   "metadata": {},
   "outputs": [],
   "source": [
    "#rndom = [random.randint(1,len(test_set)) for x in range(5)]\n",
    "#rndom\n",
    "\n",
    "#[9, 172, 178, 22, 26]\n",
    "#[91, 61, 5, 8, 5]\n",
    "#[113, 30, 2, 24, 150]   - 98.3\n",
    "#[88, 68, 15, 149, 106]  - 91.6\n",
    "#[38, 118, 117, 45, 181] - 88.24, 89.8\n",
    "#[104, 98, 52, 154, 46] - 96\n",
    "#[14, 69, 23, 105, 69]  - 88.6 -123\n"
   ]
  },
  {
   "cell_type": "code",
   "execution_count": 28,
   "metadata": {},
   "outputs": [],
   "source": [
    "# Viterbi Heuristic\n",
    "def Viterbi_Vanilla(words, train_bag = train_tagged_words):\n",
    "    state = []\n",
    "    T = list(set([pair[1] for pair in train_bag]))\n",
    "    \n",
    "    for key, word in enumerate(words):\n",
    "        #initialise list of probability column for a given observation\n",
    "        p = [] \n",
    "        for tag in T:\n",
    "            if key == 0:\n",
    "                transition_p = tags_df.loc['.', tag]\n",
    "            else:\n",
    "                transition_p = tags_df.loc[state[-1], tag]\n",
    "                \n",
    "            # compute emission and state probabilities\n",
    "            emission_p = word_given_tag(words[key], tag)[0]/word_given_tag(words[key], tag)[1]\n",
    "            state_probability = emission_p * transition_p    \n",
    "            #Print for each word\n",
    "            print(word,tag,key,emission_p,transition_p,state_probability)\n",
    "            p.append(state_probability)\n",
    "            \n",
    "        pmax = max(p)\n",
    "        # getting state for which probability is maximum\n",
    "        state_max = T[p.index(pmax)] \n",
    "        state.append(state_max)\n",
    "    return list(zip(words, state))\n"
   ]
  },
  {
   "cell_type": "code",
   "execution_count": 20,
   "metadata": {},
   "outputs": [],
   "source": [
    "#Function to check accuracy\n",
    "def check_accuracy(tagged_set, test_run_base,msg):\n",
    "    check = [i for i, j in zip(tagged_set, test_run_base) if i == j] \n",
    "    accuracy = round((len(check)/len(tagged_set))*100,2)\n",
    "    print(msg,accuracy,end='%')\n",
    "\n",
    "# Function to check incorrect tag cases.     \n",
    "def check_diff(tagged_set,test_run_base):\n",
    "    incorrect_tagged_cases = [[test_run_base[i-1],j[0],j[1],test_run_base[i+1]] for i, j in enumerate(zip(tagged_set, test_run_base)) if j[0]!=j[1]]\n",
    "    diff_df = pd.DataFrame(incorrect_tagged_cases, columns = ['Previous Word-Tag','Predicted Word-Tag','Actual Word-Tag','Next Word-Tag'])\n",
    "    return diff_df\n",
    "    "
   ]
  },
  {
   "cell_type": "code",
   "execution_count": 21,
   "metadata": {},
   "outputs": [
    {
     "name": "stdout",
     "output_type": "stream",
     "text": [
      "Time taken in seconds:  48.7\n",
      "Accuracy of Viterbi Vanilla model:  92.31%"
     ]
    },
    {
     "data": {
      "text/html": [
       "<div>\n",
       "<style scoped>\n",
       "    .dataframe tbody tr th:only-of-type {\n",
       "        vertical-align: middle;\n",
       "    }\n",
       "\n",
       "    .dataframe tbody tr th {\n",
       "        vertical-align: top;\n",
       "    }\n",
       "\n",
       "    .dataframe thead th {\n",
       "        text-align: right;\n",
       "    }\n",
       "</style>\n",
       "<table border=\"1\" class=\"dataframe\">\n",
       "  <thead>\n",
       "    <tr style=\"text-align: right;\">\n",
       "      <th></th>\n",
       "      <th>Previous Word-Tag</th>\n",
       "      <th>Predicted Word-Tag</th>\n",
       "      <th>Actual Word-Tag</th>\n",
       "      <th>Next Word-Tag</th>\n",
       "    </tr>\n",
       "  </thead>\n",
       "  <tbody>\n",
       "    <tr>\n",
       "      <td>0</td>\n",
       "      <td>(U.S., NOUN)</td>\n",
       "      <td>(tariff, VERB)</td>\n",
       "      <td>(tariff, NOUN)</td>\n",
       "      <td>(classifications, NOUN)</td>\n",
       "    </tr>\n",
       "    <tr>\n",
       "      <td>1</td>\n",
       "      <td>(tariff, NOUN)</td>\n",
       "      <td>(classifications, VERB)</td>\n",
       "      <td>(classifications, NOUN)</td>\n",
       "      <td>(., .)</td>\n",
       "    </tr>\n",
       "    <tr>\n",
       "      <td>2</td>\n",
       "      <td>(third, ADJ)</td>\n",
       "      <td>(stock-manipulation, VERB)</td>\n",
       "      <td>(stock-manipulation, ADJ)</td>\n",
       "      <td>(trial, NOUN)</td>\n",
       "    </tr>\n",
       "    <tr>\n",
       "      <td>3</td>\n",
       "      <td>(Manhattan, NOUN)</td>\n",
       "      <td>(courtroom, VERB)</td>\n",
       "      <td>(courtroom, NOUN)</td>\n",
       "      <td>(of, ADP)</td>\n",
       "    </tr>\n",
       "    <tr>\n",
       "      <td>4</td>\n",
       "      <td>(Johnson, NOUN)</td>\n",
       "      <td>(Lowe, VERB)</td>\n",
       "      <td>(Lowe, NOUN)</td>\n",
       "      <td>(., .)</td>\n",
       "    </tr>\n",
       "    <tr>\n",
       "      <td>5</td>\n",
       "      <td>(,, .)</td>\n",
       "      <td>(adverse, VERB)</td>\n",
       "      <td>(adverse, ADJ)</td>\n",
       "      <td>(or, CONJ)</td>\n",
       "    </tr>\n",
       "    <tr>\n",
       "      <td>6</td>\n",
       "      <td>(or, CONJ)</td>\n",
       "      <td>(otherwise, VERB)</td>\n",
       "      <td>(otherwise, ADV)</td>\n",
       "      <td>(,, .)</td>\n",
       "    </tr>\n",
       "    <tr>\n",
       "      <td>7</td>\n",
       "      <td>(so-called, ADJ)</td>\n",
       "      <td>(Team, VERB)</td>\n",
       "      <td>(Team, NOUN)</td>\n",
       "      <td>(Taurus, NOUN)</td>\n",
       "    </tr>\n",
       "    <tr>\n",
       "      <td>8</td>\n",
       "      <td>(the, DET)</td>\n",
       "      <td>(involvement, VERB)</td>\n",
       "      <td>(involvement, NOUN)</td>\n",
       "      <td>(of, ADP)</td>\n",
       "    </tr>\n",
       "    <tr>\n",
       "      <td>9</td>\n",
       "      <td>(,, .)</td>\n",
       "      <td>(assembly-line, VERB)</td>\n",
       "      <td>(assembly-line, NOUN)</td>\n",
       "      <td>(workers, NOUN)</td>\n",
       "    </tr>\n",
       "    <tr>\n",
       "      <td>10</td>\n",
       "      <td>(development, NOUN)</td>\n",
       "      <td>(cycle, VERB)</td>\n",
       "      <td>(cycle, NOUN)</td>\n",
       "      <td>(., .)</td>\n",
       "    </tr>\n",
       "  </tbody>\n",
       "</table>\n",
       "</div>"
      ],
      "text/plain": [
       "      Previous Word-Tag          Predicted Word-Tag  \\\n",
       "0          (U.S., NOUN)              (tariff, VERB)   \n",
       "1        (tariff, NOUN)     (classifications, VERB)   \n",
       "2          (third, ADJ)  (stock-manipulation, VERB)   \n",
       "3     (Manhattan, NOUN)           (courtroom, VERB)   \n",
       "4       (Johnson, NOUN)                (Lowe, VERB)   \n",
       "5                (,, .)             (adverse, VERB)   \n",
       "6            (or, CONJ)           (otherwise, VERB)   \n",
       "7      (so-called, ADJ)                (Team, VERB)   \n",
       "8            (the, DET)         (involvement, VERB)   \n",
       "9                (,, .)       (assembly-line, VERB)   \n",
       "10  (development, NOUN)               (cycle, VERB)   \n",
       "\n",
       "              Actual Word-Tag            Next Word-Tag  \n",
       "0              (tariff, NOUN)  (classifications, NOUN)  \n",
       "1     (classifications, NOUN)                   (., .)  \n",
       "2   (stock-manipulation, ADJ)            (trial, NOUN)  \n",
       "3           (courtroom, NOUN)                (of, ADP)  \n",
       "4                (Lowe, NOUN)                   (., .)  \n",
       "5              (adverse, ADJ)               (or, CONJ)  \n",
       "6            (otherwise, ADV)                   (,, .)  \n",
       "7                (Team, NOUN)           (Taurus, NOUN)  \n",
       "8         (involvement, NOUN)                (of, ADP)  \n",
       "9       (assembly-line, NOUN)          (workers, NOUN)  \n",
       "10              (cycle, NOUN)                   (., .)  "
      ]
     },
     "execution_count": 21,
     "metadata": {},
     "output_type": "execute_result"
    }
   ],
   "source": [
    "#Test on Vanilla Viterbi model\n",
    "start = time.time()\n",
    "tagged_set1 = Viterbi_Vanilla(test_tagged_words)\n",
    "end = time.time()\n",
    "print(\"Time taken in seconds: \", round(end-start,2))\n",
    "\n",
    "check_accuracy(tagged_set1,test_run_base,'Accuracy of Viterbi Vanilla model: ')\n",
    "\n",
    "check_diff(tagged_set1,test_run_base)"
   ]
  },
  {
   "cell_type": "markdown",
   "metadata": {},
   "source": [
    "#### Observations from Vanilla Viterbi Model\n",
    "\n",
    "* Most of the unknown words are tagged as '.' since its the first tag\n",
    "* For unknown words Emission probability will be 0 and hence it takes the default flag.\n",
    "* In order to resolve this we can consider only the transition probability and evaluate the accuracy.\n",
    "* some numbers are wrongly tagged as well, this can be resolved by assigning it to NUM by default."
   ]
  },
  {
   "cell_type": "markdown",
   "metadata": {},
   "source": [
    "### Solve the problem of unknown words"
   ]
  },
  {
   "cell_type": "code",
   "execution_count": 101,
   "metadata": {},
   "outputs": [
    {
     "name": "stdout",
     "output_type": "stream",
     "text": [
      "Total Unknown words : 80\n",
      "\n",
      "\n",
      "Unknown Words : ['noted', 'executive', 'that', 'trading', 'of', 'job', 'remaining', 'in', 'specialist', 'sell', 'justices', 'Bendectin', 'sales', 'can', 'Chrysler', 'there', 'it', 'floor', 'crookery', 'market', 'go', '``', 'says', 'day', 'fear', 'already', ',', 'scams', 'and', 'been', 'to', '*T*-3', ':', 'be', 'programs', 'the', 'found', 'off', 'forced', 'Big', 'years', 'order', 'one', '0', 'marketing', 'only', 'first', 'for', '*-2', 'hit', 'When', '*-1', 'Board', \"''\", 'printers', '*T*-1', 'litigation', 'None', 'California', '.', 'drug', 'start', 'He', 'haul', 'with', 'had', 'show', 'Auditors', 'a', 'long', 'hear', 'ingenuity', 'U.S.', 'The', 'anti-morning-sickness', 'appears', '20', 'on', 'much', 'you']\n"
     ]
    }
   ],
   "source": [
    "# list all unknown words in test set compared to train set.\n",
    "\n",
    "test_tagged_set = set([t for t in test_tagged_words])\n",
    "train_tagged_set = set([t for t in train_tagged_words])\n",
    "\n",
    "unknown_words = list(test_tagged_set - train_tagged_set)\n",
    "print(\"Total Unknown words :\", len(unknown_words))\n",
    "print(\"\\n\")\n",
    "print(\"Unknown Words :\", unknown_words)"
   ]
  },
  {
   "cell_type": "code",
   "execution_count": 23,
   "metadata": {},
   "outputs": [
    {
     "data": {
      "text/plain": [
       "['Timex',\n",
       " 'had',\n",
       " 'requested',\n",
       " 'duty-free',\n",
       " 'treatment',\n",
       " 'for',\n",
       " 'many',\n",
       " 'types',\n",
       " 'of',\n",
       " 'watches',\n",
       " ',',\n",
       " 'covered',\n",
       " '*',\n",
       " 'by',\n",
       " '58',\n",
       " 'different',\n",
       " 'U.S.',\n",
       " 'tariff',\n",
       " 'classifications',\n",
       " '.',\n",
       " 'Attorneys',\n",
       " 'in',\n",
       " 'the',\n",
       " 'third',\n",
       " 'stock-manipulation',\n",
       " 'trial',\n",
       " 'of',\n",
       " 'GAF',\n",
       " 'Corp.',\n",
       " 'began',\n",
       " 'opening',\n",
       " 'arguments',\n",
       " 'yesterday',\n",
       " 'in',\n",
       " 'the',\n",
       " 'Manhattan',\n",
       " 'courtroom',\n",
       " 'of',\n",
       " 'U.S.',\n",
       " 'District',\n",
       " 'Judge',\n",
       " 'Mary',\n",
       " 'Johnson',\n",
       " 'Lowe',\n",
       " '.',\n",
       " 'The',\n",
       " 'company',\n",
       " 'said',\n",
       " '0',\n",
       " 'the',\n",
       " 'restructuring',\n",
       " 'is',\n",
       " \"n't\",\n",
       " 'expected',\n",
       " '*-1',\n",
       " 'to',\n",
       " 'have',\n",
       " 'any',\n",
       " 'impact',\n",
       " ',',\n",
       " 'adverse',\n",
       " 'or',\n",
       " 'otherwise',\n",
       " ',',\n",
       " 'on',\n",
       " 'its',\n",
       " 'financial',\n",
       " 'results',\n",
       " '.',\n",
       " 'The',\n",
       " 'FTC',\n",
       " 'budget',\n",
       " 'request',\n",
       " 'of',\n",
       " '$',\n",
       " '70',\n",
       " 'million',\n",
       " '*U*',\n",
       " ',',\n",
       " 'about',\n",
       " '$',\n",
       " '34',\n",
       " 'million',\n",
       " '*U*',\n",
       " 'of',\n",
       " 'which',\n",
       " '*T*-1',\n",
       " 'would',\n",
       " 'go',\n",
       " 'for',\n",
       " 'antitrust',\n",
       " 'enforcement',\n",
       " ',',\n",
       " 'would',\n",
       " 'also',\n",
       " 'be',\n",
       " 'cut',\n",
       " '*-85',\n",
       " 'by',\n",
       " '$',\n",
       " '15',\n",
       " 'million',\n",
       " '*U*',\n",
       " '.',\n",
       " 'Under',\n",
       " 'the',\n",
       " 'so-called',\n",
       " 'Team',\n",
       " 'Taurus',\n",
       " 'approach',\n",
       " ',',\n",
       " 'Mr.',\n",
       " 'Veraldi',\n",
       " 'and',\n",
       " 'other',\n",
       " 'Ford',\n",
       " 'product',\n",
       " 'planners',\n",
       " 'sought',\n",
       " 'the',\n",
       " 'involvement',\n",
       " 'of',\n",
       " 'parts',\n",
       " 'suppliers',\n",
       " ',',\n",
       " 'assembly-line',\n",
       " 'workers',\n",
       " ',',\n",
       " 'auto',\n",
       " 'designers',\n",
       " 'and',\n",
       " 'financial',\n",
       " 'staff',\n",
       " 'members',\n",
       " 'from',\n",
       " 'the',\n",
       " 'initial',\n",
       " 'stages',\n",
       " 'of',\n",
       " 'the',\n",
       " 'development',\n",
       " 'cycle',\n",
       " '.']"
      ]
     },
     "execution_count": 23,
     "metadata": {},
     "output_type": "execute_result"
    }
   ],
   "source": [
    "test_tagged_words"
   ]
  },
  {
   "cell_type": "code",
   "execution_count": 29,
   "metadata": {},
   "outputs": [
    {
     "name": "stdout",
     "output_type": "stream",
     "text": [
      "different VERB 0 0.0 0.08893476 0.0\n",
      "different ADV 0 0.0 0.05303778 0.0\n",
      "different NUM 0 0.0 0.079781026 0.0\n",
      "different ADP 0 0.0 0.09081935 0.0\n",
      "different PRT 0 0.0 0.002423046 0.0\n",
      "different ADJ 0 0.0029517874713020664 0.04496096 0.00013271520062719028\n",
      "different X 0 0.0 0.027461186 0.0\n",
      "different NOUN 0 0.0 0.21897155 0.0\n",
      "different DET 0 0.0 0.17544647 0.0\n",
      "different . 0 0.0 0.09351162 0.0\n",
      "different PRON 0 0.0 0.06542224 0.0\n",
      "different CONJ 0 0.0 0.05914027 0.0\n",
      "U.S. VERB 1 0.0 0.011643162 0.0\n",
      "U.S. ADV 1 0.0 0.0047556576 0.0\n",
      "U.S. NUM 1 0.0 0.0208265 0.0\n",
      "U.S. ADP 1 0.0 0.0764185 0.0\n",
      "U.S. PRT 1 0.0 0.010823221 0.0\n",
      "U.S. ADJ 1 0.00016398819285011479 0.066743195 1.0945095942426251e-05\n",
      "U.S. X 1 0.0 0.021154476 0.0\n",
      "U.S. NOUN 1 0.007581832762265802 0.6985897 0.005296590142758637\n",
      "U.S. DET 1 0.0 0.004919646 0.0\n",
      "U.S. . 1 0.0 0.06657921 0.0\n",
      "U.S. PRON 1 0.0 0.0006559528 0.0\n",
      "U.S. CONJ 1 0.0 0.016890785 0.0\n",
      "tariff VERB 2 0.0 0.14708027 0.0\n",
      "tariff ADV 2 0.0 0.01724138 0.0\n",
      "tariff NUM 2 0.0 0.0097324485 0.0\n",
      "tariff ADP 2 0.0 0.17697018 0.0\n",
      "tariff PRT 2 0.0 0.043923598 0.0\n",
      "tariff ADJ 2 0.0 0.012174673 0.0\n",
      "tariff X 2 0.0 0.0293067 0.0\n",
      "tariff NOUN 2 0.0 0.26273966 0.0\n",
      "tariff DET 2 0.0 0.013341109 0.0\n",
      "tariff . 2 0.0 0.23970255 0.0\n",
      "tariff PRON 2 0.0 0.0047750967 0.0\n",
      "tariff CONJ 2 0.0 0.04301232 0.0\n",
      "classifications VERB 3 0.0 0.1698318 0.0\n",
      "classifications ADV 3 0.0 0.081234016 0.0\n",
      "classifications NUM 3 0.0 0.02325401 0.0\n",
      "classifications ADP 3 0.0 0.090380594 0.0\n",
      "classifications PRT 3 0.0 0.031392917 0.0\n",
      "classifications ADJ 3 0.0 0.0654988 0.0\n",
      "classifications X 3 0.0 0.2179676 0.0\n",
      "classifications NOUN 3 0.0 0.1113092 0.0\n",
      "classifications DET 3 0.0 0.13425316 0.0\n",
      "classifications . 3 0.0 0.034183398 0.0\n",
      "classifications PRON 3 0.0 0.03557864 0.0\n",
      "classifications CONJ 3 0.0 0.0051158825 0.0\n"
     ]
    }
   ],
   "source": [
    "small_set=['different',\n",
    " 'U.S.',\n",
    " 'tariff',\n",
    " 'classifications',]\n",
    "\n",
    "small_set_result = Viterbi_Vanilla(small_set)\n",
    "#print(word,tag,emission_p,transition_p,state_probability)\n",
    "            "
   ]
  },
  {
   "cell_type": "code",
   "execution_count": 31,
   "metadata": {},
   "outputs": [
    {
     "data": {
      "text/plain": [
       "0.04496096"
      ]
     },
     "execution_count": 31,
     "metadata": {},
     "output_type": "execute_result"
    }
   ],
   "source": [
    "tags_df.loc['ADJ', '']"
   ]
  },
  {
   "cell_type": "markdown",
   "metadata": {},
   "source": [
    "### Viterbi Modification-Technique I\n",
    "\n",
    "* For unknow words consider only Transition probability.\n",
    "* For words containing only numbers tag it to NUM by default.\n"
   ]
  },
  {
   "cell_type": "code",
   "execution_count": 102,
   "metadata": {},
   "outputs": [],
   "source": [
    "# Modification of Viterbi Heuristic algorithm to include \n",
    "def Viterbi_m1(words, train_bag = train_tagged_words):\n",
    "    state = []\n",
    "    T = list(set([pair[1] for pair in train_bag]))\n",
    "    \n",
    "    for key, word in enumerate(words):\n",
    "        #initialise list of probability column for a given observation\n",
    "        p = [] \n",
    "        num_word=re.search('^[0-9]*.?[0-9]*[0-9]$',word)\n",
    "        \n",
    "        if num_word and word not in train_vocabulary_set:\n",
    "            state.append('NUM')\n",
    "        else:\n",
    "            for tag in T:\n",
    "                if key == 0:\n",
    "                    transition_p = tags_df.loc['.', tag]\n",
    "                else:\n",
    "                    transition_p = tags_df.loc[state[-1], tag]\n",
    "                \n",
    "                # compute emission and state probabilities\n",
    "                emission_p = word_given_tag(words[key], tag)[0]/word_given_tag(words[key], tag)[1]\n",
    "            \n",
    "                # modification to the original vanilla viterbi algorithm \n",
    "                # If word in unknown then consider only the transition_p \n",
    "            \n",
    "                if word not in train_vocabulary_set:\n",
    "                \n",
    "                    state_probability = transition_p\n",
    "                else:\n",
    "                    state_probability = emission_p * transition_p\n",
    "            \n",
    "            \n",
    "                p.append(state_probability)\n",
    "            \n",
    "            pmax = max(p)\n",
    "            # getting state for which probability is maximum\n",
    "            state_max = T[p.index(pmax)] \n",
    "            state.append(state_max)\n",
    "    return list(zip(words, state))\n"
   ]
  },
  {
   "cell_type": "code",
   "execution_count": 116,
   "metadata": {},
   "outputs": [
    {
     "name": "stdout",
     "output_type": "stream",
     "text": [
      "Time taken in seconds:  17.59\n",
      "Accuracy of Modified Viterbi Model 1:  92.23%"
     ]
    },
    {
     "data": {
      "text/html": [
       "<div>\n",
       "<style scoped>\n",
       "    .dataframe tbody tr th:only-of-type {\n",
       "        vertical-align: middle;\n",
       "    }\n",
       "\n",
       "    .dataframe tbody tr th {\n",
       "        vertical-align: top;\n",
       "    }\n",
       "\n",
       "    .dataframe thead th {\n",
       "        text-align: right;\n",
       "    }\n",
       "</style>\n",
       "<table border=\"1\" class=\"dataframe\">\n",
       "  <thead>\n",
       "    <tr style=\"text-align: right;\">\n",
       "      <th></th>\n",
       "      <th>Previous Word-Tag</th>\n",
       "      <th>Predicted Word-Tag</th>\n",
       "      <th>Actual Word-Tag</th>\n",
       "      <th>Next Word-Tag</th>\n",
       "    </tr>\n",
       "  </thead>\n",
       "  <tbody>\n",
       "    <tr>\n",
       "      <td>0</td>\n",
       "      <td>(scams, NOUN)</td>\n",
       "      <td>(show, NOUN)</td>\n",
       "      <td>(show, VERB)</td>\n",
       "      <td>(much, ADJ)</td>\n",
       "    </tr>\n",
       "    <tr>\n",
       "      <td>1</td>\n",
       "      <td>(show, VERB)</td>\n",
       "      <td>(much, ADV)</td>\n",
       "      <td>(much, ADJ)</td>\n",
       "      <td>(ingenuity, NOUN)</td>\n",
       "    </tr>\n",
       "    <tr>\n",
       "      <td>2</td>\n",
       "      <td>(much, ADJ)</td>\n",
       "      <td>(ingenuity, VERB)</td>\n",
       "      <td>(ingenuity, NOUN)</td>\n",
       "      <td>(:, .)</td>\n",
       "    </tr>\n",
       "    <tr>\n",
       "      <td>3</td>\n",
       "      <td>(found, VERB)</td>\n",
       "      <td>(crookery, X)</td>\n",
       "      <td>(crookery, NOUN)</td>\n",
       "      <td>(the, DET)</td>\n",
       "    </tr>\n",
       "    <tr>\n",
       "      <td>4</td>\n",
       "      <td>(the, DET)</td>\n",
       "      <td>(sell, VERB)</td>\n",
       "      <td>(sell, NOUN)</td>\n",
       "      <td>(programs, NOUN)</td>\n",
       "    </tr>\n",
       "    <tr>\n",
       "      <td>5</td>\n",
       "      <td>(specialist, NOUN)</td>\n",
       "      <td>(there, DET)</td>\n",
       "      <td>(there, ADV)</td>\n",
       "      <td>(., .)</td>\n",
       "    </tr>\n",
       "    <tr>\n",
       "      <td>6</td>\n",
       "      <td>(the, DET)</td>\n",
       "      <td>(only, ADV)</td>\n",
       "      <td>(only, ADJ)</td>\n",
       "      <td>(remaining, VERB)</td>\n",
       "    </tr>\n",
       "    <tr>\n",
       "      <td>7</td>\n",
       "      <td>(remaining, VERB)</td>\n",
       "      <td>(anti-morning-sickness, X)</td>\n",
       "      <td>(anti-morning-sickness, ADJ)</td>\n",
       "      <td>(drug, NOUN)</td>\n",
       "    </tr>\n",
       "  </tbody>\n",
       "</table>\n",
       "</div>"
      ],
      "text/plain": [
       "    Previous Word-Tag          Predicted Word-Tag  \\\n",
       "0       (scams, NOUN)                (show, NOUN)   \n",
       "1        (show, VERB)                 (much, ADV)   \n",
       "2         (much, ADJ)           (ingenuity, VERB)   \n",
       "3       (found, VERB)               (crookery, X)   \n",
       "4          (the, DET)                (sell, VERB)   \n",
       "5  (specialist, NOUN)                (there, DET)   \n",
       "6          (the, DET)                 (only, ADV)   \n",
       "7   (remaining, VERB)  (anti-morning-sickness, X)   \n",
       "\n",
       "                Actual Word-Tag      Next Word-Tag  \n",
       "0                  (show, VERB)        (much, ADJ)  \n",
       "1                   (much, ADJ)  (ingenuity, NOUN)  \n",
       "2             (ingenuity, NOUN)             (:, .)  \n",
       "3              (crookery, NOUN)         (the, DET)  \n",
       "4                  (sell, NOUN)   (programs, NOUN)  \n",
       "5                  (there, ADV)             (., .)  \n",
       "6                   (only, ADJ)  (remaining, VERB)  \n",
       "7  (anti-morning-sickness, ADJ)       (drug, NOUN)  "
      ]
     },
     "execution_count": 116,
     "metadata": {},
     "output_type": "execute_result"
    }
   ],
   "source": [
    "#Test on modified Viterbi model\n",
    "start = time.time()\n",
    "tagged_set2 = Viterbi_m1(test_tagged_words)\n",
    "end = time.time()\n",
    "print(\"Time taken in seconds: \", round(end-start,2))\n",
    "\n",
    "check_accuracy(tagged_set2,test_run_base,'Accuracy of Modified Viterbi Model 1: ')\n",
    "\n",
    "check_diff(tagged_set2,test_run_base)"
   ]
  },
  {
   "cell_type": "markdown",
   "metadata": {},
   "source": [
    "#### Observations after applying Technique 1\n",
    "* After modifying vanilla Viterbi to consider only Transition probaility for unknown words, Words are not tagged to Default tags now.\n",
    "* Accuracy has improved significantly from 88% to 92.3%. \n",
    "* Several Adjectives are incorrectly getting tagged as Noun or ADJ.\n",
    "* Since Viterbi Model is Greedy approach, it goes with max probability eventhough other combinations are valid.Hence, some words might be wrongly tagged.\n",
    "* Also, Viterbu model do not look ahead and just considers previous tag. Hence some tag which are Noun like 'Sell' in this example gets tagged as Verb. To solve this prolem we can look in to previous 2 tags or even Symantic processing.\n"
   ]
  },
  {
   "cell_type": "markdown",
   "metadata": {},
   "source": [
    "### Viterbi Modification-Technique 2\n"
   ]
  },
  {
   "cell_type": "code",
   "execution_count": 177,
   "metadata": {},
   "outputs": [],
   "source": [
    "patterns = [\n",
    "    (r'[aA-zZ]+(ed|ing|es)$', 'VERB'), # Any word ending with 'ing' or 'ed' is a verb\n",
    "\n",
    "    (r'.*ly$', 'ADV'),\n",
    "        \n",
    "    (r'^([0-9]|[aA-zZ])+\\-[aA-zZ]*$','ADJ'),\n",
    "    (r'.*able$', 'ADJ'), \n",
    "    (r'.*ful$', 'ADJ'),\n",
    "    (r'.*ous$', 'ADJ'),\n",
    "        \n",
    "    (r'^[aA-zZ].*[0-9]+','NOUN'),     # Alpha Numeric\n",
    "    (r'.*ness$', 'NOUN'),\n",
    "    (r'.*\\'s$', 'NOUN'),              # possessive nouns - words ending with 's\n",
    "    (r'.*s$', 'NOUN'),                # plural nouns\n",
    "    (r'.*ers$', 'NOUN'),              # eg.- kinderganteners, autobioghapgers\n",
    "    (r'.*ment$', 'NOUN'),\n",
    "    (r'.*town$', 'NOUN'),\n",
    "        \n",
    "    (r'^(0|([*|-|$].*))','X'), # Any special character combination\n",
    "    (r'.*ould$', 'X'),\n",
    "        \n",
    "    (r'(The|the|A|a|An|an|That|that|This|this|Those|those|These|these)$', 'DET'), # That/this/these/those belong to the category of Demonstrative determiners\n",
    "    (r'[0-9].?[,\\/]?[0-9]*','NUM'), # Numbers \n",
    "        \n",
    "    (r'.*', 'NOUN')\n",
    "    ]\n",
    "\n",
    "    "
   ]
  },
  {
   "cell_type": "code",
   "execution_count": 178,
   "metadata": {},
   "outputs": [],
   "source": [
    "\n",
    "regex_tagger = nltk.RegexpTagger(patterns)\n",
    "\n",
    "unigram_tagger = nltk.UnigramTagger(train_set, backoff = regex_tagger)\n",
    "\n",
    "bigram_tagger = nltk.BigramTagger(train_set, backoff = unigram_tagger)\n",
    "\n",
    "trigram_tagger = nltk.TrigramTagger(train_set, backoff = bigram_tagger)"
   ]
  },
  {
   "cell_type": "code",
   "execution_count": 185,
   "metadata": {},
   "outputs": [
    {
     "data": {
      "text/plain": [
       "[[('scams', 'NOUN')]]"
      ]
     },
     "execution_count": 185,
     "metadata": {},
     "output_type": "execute_result"
    }
   ],
   "source": [
    "trigram_tagger.tag_sents([[('scams')]])"
   ]
  },
  {
   "cell_type": "code",
   "execution_count": 182,
   "metadata": {},
   "outputs": [],
   "source": [
    "# Modification of Viterbi Heuristic algorithm to include \n",
    "def Viterbi_m2(words, train_bag = train_tagged_words):\n",
    "    state = []\n",
    "    T = list(set([pair[1] for pair in train_bag]))\n",
    "    #unigram_tagger1 = nltk.UnigramTagger(train_set)\n",
    "    #bigram_tagger1 = nltk.BigramTagger(train_set, backoff = unigram_tagger1)\n",
    "    #trigram_tagger1 = nltk.TrigramTagger(train_set, backoff = bigram_tagger1)\n",
    "    \n",
    "    for key, word in enumerate(words):\n",
    "        #initialise list of probability column for a given observation\n",
    "        p = [] \n",
    "        num_word=re.search('^[0-9]*.?[0-9]*[0-9]$',word)\n",
    "        \n",
    "        if num_word and word not in train_vocabulary_set:\n",
    "            state.append('NUM')\n",
    "            \n",
    "        elif word not in train_vocabulary_set:\n",
    "            \n",
    "            unknown_word_tag = trigram_tagger.tag_sents([[(word)]])\n",
    "            print(unknown_word_tag)\n",
    "            for sent in unknown_word_tag:\n",
    "                for tup in sent:\n",
    "                    if tup[1] == None:\n",
    "                        state.append('NOUN')\n",
    "                    else:\n",
    "                        state.append(tup[1])\n",
    "        \n",
    "        else:\n",
    "            for tag in T:\n",
    "                if key == 0:\n",
    "                    transition_p = tags_df.loc['.', tag]\n",
    "                else:\n",
    "                    transition_p = tags_df.loc[state[-1], tag]\n",
    "                \n",
    "                # compute emission and state probabilities\n",
    "                emission_p = word_given_tag(words[key], tag)[0]/word_given_tag(words[key], tag)[1]\n",
    "            \n",
    "                # modification to the original vanilla viterbi algorithm \n",
    "                # If word in unknown then consider only the transition_p \n",
    "            \n",
    "                if word not in train_vocabulary_set:\n",
    "                \n",
    "                    state_probability = transition_p\n",
    "                else:\n",
    "                    state_probability = emission_p * transition_p\n",
    "            \n",
    "            \n",
    "                p.append(state_probability)\n",
    "            \n",
    "            pmax = max(p)\n",
    "            # getting state for which probability is maximum\n",
    "            state_max = T[p.index(pmax)] \n",
    "            state.append(state_max)\n",
    "    return list(zip(words, state))\n"
   ]
  },
  {
   "cell_type": "code",
   "execution_count": 183,
   "metadata": {},
   "outputs": [
    {
     "name": "stdout",
     "output_type": "stream",
     "text": [
      "[[('scams', 'NOUN')]]\n",
      "NOUN\n",
      "[[('ingenuity', 'NOUN')]]\n",
      "NOUN\n",
      "[[('Auditors', 'NOUN')]]\n",
      "NOUN\n",
      "[[('crookery', 'NOUN')]]\n",
      "NOUN\n",
      "[[('printers', 'NOUN')]]\n",
      "NOUN\n",
      "[[('anti-morning-sickness', 'NOUN')]]\n",
      "NOUN\n",
      "[[('Bendectin', 'NOUN')]]\n",
      "NOUN\n",
      "Time taken in seconds:  15.65\n"
     ]
    }
   ],
   "source": [
    "#Test on modified Viterbi model\n",
    "start = time.time()\n",
    "tagged_set2 = Viterbi_m2(test_tagged_words)\n",
    "end = time.time()\n",
    "print(\"Time taken in seconds: \", round(end-start,2))\n"
   ]
  },
  {
   "cell_type": "code",
   "execution_count": 184,
   "metadata": {},
   "outputs": [
    {
     "name": "stdout",
     "output_type": "stream",
     "text": [
      "Accuracy of Modified Viterbi Model 2:  94.17%"
     ]
    },
    {
     "data": {
      "text/html": [
       "<div>\n",
       "<style scoped>\n",
       "    .dataframe tbody tr th:only-of-type {\n",
       "        vertical-align: middle;\n",
       "    }\n",
       "\n",
       "    .dataframe tbody tr th {\n",
       "        vertical-align: top;\n",
       "    }\n",
       "\n",
       "    .dataframe thead th {\n",
       "        text-align: right;\n",
       "    }\n",
       "</style>\n",
       "<table border=\"1\" class=\"dataframe\">\n",
       "  <thead>\n",
       "    <tr style=\"text-align: right;\">\n",
       "      <th></th>\n",
       "      <th>Previous Word-Tag</th>\n",
       "      <th>Predicted Word-Tag</th>\n",
       "      <th>Actual Word-Tag</th>\n",
       "      <th>Next Word-Tag</th>\n",
       "    </tr>\n",
       "  </thead>\n",
       "  <tbody>\n",
       "    <tr>\n",
       "      <td>0</td>\n",
       "      <td>(scams, NOUN)</td>\n",
       "      <td>(show, NOUN)</td>\n",
       "      <td>(show, VERB)</td>\n",
       "      <td>(much, ADJ)</td>\n",
       "    </tr>\n",
       "    <tr>\n",
       "      <td>1</td>\n",
       "      <td>(show, VERB)</td>\n",
       "      <td>(much, ADV)</td>\n",
       "      <td>(much, ADJ)</td>\n",
       "      <td>(ingenuity, NOUN)</td>\n",
       "    </tr>\n",
       "    <tr>\n",
       "      <td>2</td>\n",
       "      <td>(the, DET)</td>\n",
       "      <td>(sell, VERB)</td>\n",
       "      <td>(sell, NOUN)</td>\n",
       "      <td>(programs, NOUN)</td>\n",
       "    </tr>\n",
       "    <tr>\n",
       "      <td>3</td>\n",
       "      <td>(specialist, NOUN)</td>\n",
       "      <td>(there, DET)</td>\n",
       "      <td>(there, ADV)</td>\n",
       "      <td>(., .)</td>\n",
       "    </tr>\n",
       "    <tr>\n",
       "      <td>4</td>\n",
       "      <td>(the, DET)</td>\n",
       "      <td>(only, ADV)</td>\n",
       "      <td>(only, ADJ)</td>\n",
       "      <td>(remaining, VERB)</td>\n",
       "    </tr>\n",
       "    <tr>\n",
       "      <td>5</td>\n",
       "      <td>(remaining, VERB)</td>\n",
       "      <td>(anti-morning-sickness, NOUN)</td>\n",
       "      <td>(anti-morning-sickness, ADJ)</td>\n",
       "      <td>(drug, NOUN)</td>\n",
       "    </tr>\n",
       "  </tbody>\n",
       "</table>\n",
       "</div>"
      ],
      "text/plain": [
       "    Previous Word-Tag             Predicted Word-Tag  \\\n",
       "0       (scams, NOUN)                   (show, NOUN)   \n",
       "1        (show, VERB)                    (much, ADV)   \n",
       "2          (the, DET)                   (sell, VERB)   \n",
       "3  (specialist, NOUN)                   (there, DET)   \n",
       "4          (the, DET)                    (only, ADV)   \n",
       "5   (remaining, VERB)  (anti-morning-sickness, NOUN)   \n",
       "\n",
       "                Actual Word-Tag      Next Word-Tag  \n",
       "0                  (show, VERB)        (much, ADJ)  \n",
       "1                   (much, ADJ)  (ingenuity, NOUN)  \n",
       "2                  (sell, NOUN)   (programs, NOUN)  \n",
       "3                  (there, ADV)             (., .)  \n",
       "4                   (only, ADJ)  (remaining, VERB)  \n",
       "5  (anti-morning-sickness, ADJ)       (drug, NOUN)  "
      ]
     },
     "execution_count": 184,
     "metadata": {},
     "output_type": "execute_result"
    }
   ],
   "source": [
    "check_accuracy(tagged_set2,test_run_base,'Accuracy of Modified Viterbi Model 2: ')\n",
    "\n",
    "check_diff(tagged_set2,test_run_base)"
   ]
  },
  {
   "cell_type": "code",
   "execution_count": 37,
   "metadata": {},
   "outputs": [
    {
     "name": "stdout",
     "output_type": "stream",
     "text": [
      "The accuracy of the Unigram Tagger is - 0.8998622860515444\n"
     ]
    }
   ],
   "source": [
    "# Unigram Tagger\n",
    "\n",
    "unigram_tagger = nltk.UnigramTagger(train_set)\n",
    "unigram_tagger_accuracy = unigram_tagger.evaluate(test_set)\n",
    "print(\"The accuracy of the Unigram Tagger is -\", unigram_tagger_accuracy)"
   ]
  },
  {
   "cell_type": "code",
   "execution_count": null,
   "metadata": {},
   "outputs": [],
   "source": [
    "# patterns for tagging using a rule based regex tagger -\n",
    "\n",
    "patterns = [\n",
    "    (r'^[aA-zZ].*[0-9]+','NOUN'),  # Alpha Numeric\n",
    "    (r'.*ness$', 'NOUN'),          \n",
    "    (r'.*\\'s$', 'NOUN'),              # possessive nouns\n",
    "    (r'.*s$', 'NOUN'),                # plural nouns\n",
    "    (r'.*', 'NOUN'),    \n",
    "    (r'.*ly$', 'ADV'),\n",
    "    (r'^(0|([*|-|$].*))','X'), # Any special character combination\n",
    "    (r'.*ould$', 'X'), # modals\n",
    "    (r'(The|the|A|a|An|an)$', 'DET'),\n",
    "    (r'^([0-9]|[aA-zZ])+\\-[aA-zZ]*$','ADJ'),\n",
    "    (r'.*able$', 'ADJ'), # adjective like 100-megabytes 237-Seats\n",
    "    (r'[aA-zZ]+(ed|ing|es)$', 'VERB'), # Any word ending with 'ing' or 'ed' is a verb\n",
    "    (r'[0-9].?[,\\/]?[0-9]*','NUM')# Numbers \n",
    "    ]"
   ]
  },
  {
   "cell_type": "code",
   "execution_count": 38,
   "metadata": {},
   "outputs": [
    {
     "name": "stdout",
     "output_type": "stream",
     "text": [
      "The accuracy of the Unigram Tagger backed up by the RegexpTagger is - 0.908715325595121\n"
     ]
    }
   ],
   "source": [
    "# rule based RegexpTagger\n",
    "\n",
    "rule_based_tagger = nltk.RegexpTagger(patterns)\n",
    "\n",
    "# unigram tagger backed up by the rule-based tagger\n",
    "rule_based_unigram_tagger = nltk.UnigramTagger(train_set, backoff = rule_based_tagger)\n",
    "\n",
    "accuracy_rule_based_unigram_tagger = rule_based_unigram_tagger.evaluate(test_set)\n",
    "\n",
    "print(\"The accuracy of the Unigram Tagger backed up by the RegexpTagger is -\", accuracy_rule_based_unigram_tagger)"
   ]
  },
  {
   "cell_type": "code",
   "execution_count": null,
   "metadata": {},
   "outputs": [],
   "source": []
  },
  {
   "cell_type": "code",
   "execution_count": 39,
   "metadata": {},
   "outputs": [
    {
     "name": "stdout",
     "output_type": "stream",
     "text": [
      "The accuracy of the Bigram Tagger backed up by the rule_based_unigram_tagger is - 0.9118630729883926\n"
     ]
    }
   ],
   "source": [
    "# Bigram tagger\n",
    "\n",
    "bigram_tagger = nltk.BigramTagger(train_set, backoff = rule_based_unigram_tagger)\n",
    "bigram_tagger.evaluate(test_set)\n",
    "accuracy_bigram_tagger = bigram_tagger.evaluate(test_set)\n",
    "print(\"The accuracy of the Bigram Tagger backed up by the rule_based_unigram_tagger is -\", accuracy_bigram_tagger)"
   ]
  },
  {
   "cell_type": "code",
   "execution_count": 40,
   "metadata": {},
   "outputs": [
    {
     "name": "stdout",
     "output_type": "stream",
     "text": [
      "The accuracy of the Trigram Tagger backed up by the bigram_tagger is - 0.9120598072004722\n"
     ]
    }
   ],
   "source": [
    "# trigram tagger\n",
    "\n",
    "trigram_tagger = nltk.TrigramTagger(train_set, backoff = bigram_tagger)\n",
    "trigram_tagger.evaluate(test_set)\n",
    "accuracy_trigram_tagger = trigram_tagger.evaluate(test_set)\n",
    "print(\"The accuracy of the Trigram Tagger backed up by the bigram_tagger is -\", accuracy_trigram_tagger)"
   ]
  },
  {
   "cell_type": "code",
   "execution_count": 41,
   "metadata": {},
   "outputs": [],
   "source": [
    "def trigram_tagger(word, train_set = train_set):\n",
    "    patterns = [\n",
    "    (r'[aA-zZ]+(ed|ing|es)$', 'VERB'), # Any word ending with 'ing' or 'ed' is a verb\n",
    "\n",
    "    (r'.*ly$', 'ADV'),\n",
    "        \n",
    "    (r'^([0-9]|[aA-zZ])+\\-[aA-zZ]*$','ADJ'),\n",
    "    (r'.*able$', 'ADJ'), \n",
    "    (r'.*ful$', 'ADJ'),\n",
    "    (r'.*ous$', 'ADJ'),\n",
    "        \n",
    "    (r'^[aA-zZ].*[0-9]+','NOUN'),     # Alpha Numeric\n",
    "    (r'.*ness$', 'NOUN'),\n",
    "    (r'.*\\'s$', 'NOUN'),              # possessive nouns - words ending with 's\n",
    "    (r'.*s$', 'NOUN'),                # plural nouns\n",
    "    (r'.*ers$', 'NOUN'),              # eg.- kinderganteners, autobioghapgers\n",
    "    (r'.*ment$', 'NOUN'),\n",
    "    (r'.*town$', 'NOUN'),\n",
    "        \n",
    "    (r'^(0|([*|-|$].*))','X'), # Any special character combination\n",
    "    (r'.*ould$', 'X'),\n",
    "        \n",
    "    (r'(The|the|A|a|An|an|That|that|This|this|Those|those|These|these)$', 'DET'), # That/this/these/those belong to the category of Demonstrative determiners\n",
    "    (r'[0-9].?[,\\/]?[0-9]*','NUM'), # Numbers \n",
    "        \n",
    "    (r'.*', 'NOUN')\n",
    "    ]\n",
    "\n",
    "    regex_based_tagger = nltk.RegexpTagger(patterns)\n",
    "    # trigram backed up by the regex tagger\n",
    "    trigram_regex_tagger = nltk.TrigramTagger(train_set, backoff = regex_based_tagger)\n",
    "    return trigram_regex_tagger.tag_sents([[(word)]])"
   ]
  },
  {
   "cell_type": "code",
   "execution_count": 45,
   "metadata": {},
   "outputs": [],
   "source": [
    "def viterbi_backedup_by_trigram_tagger(words, train_bag = train_tagged_words):\n",
    "    state = []\n",
    "    tag_set = list(set([pair[1] for pair in train_bag]))\n",
    "    \n",
    "    # use the trigram tagger backed up by the rule based tagger\n",
    "    # for unknown words.\n",
    "    for key, word in enumerate(words):\n",
    "        if word not in train_vocabulary_set:\n",
    "            unknown_word_tag = trigram_tagger(word)\n",
    "            for sent in unknown_word_tag:\n",
    "                for tup in sent:\n",
    "                    state.append(tup[1])\n",
    "        else:            \n",
    "            p = [] \n",
    "            for tag in tag_set:\n",
    "                if key == 0:\n",
    "                    transition_p = tags_df.loc['.', tag]\n",
    "                else:\n",
    "                    transition_p = tags_df.loc[state[-1], tag]\n",
    "                \n",
    "            # compute emission and state probabilities\n",
    "                emission_p = word_given_tag(words[key], tag)[0]/word_given_tag(words[key], tag)[1]\n",
    "                state_probability = emission_p * transition_p    \n",
    "                p.append(state_probability)\n",
    "            \n",
    "            pmax = max(p)\n",
    "            # getting state for which probability is maximum\n",
    "            state_max = tag_set[p.index(pmax)] \n",
    "            state.append(state_max)\n",
    "    return list(zip(words, state))"
   ]
  },
  {
   "cell_type": "code",
   "execution_count": 46,
   "metadata": {},
   "outputs": [
    {
     "name": "stdout",
     "output_type": "stream",
     "text": [
      "The accuracy of the viterbi_backedup_by_trigram_tagger is - 0.9466666666666667\n"
     ]
    }
   ],
   "source": [
    "# tagging the test sentences\n",
    "viterbi_trigram_tagged_seq = viterbi_backedup_by_trigram_tagger(test_tagged_words)\n",
    "\n",
    "# accuracy\n",
    "viterbi_trigram_word_check = [i for i, j in zip(viterbi_trigram_tagged_seq, test_run_base) if i == j]\n",
    "\n",
    "viterbi_trigram_accuracy = len(viterbi_trigram_word_check)/len(viterbi_trigram_tagged_seq)\n",
    "\n",
    "print(\"The accuracy of the viterbi_backedup_by_trigram_tagger is -\", viterbi_trigram_accuracy)"
   ]
  },
  {
   "cell_type": "code",
   "execution_count": null,
   "metadata": {},
   "outputs": [],
   "source": []
  },
  {
   "cell_type": "markdown",
   "metadata": {},
   "source": [
    "#### Evaluating tagging accuracy"
   ]
  },
  {
   "cell_type": "code",
   "execution_count": null,
   "metadata": {},
   "outputs": [],
   "source": [
    "f = open('Test_sentences.txt')\n",
    "text = f.read()\n",
    "sample_test_sent = text.splitlines()\n",
    "f.close()\n",
    "sample_test_sent"
   ]
  },
  {
   "cell_type": "code",
   "execution_count": null,
   "metadata": {},
   "outputs": [],
   "source": [
    "# list of untagged words\n",
    "sample_test_words = [word for sent in sample_test_sent for word in sent.split()]"
   ]
  },
  {
   "cell_type": "code",
   "execution_count": null,
   "metadata": {},
   "outputs": [],
   "source": [
    "# tagging the test sentences\n",
    "start = time.time()\n",
    "tagged_seq_tst = Viterbi_m2(sample_test_words)\n",
    "end = time.time()\n"
   ]
  },
  {
   "cell_type": "code",
   "execution_count": null,
   "metadata": {},
   "outputs": [],
   "source": [
    "tagged_seq_tst"
   ]
  },
  {
   "cell_type": "markdown",
   "metadata": {},
   "source": [
    "### Compare the tagging accuracies of the modifications with the vanilla Viterbi algorithm"
   ]
  },
  {
   "cell_type": "code",
   "execution_count": null,
   "metadata": {},
   "outputs": [],
   "source": []
  },
  {
   "cell_type": "code",
   "execution_count": null,
   "metadata": {},
   "outputs": [],
   "source": []
  },
  {
   "cell_type": "code",
   "execution_count": null,
   "metadata": {},
   "outputs": [],
   "source": []
  },
  {
   "cell_type": "markdown",
   "metadata": {},
   "source": [
    "### List down cases which were incorrectly tagged by original POS tagger and got corrected by your modifications"
   ]
  },
  {
   "cell_type": "code",
   "execution_count": null,
   "metadata": {},
   "outputs": [],
   "source": []
  },
  {
   "cell_type": "code",
   "execution_count": null,
   "metadata": {},
   "outputs": [],
   "source": []
  },
  {
   "cell_type": "code",
   "execution_count": null,
   "metadata": {},
   "outputs": [],
   "source": []
  }
 ],
 "metadata": {
  "kernelspec": {
   "display_name": "Python 3",
   "language": "python",
   "name": "python3"
  },
  "language_info": {
   "codemirror_mode": {
    "name": "ipython",
    "version": 3
   },
   "file_extension": ".py",
   "mimetype": "text/x-python",
   "name": "python",
   "nbconvert_exporter": "python",
   "pygments_lexer": "ipython3",
   "version": "3.7.4"
  }
 },
 "nbformat": 4,
 "nbformat_minor": 2
}
