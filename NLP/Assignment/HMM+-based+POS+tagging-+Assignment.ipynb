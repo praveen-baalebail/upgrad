{
 "cells": [
  {
   "cell_type": "markdown",
   "metadata": {},
   "source": [
    "## Assignment - Syntactic Analysis"
   ]
  },
  {
   "cell_type": "markdown",
   "metadata": {},
   "source": [
    "### Table of Contents\n",
    "\n",
    "1. Problem Statement \n",
    "2. Data Preparation\n",
    "3. Build the vanilla Viterbi based POS tagger\n",
    "4. Viterbi Modification-Technique 1 to handle unknown words\n",
    "5. Viterbi Modification-Technique 2 to handle unkown words and improve accuracy\n",
    "6. Model Evaluation\n",
    "7. Summary\n"
   ]
  },
  {
   "cell_type": "markdown",
   "metadata": {},
   "source": [
    "### 1. Problem Statement\n",
    "\n",
    "In this assignment, we need to modify the Viterbi algorithm to solve the problem of unknown words using at least two techniques.\n",
    "\n",
    "##### Here are the High level steps we need to acomplish.\n",
    "\n",
    "1. Write the vanilla Viterbi algorithm for assigning POS tags (i.e. without dealing with unknown words) \n",
    "2.  Solve the problem of unknown words using at least two techniques. \n",
    "3.  Compare the tagging accuracy after making these modifications with the vanilla Viterbi algorithm.\n",
    "4.  List down at least three cases from the sample test file (i.e. unknown word-tag pairs) which were incorrectly tagged by the original Viterbi POS tagger and got corrected after your modifications\n"
   ]
  },
  {
   "cell_type": "markdown",
   "metadata": {},
   "source": [
    "### 2. Data Preparation\n",
    "\n",
    "* Import required libraries\n",
    "* For this assignment, we will use the Treebank dataset of NLTK with the 'universal' tagset. The Universal tagset of NLTK comprises only 12 coarse tag classes.\n",
    "* Split data into 95:5 ratio for train and test.\n",
    "* Data analysis like no.of train set, types of tag set, frequent tag sets.\n",
    "* create functions to calculate Emission probability and Transition probability."
   ]
  },
  {
   "cell_type": "code",
   "execution_count": 1,
   "metadata": {},
   "outputs": [],
   "source": [
    "#Importing libraries\n",
    "import nltk, re, pprint\n",
    "import numpy as np\n",
    "import pandas as pd\n",
    "import requests\n",
    "import matplotlib.pyplot as plt\n",
    "import seaborn as sns\n",
    "import pprint, time\n",
    "import random\n",
    "from sklearn.model_selection import train_test_split\n",
    "from nltk.tokenize import word_tokenize\n"
   ]
  },
  {
   "cell_type": "code",
   "execution_count": 2,
   "metadata": {},
   "outputs": [],
   "source": [
    "# reading the Treebank tagged 'universal' sentences\n",
    "nltk_data = list(nltk.corpus.treebank.tagged_sents(tagset='universal'))"
   ]
  },
  {
   "cell_type": "code",
   "execution_count": 3,
   "metadata": {},
   "outputs": [
    {
     "name": "stdout",
     "output_type": "stream",
     "text": [
      "3914\n",
      "[[('Pierre', 'NOUN'), ('Vinken', 'NOUN'), (',', '.'), ('61', 'NUM'), ('years', 'NOUN'), ('old', 'ADJ'), (',', '.'), ('will', 'VERB'), ('join', 'VERB'), ('the', 'DET'), ('board', 'NOUN'), ('as', 'ADP'), ('a', 'DET'), ('nonexecutive', 'ADJ'), ('director', 'NOUN'), ('Nov.', 'NOUN'), ('29', 'NUM'), ('.', '.')], [('Mr.', 'NOUN'), ('Vinken', 'NOUN'), ('is', 'VERB'), ('chairman', 'NOUN'), ('of', 'ADP'), ('Elsevier', 'NOUN'), ('N.V.', 'NOUN'), (',', '.'), ('the', 'DET'), ('Dutch', 'NOUN'), ('publishing', 'VERB'), ('group', 'NOUN'), ('.', '.')], [('Rudolph', 'NOUN'), ('Agnew', 'NOUN'), (',', '.'), ('55', 'NUM'), ('years', 'NOUN'), ('old', 'ADJ'), ('and', 'CONJ'), ('former', 'ADJ'), ('chairman', 'NOUN'), ('of', 'ADP'), ('Consolidated', 'NOUN'), ('Gold', 'NOUN'), ('Fields', 'NOUN'), ('PLC', 'NOUN'), (',', '.'), ('was', 'VERB'), ('named', 'VERB'), ('*-1', 'X'), ('a', 'DET'), ('nonexecutive', 'ADJ'), ('director', 'NOUN'), ('of', 'ADP'), ('this', 'DET'), ('British', 'ADJ'), ('industrial', 'ADJ'), ('conglomerate', 'NOUN'), ('.', '.')]]\n"
     ]
    }
   ],
   "source": [
    "# first few tagged sentences\n",
    "print(len(nltk_data))  #no of tagged sentences\n",
    "print(nltk_data[:3])\n",
    "\n",
    "#We have around 3914 sentences from the dataset."
   ]
  },
  {
   "cell_type": "code",
   "execution_count": 4,
   "metadata": {},
   "outputs": [
    {
     "name": "stdout",
     "output_type": "stream",
     "text": [
      "3718\n",
      "196\n"
     ]
    }
   ],
   "source": [
    "# Splitting into train and test into 95:5 ratio. \n",
    "random.seed(1234)\n",
    "train_set, test_set = train_test_split(nltk_data,test_size=0.05)\n",
    "\n",
    "print(len(train_set))\n",
    "print(len(test_set)) \n",
    "\n",
    "#Data is split into 95:5 ratio. Keeping the validation set small to restrict the runtime."
   ]
  },
  {
   "cell_type": "code",
   "execution_count": 5,
   "metadata": {},
   "outputs": [
    {
     "data": {
      "text/plain": [
       "95572"
      ]
     },
     "execution_count": 5,
     "metadata": {},
     "output_type": "execute_result"
    }
   ],
   "source": [
    "# Getting list of tagged words\n",
    "train_tagged_words = [tup for sent in train_set for tup in sent]\n",
    "len(train_tagged_words)\n",
    "\n",
    "#We have 95K words in train set."
   ]
  },
  {
   "cell_type": "code",
   "execution_count": 6,
   "metadata": {},
   "outputs": [
    {
     "data": {
      "text/plain": [
       "[('NOUN', 27418),\n",
       " ('VERB', 12847),\n",
       " ('.', 11099),\n",
       " ('ADP', 9350),\n",
       " ('DET', 8285),\n",
       " ('X', 6287),\n",
       " ('ADJ', 6070),\n",
       " ('NUM', 3405),\n",
       " ('PRT', 3062),\n",
       " ('ADV', 2996),\n",
       " ('PRON', 2610),\n",
       " ('CONJ', 2143)]"
      ]
     },
     "execution_count": 6,
     "metadata": {},
     "output_type": "execute_result"
    }
   ],
   "source": [
    "# Which is the most frequent tag in the corpus\n",
    "from collections import Counter\n",
    "\n",
    "tags = [pair[1] for pair in train_tagged_words]\n",
    "tag_counts = Counter(tags)\n",
    "tag_counts.most_common()\n",
    "\n",
    "# Noun is the most common POS tag followed by VERB and then by '.'\n",
    "# There are 12 unique POS tags in the data set."
   ]
  },
  {
   "cell_type": "code",
   "execution_count": 7,
   "metadata": {},
   "outputs": [
    {
     "data": {
      "text/plain": [
       "[((',', '.'), 4624),\n",
       " (('.', '.'), 3632),\n",
       " (('$', '.'), 691),\n",
       " (('``', '.'), 654),\n",
       " ((\"''\", '.'), 639),\n",
       " (('--', '.'), 214),\n",
       " ((';', '.'), 165),\n",
       " ((':', '.'), 140),\n",
       " (('-RRB-', '.'), 108),\n",
       " (('-LRB-', '.'), 102)]"
      ]
     },
     "execution_count": 7,
     "metadata": {},
     "output_type": "execute_result"
    }
   ],
   "source": [
    "# Which word is most commonly assigned to the tag '.'\n",
    "p_tags = [pair for pair in train_tagged_words if pair[1].lower() == '.']\n",
    "p_counts = Counter(p_tags)\n",
    "p_counts.most_common()[:10]\n",
    "\n",
    "#Punctuation marks and character groups used in to delimit linguistic units is tagged to '.'"
   ]
  },
  {
   "cell_type": "code",
   "execution_count": 8,
   "metadata": {},
   "outputs": [
    {
     "data": {
      "text/plain": [
       "[(('*-1', 'X'), 1071),\n",
       " (('0', 'X'), 1046),\n",
       " (('*', 'X'), 912),\n",
       " (('*T*-1', 'X'), 761),\n",
       " (('*U*', 'X'), 716),\n",
       " (('*-2', 'X'), 353),\n",
       " (('*T*-2', 'X'), 326),\n",
       " (('*-3', 'X'), 124),\n",
       " (('*T*-3', 'X'), 92),\n",
       " (('*ICH*-1', 'X'), 70)]"
      ]
     },
     "execution_count": 8,
     "metadata": {},
     "output_type": "execute_result"
    }
   ],
   "source": [
    "# Which word is most commonly assigned to the tag '.'\n",
    "x_tags = [pair for pair in train_tagged_words if pair[1] == 'X']\n",
    "x_counts = Counter(x_tags)\n",
    "x_counts.most_common()[:10]\n",
    "\n",
    "# The tag X is used for words that for some reason cannot be assigned to a real part-of-speech category.\n",
    "# Words containg patterns with '*' symbols in it.\n",
    "# Numerical 0 is also tagged to X instead of Num."
   ]
  },
  {
   "cell_type": "code",
   "execution_count": 9,
   "metadata": {},
   "outputs": [
    {
     "name": "stdout",
     "output_type": "stream",
     "text": [
      "12101\n"
     ]
    }
   ],
   "source": [
    "# Get all unique word vocabulary from the data set. Also called as tokens \n",
    "\n",
    "tokens = [pair[0] for pair in train_tagged_words]\n",
    "train_vocabulary_set = set(tokens)\n",
    "print(len(train_vocabulary_set))\n",
    "\n",
    "#There are around 12k unique Vocabulary in train set."
   ]
  },
  {
   "cell_type": "code",
   "execution_count": 10,
   "metadata": {},
   "outputs": [
    {
     "name": "stdout",
     "output_type": "stream",
     "text": [
      "12\n",
      "['.', 'ADJ', 'ADP', 'ADV', 'CONJ', 'DET', 'NOUN', 'NUM', 'PRON', 'PRT', 'VERB', 'X']\n"
     ]
    }
   ],
   "source": [
    "# Get all unique POS tags from the data set. \n",
    "tag_set = sorted(set([pair[1] for pair in train_tagged_words]))\n",
    "print(len(tag_set))\n",
    "print(tag_set)\n",
    "\n",
    "#There are 12 tag sets in the tagged word set. This will be used for our training."
   ]
  },
  {
   "cell_type": "code",
   "execution_count": 11,
   "metadata": {},
   "outputs": [],
   "source": [
    "# computing P(w/t) and storing in T x V matrix\n",
    "\n",
    "t = len(tag_set)\n",
    "v = len(train_vocabulary_set)\n",
    "w_given_t = np.zeros((t, v))"
   ]
  },
  {
   "cell_type": "code",
   "execution_count": 12,
   "metadata": {},
   "outputs": [],
   "source": [
    "# compute word given tag: Emission Probability\n",
    "def word_given_tag(word, tag, train_bag = train_tagged_words):\n",
    "    tag_list = [pair for pair in train_bag if pair[1]==tag]\n",
    "    count_tag = len(tag_list)\n",
    "    w_given_tag_list = [pair[0] for pair in tag_list if pair[0]==word]\n",
    "    count_w_given_tag = len(w_given_tag_list)\n",
    "    \n",
    "    return (count_w_given_tag, count_tag)\n",
    "\n",
    "# compute tag given tag: tag2(t2) given tag1 (t1), i.e. Transition Probability\n",
    "\n",
    "def t2_given_t1(t2, t1, train_bag = train_tagged_words):\n",
    "    tags = [pair[1] for pair in train_bag]\n",
    "    count_t1 = len([t for t in tags if t==t1])\n",
    "    count_t2_t1 = 0\n",
    "    for index in range(len(tags)-1):\n",
    "        if tags[index]==t1 and tags[index+1] == t2:\n",
    "            count_t2_t1 += 1\n",
    "    return (count_t2_t1, count_t1)\n",
    "\n",
    "#Heatmap \n",
    "def plotheatmap(df,Title,Figsize=None):\n",
    "    \n",
    "    f,ax= plt.subplots(1,1,figsize=Figsize)   \n",
    "    sns.heatmap(df,annot=True)\n",
    "    ax.set_title(Title)\n",
    "    \n",
    "    #Fix 3.11 matplot version issue by setting the limits manually.\n",
    "    bottom, top = ax.get_ylim()\n",
    "    ax.set_ylim(bottom + 0.5, top - 0.5)\n",
    "    \n",
    "    \n",
    "    plt.show()"
   ]
  },
  {
   "cell_type": "code",
   "execution_count": 13,
   "metadata": {},
   "outputs": [],
   "source": [
    "# creating t x t transition matrix of tags\n",
    "# each column is t2, each row is t1\n",
    "# thus M(i, j) represents P(tj given ti)\n",
    "\n",
    "tags_matrix = np.zeros((len(tag_set), len(tag_set)), dtype='float32')\n",
    "for i, t1 in enumerate(list(tag_set)):\n",
    "    for j, t2 in enumerate(list(tag_set)): \n",
    "        tags_matrix[i, j] = t2_given_t1(t2, t1)[0]/t2_given_t1(t2, t1)[1]"
   ]
  },
  {
   "cell_type": "code",
   "execution_count": 14,
   "metadata": {},
   "outputs": [],
   "source": [
    "# convert the matrix to a df for better readability\n",
    "tags_df = pd.DataFrame(tags_matrix, columns = list(tag_set), index=list(tag_set))"
   ]
  },
  {
   "cell_type": "code",
   "execution_count": 15,
   "metadata": {},
   "outputs": [
    {
     "data": {
      "image/png": "[encoded data removed]",
      "text/plain": [
       "<Figure size 864x432 with 2 Axes>"
      ]
     },
     "metadata": {
      "needs_background": "light"
     },
     "output_type": "display_data"
    }
   ],
   "source": [
    "plotheatmap(tags_df,\"transition probability of tags\",Figsize=(12, 6))\n",
    "\n",
    "#Adjective followed by a Noun has highest probability of 0.7.\n",
    "#Determiners followed by Noun comes next with 0.64 probability.\n",
    "#Verbs are precided by either Pronouns or Particles or Adverbs with a probability of 0.48, 0.4 and 0.34 respectively."
   ]
  },
  {
   "cell_type": "code",
   "execution_count": 16,
   "metadata": {},
   "outputs": [
    {
     "data": {
      "text/plain": [
       ".       0.093162\n",
       "ADJ     0.044238\n",
       "ADP     0.090549\n",
       "ADV     0.052798\n",
       "CONJ    0.057393\n",
       "DET     0.174070\n",
       "NOUN    0.222813\n",
       "NUM     0.082350\n",
       "PRON    0.065501\n",
       "PRT     0.002523\n",
       "VERB    0.087305\n",
       "X       0.027300\n",
       "Name: ., dtype: float32"
      ]
     },
     "execution_count": 16,
     "metadata": {},
     "output_type": "execute_result"
    }
   ],
   "source": [
    "#Transition probability, given previous tag is start of the sentence.\n",
    "tags_df.loc['.',:]\n",
    "\n",
    "# Words starting with Noun is highest with 0.22 \n",
    "# Determiners also has high probability of 0.17 to start the sentence."
   ]
  },
  {
   "cell_type": "markdown",
   "metadata": {},
   "source": [
    "### 3. Build the vanilla Viterbi based POS tagger\n",
    "\n",
    "Vanilla Viterbi algorithm works as follows:\n",
    "\n",
    "* For each word, we compute the P(tag|word) for each tag in the tag set and then assign the tag having the max P(tag/word).\n",
    "\n",
    "* P(tag|word)  = (emission probability of the word-tag pair) * (transition probability from the previous tag)."
   ]
  },
  {
   "cell_type": "code",
   "execution_count": 17,
   "metadata": {},
   "outputs": [],
   "source": [
    "# Create function to calculate vanilla Viterbi Heuristic algorithm for a given word and train set.\n",
    "\n",
    "def Viterbi_Vanilla(words, train_bag = train_tagged_words):\n",
    "    state = []\n",
    "    T = list(tag_set)\n",
    "    \n",
    "    for key, word in enumerate(words):\n",
    "        #initialise list of probability column for a given observation\n",
    "        p = [] \n",
    "        for tag in T:\n",
    "            if key == 0:\n",
    "                transition_p = tags_df.loc['.', tag]\n",
    "            else:\n",
    "                transition_p = tags_df.loc[state[-1], tag]\n",
    "                \n",
    "            # compute emission and state probabilities\n",
    "            emission_p = word_given_tag(words[key], tag)[0]/word_given_tag(words[key], tag)[1]\n",
    "            state_probability = emission_p * transition_p    \n",
    "            \n",
    "            p.append(state_probability)\n",
    "            \n",
    "        pmax = max(p)\n",
    "        # getting state for which probability is maximum\n",
    "        state_max = T[p.index(pmax)] \n",
    "        state.append(state_max)\n",
    "    return list(zip(words, state))\n",
    "\n",
    "\n",
    "#Create Function to check accuracy\n",
    "def check_accuracy(tagged_set, test_run_base,msg):\n",
    "    check = [i for i, j in zip(tagged_set, test_run_base) if i == j] \n",
    "    accuracy = round((len(check)/len(tagged_set))*100,2)\n",
    "    print(msg,accuracy,end='%')\n",
    "\n",
    "# Create Function to check incorrect tag cases.     \n",
    "def check_diff(tagged_set,test_run_base):\n",
    "    incorrect_tagged_cases = [[test_run_base[i-1],j[0],j[1],test_run_base[i+1]] for i, j in enumerate(zip(tagged_set, test_run_base)) if j[0]!=j[1]]\n",
    "    diff_df = pd.DataFrame(incorrect_tagged_cases, columns = ['Previous Word-Tag','Predicted Word-Tag','Actual Word-Tag','Next Word-Tag'])\n",
    "    return diff_df\n",
    "\n",
    "#Create function to generate a sample set of 5 sentences from test set \n",
    "def generate_sampl_set(num):\n",
    "    random.seed(num)\n",
    "\n",
    "    # choose random 5 sents\n",
    "    rndom = [random.randint(1,len(test_set)) for x in range(5)]\n",
    "\n",
    "    # list of sents\n",
    "    test_run = [test_set[i] for i in rndom]\n",
    "\n",
    "    # list of tagged words\n",
    "    test_run_base = [tup for sent in test_run for tup in sent]\n",
    "\n",
    "    # list of untagged words\n",
    "    test_tagged_words = [tup[0] for sent in test_run for tup in sent]\n",
    "    \n",
    "    return test_run_base,test_tagged_words\n"
   ]
  },
  {
   "cell_type": "code",
   "execution_count": 18,
   "metadata": {},
   "outputs": [
    {
     "name": "stdout",
     "output_type": "stream",
     "text": [
      "Time taken in seconds:  22.81\n",
      "Accuracy of vanilla Viterbi model:  90.54%"
     ]
    },
    {
     "data": {
      "text/html": [
       "<div>\n",
       "<style scoped>\n",
       "    .dataframe tbody tr th:only-of-type {\n",
       "        vertical-align: middle;\n",
       "    }\n",
       "\n",
       "    .dataframe tbody tr th {\n",
       "        vertical-align: top;\n",
       "    }\n",
       "\n",
       "    .dataframe thead th {\n",
       "        text-align: right;\n",
       "    }\n",
       "</style>\n",
       "<table border=\"1\" class=\"dataframe\">\n",
       "  <thead>\n",
       "    <tr style=\"text-align: right;\">\n",
       "      <th></th>\n",
       "      <th>Previous Word-Tag</th>\n",
       "      <th>Predicted Word-Tag</th>\n",
       "      <th>Actual Word-Tag</th>\n",
       "      <th>Next Word-Tag</th>\n",
       "    </tr>\n",
       "  </thead>\n",
       "  <tbody>\n",
       "    <tr>\n",
       "      <td>0</td>\n",
       "      <td>(in, ADP)</td>\n",
       "      <td>(Wickliffe, .)</td>\n",
       "      <td>(Wickliffe, NOUN)</td>\n",
       "      <td>(,, .)</td>\n",
       "    </tr>\n",
       "    <tr>\n",
       "      <td>1</td>\n",
       "      <td>(makes, VERB)</td>\n",
       "      <td>(computerized, .)</td>\n",
       "      <td>(computerized, ADJ)</td>\n",
       "      <td>(industrial, ADJ)</td>\n",
       "    </tr>\n",
       "    <tr>\n",
       "      <td>2</td>\n",
       "      <td>(., .)</td>\n",
       "      <td>(Yet, CONJ)</td>\n",
       "      <td>(Yet, ADV)</td>\n",
       "      <td>(this, DET)</td>\n",
       "    </tr>\n",
       "    <tr>\n",
       "      <td>3</td>\n",
       "      <td>(Marie-Louise, NOUN)</td>\n",
       "      <td>(Giraud, .)</td>\n",
       "      <td>(Giraud, NOUN)</td>\n",
       "      <td>(,, .)</td>\n",
       "    </tr>\n",
       "    <tr>\n",
       "      <td>4</td>\n",
       "      <td>(historical, ADJ)</td>\n",
       "      <td>(significance, .)</td>\n",
       "      <td>(significance, NOUN)</td>\n",
       "      <td>(,, .)</td>\n",
       "    </tr>\n",
       "    <tr>\n",
       "      <td>5</td>\n",
       "      <td>('s, PRT)</td>\n",
       "      <td>(hypocrisy, .)</td>\n",
       "      <td>(hypocrisy, NOUN)</td>\n",
       "      <td>(., .)</td>\n",
       "    </tr>\n",
       "    <tr>\n",
       "      <td>6</td>\n",
       "      <td>(., .)</td>\n",
       "      <td>(Most, ADJ)</td>\n",
       "      <td>(Most, ADV)</td>\n",
       "      <td>(recently, ADV)</td>\n",
       "    </tr>\n",
       "    <tr>\n",
       "      <td>7</td>\n",
       "      <td>(and, CONJ)</td>\n",
       "      <td>(manufacturing, NOUN)</td>\n",
       "      <td>(manufacturing, VERB)</td>\n",
       "      <td>(engineering, NOUN)</td>\n",
       "    </tr>\n",
       "    <tr>\n",
       "      <td>8</td>\n",
       "      <td>(``, .)</td>\n",
       "      <td>(Red-blooded, .)</td>\n",
       "      <td>(Red-blooded, ADJ)</td>\n",
       "      <td>(,, .)</td>\n",
       "    </tr>\n",
       "    <tr>\n",
       "      <td>9</td>\n",
       "      <td>(,, .)</td>\n",
       "      <td>(balanced, .)</td>\n",
       "      <td>(balanced, ADJ)</td>\n",
       "      <td>(male, NOUN)</td>\n",
       "    </tr>\n",
       "    <tr>\n",
       "      <td>10</td>\n",
       "      <td>(balanced, ADJ)</td>\n",
       "      <td>(male, ADJ)</td>\n",
       "      <td>(male, NOUN)</td>\n",
       "      <td>(,, .)</td>\n",
       "    </tr>\n",
       "    <tr>\n",
       "      <td>11</td>\n",
       "      <td>(``, .)</td>\n",
       "      <td>(frequency, .)</td>\n",
       "      <td>(frequency, NOUN)</td>\n",
       "      <td>(of, ADP)</td>\n",
       "    </tr>\n",
       "    <tr>\n",
       "      <td>12</td>\n",
       "      <td>(women, NOUN)</td>\n",
       "      <td>(fainting, .)</td>\n",
       "      <td>(fainting, VERB)</td>\n",
       "      <td>(in, ADP)</td>\n",
       "    </tr>\n",
       "    <tr>\n",
       "      <td>13</td>\n",
       "      <td>(making, VERB)</td>\n",
       "      <td>(tea, .)</td>\n",
       "      <td>(tea, NOUN)</td>\n",
       "      <td>(at, ADP)</td>\n",
       "    </tr>\n",
       "  </tbody>\n",
       "</table>\n",
       "</div>"
      ],
      "text/plain": [
       "       Previous Word-Tag     Predicted Word-Tag        Actual Word-Tag  \\\n",
       "0              (in, ADP)         (Wickliffe, .)      (Wickliffe, NOUN)   \n",
       "1          (makes, VERB)      (computerized, .)    (computerized, ADJ)   \n",
       "2                 (., .)            (Yet, CONJ)             (Yet, ADV)   \n",
       "3   (Marie-Louise, NOUN)            (Giraud, .)         (Giraud, NOUN)   \n",
       "4      (historical, ADJ)      (significance, .)   (significance, NOUN)   \n",
       "5              ('s, PRT)         (hypocrisy, .)      (hypocrisy, NOUN)   \n",
       "6                 (., .)            (Most, ADJ)            (Most, ADV)   \n",
       "7            (and, CONJ)  (manufacturing, NOUN)  (manufacturing, VERB)   \n",
       "8                (``, .)       (Red-blooded, .)     (Red-blooded, ADJ)   \n",
       "9                 (,, .)          (balanced, .)        (balanced, ADJ)   \n",
       "10       (balanced, ADJ)            (male, ADJ)           (male, NOUN)   \n",
       "11               (``, .)         (frequency, .)      (frequency, NOUN)   \n",
       "12         (women, NOUN)          (fainting, .)       (fainting, VERB)   \n",
       "13        (making, VERB)               (tea, .)            (tea, NOUN)   \n",
       "\n",
       "          Next Word-Tag  \n",
       "0                (,, .)  \n",
       "1     (industrial, ADJ)  \n",
       "2           (this, DET)  \n",
       "3                (,, .)  \n",
       "4                (,, .)  \n",
       "5                (., .)  \n",
       "6       (recently, ADV)  \n",
       "7   (engineering, NOUN)  \n",
       "8                (,, .)  \n",
       "9          (male, NOUN)  \n",
       "10               (,, .)  \n",
       "11            (of, ADP)  \n",
       "12            (in, ADP)  \n",
       "13            (at, ADP)  "
      ]
     },
     "execution_count": 18,
     "metadata": {},
     "output_type": "execute_result"
    }
   ],
   "source": [
    "#Test on Vanilla Viterbi model\n",
    "test_run_base,test_tagged_words = generate_sampl_set(100)\n",
    "start = time.time()\n",
    "tagged_set1 = Viterbi_Vanilla(test_tagged_words)\n",
    "end = time.time()\n",
    "print(\"Time taken in seconds: \", round(end-start,2))\n",
    "\n",
    "check_accuracy(tagged_set1,test_run_base,'Accuracy of vanilla Viterbi model: ')\n",
    "\n",
    "check_diff(tagged_set1,test_run_base)"
   ]
  },
  {
   "cell_type": "markdown",
   "metadata": {},
   "source": [
    "#### Observations from vanilla Viterbi Model\n",
    "\n",
    "* Most of the unknown words are tagged as '.' since its the first tag\n",
    "* For unknown words Emission probability will be 0 and hence it takes the default flag.\n",
    "* There are dependent words on unknown words which might get corrected after resolving unknown words.For ex: word 'male' is dependent on word 'balanced' which might tagged correctly once first word is tagged as per Markov model.\n",
    "* In order to resolve this we can consider only the transition probability and evaluate the accuracy.\n"
   ]
  },
  {
   "cell_type": "markdown",
   "metadata": {},
   "source": [
    "### Solve the problem of unknown words"
   ]
  },
  {
   "cell_type": "code",
   "execution_count": 19,
   "metadata": {},
   "outputs": [
    {
     "name": "stdout",
     "output_type": "stream",
     "text": [
      "Total Unknown words : 10\n",
      "\n",
      "\n",
      "Unknown Words : ['fainting', 'computerized', 'Giraud', 'Red-blooded', 'hypocrisy', 'balanced', 'tea', 'significance', 'frequency', 'Wickliffe']\n"
     ]
    }
   ],
   "source": [
    "# list unknown words in sample test set compared to train set.\n",
    "\n",
    "test_tagged_set = set([tup[0] for tup in test_run_base])\n",
    "train_tagged_set = set([tup[0] for sent in train_set for tup in sent])\n",
    "\n",
    "unknown_words = list(test_tagged_set - train_tagged_set)\n",
    "print(\"Total Unknown words :\", len(unknown_words))\n",
    "print(\"\\n\")\n",
    "print(\"Unknown Words :\", unknown_words)\n",
    "\n",
    "#There are 10 words in the sample set which are not in train set.\n",
    "# All these 10 words are tagged as '.', which is first tag out of 12 tag classes universal tag set."
   ]
  },
  {
   "cell_type": "code",
   "execution_count": 36,
   "metadata": {},
   "outputs": [
    {
     "name": "stdout",
     "output_type": "stream",
     "text": [
      "\n",
      " word -> significance\n",
      "Emmision probability:  0.0\n",
      "Transition Probability for tag t2 . given t1 is ADJ is - 0.06408567\n",
      "Transition Probability for tag t2 ADJ given t1 is ADJ is - 0.0660626\n",
      "Transition Probability for tag t2 ADP given t1 is ADJ is - 0.07841845\n",
      "Transition Probability for tag t2 ADV given t1 is ADJ is - 0.00461285\n",
      "Transition Probability for tag t2 CONJ given t1 is ADJ is - 0.0169687\n",
      "Transition Probability for tag t2 DET given t1 is ADJ is - 0.0049423394\n",
      "Transition Probability for tag t2 NOUN given t1 is ADJ is - 0.699341\n",
      "Transition Probability for tag t2 NUM given t1 is ADJ is - 0.02158155\n",
      "Transition Probability for tag t2 PRON given t1 is ADJ is - 0.0006589786\n",
      "Transition Probability for tag t2 PRT given t1 is ADJ is - 0.010214168\n",
      "Transition Probability for tag t2 VERB given t1 is ADJ is - 0.012355848\n",
      "Transition Probability for tag t2 X given t1 is ADJ is - 0.020757826\n"
     ]
    }
   ],
   "source": [
    "#Check the emission and transition probabilities of unknown words.\n",
    "\n",
    "print(\"\\n\", \"word -> significance\")\n",
    "print('Emmision probability: ',word_given_tag('significance', 'NOUN')[0]/word_given_tag('significance', 'NOUN')[1])\n",
    "\n",
    "for t in tag_set:\n",
    "    print ('Transition Probability for tag t2 '+t+' given t1 is ADJ is -' ,tags_df.loc['ADJ', t])\n",
    "\n",
    "# Emission probability of this word is 0\n",
    "# Transition probability of word is non zero\n",
    "# Since Viterbi considers state probability, unknown words always end up taking first default tag.\n",
    "# Tag t2 NOUN given t1 ADJ is highest for this word, which is correct tagging.\n",
    "# To address this we can consider only tranition probability for unknown words in our first technique."
   ]
  },
  {
   "cell_type": "code",
   "execution_count": 21,
   "metadata": {},
   "outputs": [
    {
     "name": "stdout",
     "output_type": "stream",
     "text": [
      "Total Unknown words : 307\n",
      "\n",
      "\n",
      "Unknown Words : ['nonfinancial', 'forgotten', 'bat', 'castle', 'sparking', 'executes', 'Hawke', 'topped', 'Olson', 'agreeing', 'Herbert', 'encircling', 'Bunny', 'Jacksonville', 'perceptions', 'interviewed', '494.50', 'lengthened', 'repay', 'Edwin', '70.2', 'unneeded', 'Nylev', 'reclaim', 'mailed', 'Morrison', 'sometimes-exhausting', 'maturing', 'Marathon', 'curly', 'Henderson', 'top-selling', 'rim', 'Terrace', 'feelings', 'styles', '*T*-254', 'harmful', 'belfries', 'LOAN', '176.1', 'Lowe', 'octogenarians', 'bulldozers', 'cushion', 'breaking', 'till', 'tailoring', 'Julia', '11,390,000', 'applicability', 'la', 'therapies', '446.62', 'leap', 'Mac', 'correspondence', 'fainting', 'witnesses', 'CORP', '240,000', 'questioned', 'Wickliffe', 'clobbered', 'depending', 'regenerate', 'Perch', 'Nor', 'crying', '38.875', '*T*-133', '14.54', 'Advice', 'Gillett', 'Miguel', 'compilation', 'Teacher', 'Goode', '*T*-115', 'deviation', 'kit', '16.5', 'reckless', 'photocopying', 'vineyard', 'personnel', 'preface', 'C.D.s', 'entertaining', 'afford', 'persuasive', 'subordinate', 'domestically', 'anywhere', 'seafood', 'price-support', 'sounding', 'omnipresent', '5.70', '14.28', 'mushy', 'Parents', 'hitter', 'tigers', 'customized', 'feudal', 'digs', 'skyward', 'creator', '*-31', 'Continental', 'superintendent', 'Johnny', 'Uzi-model', 'inspection', '472', 'expands', 'worsen', 'refer', '87-store', 'test-practice', 'Dunn', '126.15', 'mortgaged', 'certin', 'small-time', 'Dolphin', 'politely', 'Clemens', '87.5', 'whistle', 'tad', 'Spreads', 'temporary', 'Characters', 'overriding', 'tags', 'car-development', 'Bugs', 'bust', '*T*-222', 'shed', 'Cataracts', 'grants', 'longest', 'platinum', 'negotiable', 'variation', '*T*-122', 'issuer', 'stock-manipulation', 'Duluth', 'simulates', 'Down', 'Domaine', 'significance', 'imposes', 'supports', 'vague', 'external', 'three-digit', 'trash', 'eclipse', 'Worksheets', 'Giraud', 'Red-blooded', 'retiring', 'liquid', 'images', 'frequency', 'cleaned', 'Domestic', 'ball', 'aspires', 'Make', '53-year-old', 'lab', '142.84', 'ambassador', '*T*-114', 'relieved', 'sub-segments', 'Fans', 'balls', 'globally', 'witches', 'promotional', 'Baking', 'Tarwhine', 'truck', 'malignant', 'inviting', 'Regarded', 'redistribute', 'conceivable', 'balanced', 'Stadiums', '*T*-161', 'photographic', 'fanciful', 'vertically', '169.9', 'collecting', 'summoned', 'asbestosis', 'saved', 'Andy', 'Salty', 'industrywide', 'besuboru', 'hostage', 'Pretty', 'beers', 'Mount', 'confrontational', 'Alurralde', 'disseminating', 'genes', 'screwed', 'Menem', 'Dogs', 'solicitor', 'direct-investment', 'wear', 'Airways', 'computerized', 'Donoghue', 'ambassadors', 'witness', '1.39', 'Rock', 'nominate', 'tea', 'cheerleaders', 'annualized', 'drunk', 'Advanced', 'retardation', 'bell-ringer', '*-153', 'Seahorse', 'doctrine', 'drops', 'bread', 'residence', 'altering', 'initiating', 'integrity', 'pre-tax', 'viewpoints', 'mesothelioma', '12.09', 'Judie', 'restructures', 'seasonal', 'life-of-contract', 'Literacy', 'honorably', '*-107', 'cap', 'in-store', 'Anglia', 'boogieman', '29.4', 'hypocrisy', '198', 'rolling', 'Cultural', '51-year-old', 'twisting', 'advised', 'bout', 'dividing', 'preclude', 'knife', 'abortions', 'Simeon', 'Freddie', 'discarded', 'loses', 'commanded', 'pool', 'appoint', 'pollution', 'PTA', 'impaired', 'airline-related', 'Consent', 'syndrome', 'echoed', 'foreign-led', 'lasting', 'posing', 'ushers', 'Sauvignon', 'abide', 'transfer', 'HOME', 'clouding', '8300s', 'reprint', 'dismal', 'single-A', 'Furillo', 'riding', 'Ian', 'pep']\n"
     ]
    }
   ],
   "source": [
    "# list all unknown words in whole test set compared to train set.\n",
    "\n",
    "test_tagged_set = set([tup[0] for sent in test_set for tup in sent])\n",
    "train_tagged_set = set([tup[0] for sent in train_set for tup in sent])\n",
    "\n",
    "unknown_words = list(test_tagged_set - train_tagged_set)\n",
    "print(\"Total Unknown words :\", len(unknown_words))\n",
    "print(\"\\n\")\n",
    "print(\"Unknown Words :\", unknown_words)\n",
    "\n",
    "# There are total of 307 unknown words in the test set.\n",
    "# words vary from numbers, X tag words with '*' in it and regular words.\n",
    "# Since we know all numbers fall under NUM tag excep 0, we can default it to NUM in our viterbi modified technique."
   ]
  },
  {
   "cell_type": "markdown",
   "metadata": {},
   "source": [
    "### 4. Viterbi Modification-Technique I\n",
    "As per the analysis from unknown words,\n",
    "\n",
    "* For unknow words consider only Transition probability.\n",
    "* For words containing only numbers, tag it to NUM by default.\n"
   ]
  },
  {
   "cell_type": "code",
   "execution_count": 22,
   "metadata": {},
   "outputs": [],
   "source": [
    "# Modification of Viterbi Heuristic algorithm to consider only Transition probability for unknown words and Num words.\n",
    "def Viterbi_m1(words, train_bag = train_tagged_words):\n",
    "    state = []\n",
    "    T = list(set([pair[1] for pair in train_bag]))\n",
    "    \n",
    "    for key, word in enumerate(words):\n",
    "        #initialise list of probability column for a given observation\n",
    "        p = [] \n",
    "        num_word=re.search('^[0-9]*.?[0-9]*[0-9]$',word)\n",
    "        \n",
    "        #if a word is number and not in train set then assign it to NUM tag\n",
    "        if num_word and word not in train_vocabulary_set:\n",
    "            state.append('NUM')\n",
    "        else:\n",
    "            for tag in T:\n",
    "                if key == 0:\n",
    "                    transition_p = tags_df.loc['.', tag]\n",
    "                else:\n",
    "                    transition_p = tags_df.loc[state[-1], tag]\n",
    "                \n",
    "                # compute emission and state probabilities\n",
    "                emission_p = word_given_tag(words[key], tag)[0]/word_given_tag(words[key], tag)[1]\n",
    "            \n",
    "                # modification to the original vanilla viterbi algorithm \n",
    "                # If word in unknown then consider only the transition_p \n",
    "            \n",
    "                if word not in train_vocabulary_set:\n",
    "                \n",
    "                    state_probability = transition_p\n",
    "                else:\n",
    "                    state_probability = emission_p * transition_p\n",
    "            \n",
    "            \n",
    "                p.append(state_probability)\n",
    "            \n",
    "            pmax = max(p)\n",
    "            # getting state for which probability is maximum\n",
    "            state_max = T[p.index(pmax)] \n",
    "            state.append(state_max)\n",
    "    return list(zip(words, state))\n"
   ]
  },
  {
   "cell_type": "code",
   "execution_count": 23,
   "metadata": {},
   "outputs": [
    {
     "name": "stdout",
     "output_type": "stream",
     "text": [
      "Time taken in seconds:  23.57\n",
      "Accuracy of Modified Viterbi Model 1:  93.24%"
     ]
    },
    {
     "data": {
      "text/html": [
       "<div>\n",
       "<style scoped>\n",
       "    .dataframe tbody tr th:only-of-type {\n",
       "        vertical-align: middle;\n",
       "    }\n",
       "\n",
       "    .dataframe tbody tr th {\n",
       "        vertical-align: top;\n",
       "    }\n",
       "\n",
       "    .dataframe thead th {\n",
       "        text-align: right;\n",
       "    }\n",
       "</style>\n",
       "<table border=\"1\" class=\"dataframe\">\n",
       "  <thead>\n",
       "    <tr style=\"text-align: right;\">\n",
       "      <th></th>\n",
       "      <th>Previous Word-Tag</th>\n",
       "      <th>Predicted Word-Tag</th>\n",
       "      <th>Actual Word-Tag</th>\n",
       "      <th>Next Word-Tag</th>\n",
       "    </tr>\n",
       "  </thead>\n",
       "  <tbody>\n",
       "    <tr>\n",
       "      <td>0</td>\n",
       "      <td>(in, ADP)</td>\n",
       "      <td>(Wickliffe, DET)</td>\n",
       "      <td>(Wickliffe, NOUN)</td>\n",
       "      <td>(,, .)</td>\n",
       "    </tr>\n",
       "    <tr>\n",
       "      <td>1</td>\n",
       "      <td>(makes, VERB)</td>\n",
       "      <td>(computerized, X)</td>\n",
       "      <td>(computerized, ADJ)</td>\n",
       "      <td>(industrial, ADJ)</td>\n",
       "    </tr>\n",
       "    <tr>\n",
       "      <td>2</td>\n",
       "      <td>(., .)</td>\n",
       "      <td>(Yet, CONJ)</td>\n",
       "      <td>(Yet, ADV)</td>\n",
       "      <td>(this, DET)</td>\n",
       "    </tr>\n",
       "    <tr>\n",
       "      <td>3</td>\n",
       "      <td>('s, PRT)</td>\n",
       "      <td>(hypocrisy, VERB)</td>\n",
       "      <td>(hypocrisy, NOUN)</td>\n",
       "      <td>(., .)</td>\n",
       "    </tr>\n",
       "    <tr>\n",
       "      <td>4</td>\n",
       "      <td>(., .)</td>\n",
       "      <td>(Most, ADJ)</td>\n",
       "      <td>(Most, ADV)</td>\n",
       "      <td>(recently, ADV)</td>\n",
       "    </tr>\n",
       "    <tr>\n",
       "      <td>5</td>\n",
       "      <td>(and, CONJ)</td>\n",
       "      <td>(manufacturing, NOUN)</td>\n",
       "      <td>(manufacturing, VERB)</td>\n",
       "      <td>(engineering, NOUN)</td>\n",
       "    </tr>\n",
       "    <tr>\n",
       "      <td>6</td>\n",
       "      <td>(``, .)</td>\n",
       "      <td>(Red-blooded, NOUN)</td>\n",
       "      <td>(Red-blooded, ADJ)</td>\n",
       "      <td>(,, .)</td>\n",
       "    </tr>\n",
       "    <tr>\n",
       "      <td>7</td>\n",
       "      <td>(,, .)</td>\n",
       "      <td>(balanced, NOUN)</td>\n",
       "      <td>(balanced, ADJ)</td>\n",
       "      <td>(male, NOUN)</td>\n",
       "    </tr>\n",
       "    <tr>\n",
       "      <td>8</td>\n",
       "      <td>(women, NOUN)</td>\n",
       "      <td>(fainting, NOUN)</td>\n",
       "      <td>(fainting, VERB)</td>\n",
       "      <td>(in, ADP)</td>\n",
       "    </tr>\n",
       "    <tr>\n",
       "      <td>9</td>\n",
       "      <td>(making, VERB)</td>\n",
       "      <td>(tea, X)</td>\n",
       "      <td>(tea, NOUN)</td>\n",
       "      <td>(at, ADP)</td>\n",
       "    </tr>\n",
       "  </tbody>\n",
       "</table>\n",
       "</div>"
      ],
      "text/plain": [
       "  Previous Word-Tag     Predicted Word-Tag        Actual Word-Tag  \\\n",
       "0         (in, ADP)       (Wickliffe, DET)      (Wickliffe, NOUN)   \n",
       "1     (makes, VERB)      (computerized, X)    (computerized, ADJ)   \n",
       "2            (., .)            (Yet, CONJ)             (Yet, ADV)   \n",
       "3         ('s, PRT)      (hypocrisy, VERB)      (hypocrisy, NOUN)   \n",
       "4            (., .)            (Most, ADJ)            (Most, ADV)   \n",
       "5       (and, CONJ)  (manufacturing, NOUN)  (manufacturing, VERB)   \n",
       "6           (``, .)    (Red-blooded, NOUN)     (Red-blooded, ADJ)   \n",
       "7            (,, .)       (balanced, NOUN)        (balanced, ADJ)   \n",
       "8     (women, NOUN)       (fainting, NOUN)       (fainting, VERB)   \n",
       "9    (making, VERB)               (tea, X)            (tea, NOUN)   \n",
       "\n",
       "         Next Word-Tag  \n",
       "0               (,, .)  \n",
       "1    (industrial, ADJ)  \n",
       "2          (this, DET)  \n",
       "3               (., .)  \n",
       "4      (recently, ADV)  \n",
       "5  (engineering, NOUN)  \n",
       "6               (,, .)  \n",
       "7         (male, NOUN)  \n",
       "8            (in, ADP)  \n",
       "9            (at, ADP)  "
      ]
     },
     "execution_count": 23,
     "metadata": {},
     "output_type": "execute_result"
    }
   ],
   "source": [
    "#Test on modified Viterbi model\n",
    "start = time.time()\n",
    "tagged_set2 = Viterbi_m1(test_tagged_words)\n",
    "end = time.time()\n",
    "print(\"Time taken in seconds: \", round(end-start,2))\n",
    "\n",
    "check_accuracy(tagged_set2,test_run_base,'Accuracy of Modified Viterbi Model 1: ')\n",
    "\n",
    "check_diff(tagged_set2,test_run_base)"
   ]
  },
  {
   "cell_type": "markdown",
   "metadata": {},
   "source": [
    "#### Observations after applying Technique 1\n",
    "* After modifying vanilla Viterbi to consider only Transition probaility for unknown words, Words are not tagged to Default tags now.\n",
    "* Accuracy has improved significantly from 90% to 93.2%. \n",
    "* Since Viterbi Model is Greedy approach, it goes with max probability eventhough other combinations are valid.Hence, some words might be wrongly tagged.\n",
    "* Also, Viterbu model do not look ahead and just considers previous tag. Hence some tag which are VERB gets tagged as Noun. To solve this prolem we can look in to previous 2 tags or morphological cues.\n"
   ]
  },
  {
   "cell_type": "markdown",
   "metadata": {},
   "source": [
    "### 5. Viterbi Modification-Technique 2\n",
    "\n",
    "1. In this approach we will consider _Morphological feature_ to define POS tag patterns. The internal structure of a word may give useful clues as to the word's category. For example, -ness is a suffix that combines with an adjective to produce a noun.\n",
    "2. Additionally to morphological cues, we will use _Backoff techniques_ like unigram, bigram and trigram to improve the accuracy.\n",
    "\n"
   ]
  },
  {
   "cell_type": "code",
   "execution_count": 24,
   "metadata": {},
   "outputs": [],
   "source": [
    "# Define various morphological cues patterns in English \n",
    "patterns = [\n",
    "    (r'[aA-zZ]+(ed|ing|es)$', 'VERB'), # Any word ending with 'ing' or 'ed' or es is a verb\n",
    "    (r'.*ly$', 'ADV'),                 # Words like really, early are Adverbs.\n",
    "    (r'^([0-9]|[aA-zZ])+\\-[aA-zZ]*$','ADJ'), # words with a hyphen followed by alphabets like \n",
    "    (r'.*able$', 'ADJ'),               # Words like agreeable,Measurable are Adjectives   \n",
    "    (r'.*ful$', 'ADJ'),                # Words like Beautiful, Thankful falls under Adjective tags.\n",
    "    (r'.*ous$', 'ADJ'),                # Words like dangerous \n",
    "        \n",
    "    (r'^[aA-zZ].*[0-9]+','NOUN'),     # Alpha Numeric words are generally a Noun.\n",
    "    (r'.*ness$', 'NOUN'),             # Abstract nouns like happiness, loneliness\n",
    "    (r'.*\\'s$', 'NOUN'),              # possessive nouns - words ending with 's\n",
    "    (r'.*s$', 'NOUN'),                # plural nouns\n",
    "    (r'.*ers$', 'NOUN'),              # Words like Bankers, employers.\n",
    "    (r'.*ment$', 'NOUN'),             # Abstract nouns like argument, movement.\n",
    "    (r'.*town$', 'NOUN'),             # Place names ending with town.\n",
    "        \n",
    "    (r'^(0|([*|-|$].*))','X'), # Any special character combination\n",
    "    (r'.*ould$', 'X'),         # Words like Could, would etc. \n",
    "        \n",
    "    (r'(The|the|A|a|An|an|That|that|This|this|Those|those|These|these)$', 'DET'), # That/this/these/those belong to the category of Demonstrative determiners\n",
    "    (r'^[0-9]*.?[0-9]*[0-9]$','NUM'),  #All numbers with or without decimals\n",
    "    (r'.*', 'NOUN')   # If it is not matching any of the above patterns then assign it to Noun by default as it is most frequent POS tag.\n",
    "    ]\n",
    "\n",
    "    "
   ]
  },
  {
   "cell_type": "code",
   "execution_count": 25,
   "metadata": {},
   "outputs": [],
   "source": [
    "# Assign morphological cues to Regex tagger.\n",
    "regex_tagger = nltk.RegexpTagger(patterns)\n",
    "\n",
    "#Define Unigram tagger with reges as backoff method.\n",
    "unigram_tagger = nltk.UnigramTagger(train_set, backoff = regex_tagger)\n",
    "\n",
    "#Define Bigram tagger with unigram as backoff method.\n",
    "bigram_tagger = nltk.BigramTagger(train_set, backoff = unigram_tagger)\n",
    "\n",
    "#Define trigram tagger with bigram as backoff method.\n",
    "trigram_tagger = nltk.TrigramTagger(train_set, backoff = bigram_tagger)"
   ]
  },
  {
   "cell_type": "code",
   "execution_count": 26,
   "metadata": {},
   "outputs": [],
   "source": [
    "# Modification of Viterbi Heuristic algorithm to backoff technique to tag unknown words.\n",
    "\n",
    "def Viterbi_m2(words, train_bag = train_tagged_words):\n",
    "    state = []\n",
    "    T = list(set([pair[1] for pair in train_bag]))\n",
    "    \n",
    "    for key, word in enumerate(words):\n",
    "        #initialise list of probability column for a given observation\n",
    "        p = [] \n",
    "        \n",
    "        #Use Trigram tagger for unknow words.\n",
    "        if word not in train_vocabulary_set:\n",
    "            \n",
    "            unknown_word_tag = trigram_tagger.tag_sents([[(word)]])\n",
    "            for sent in unknown_word_tag:\n",
    "                for tup in sent:\n",
    "                    if tup[1] == None:\n",
    "                        state.append('NOUN')\n",
    "                    else:\n",
    "                        state.append(tup[1])\n",
    "        \n",
    "        else:\n",
    "            for tag in T:\n",
    "                if key == 0:\n",
    "                    transition_p = tags_df.loc['.', tag]\n",
    "                else:\n",
    "                    transition_p = tags_df.loc[state[-1], tag]\n",
    "                \n",
    "                # compute emission and state probabilities\n",
    "                emission_p = word_given_tag(words[key], tag)[0]/word_given_tag(words[key], tag)[1]\n",
    "                state_probability = emission_p * transition_p\n",
    "                p.append(state_probability)\n",
    "            \n",
    "            pmax = max(p)\n",
    "            # getting state for which probability is maximum\n",
    "            state_max = T[p.index(pmax)] \n",
    "            state.append(state_max)\n",
    "    return list(zip(words, state))\n"
   ]
  },
  {
   "cell_type": "code",
   "execution_count": 27,
   "metadata": {},
   "outputs": [
    {
     "name": "stdout",
     "output_type": "stream",
     "text": [
      "Time taken in seconds:  23.1\n",
      "Accuracy of Modified Viterbi Model 2:  95.95%"
     ]
    },
    {
     "data": {
      "text/html": [
       "<div>\n",
       "<style scoped>\n",
       "    .dataframe tbody tr th:only-of-type {\n",
       "        vertical-align: middle;\n",
       "    }\n",
       "\n",
       "    .dataframe tbody tr th {\n",
       "        vertical-align: top;\n",
       "    }\n",
       "\n",
       "    .dataframe thead th {\n",
       "        text-align: right;\n",
       "    }\n",
       "</style>\n",
       "<table border=\"1\" class=\"dataframe\">\n",
       "  <thead>\n",
       "    <tr style=\"text-align: right;\">\n",
       "      <th></th>\n",
       "      <th>Previous Word-Tag</th>\n",
       "      <th>Predicted Word-Tag</th>\n",
       "      <th>Actual Word-Tag</th>\n",
       "      <th>Next Word-Tag</th>\n",
       "    </tr>\n",
       "  </thead>\n",
       "  <tbody>\n",
       "    <tr>\n",
       "      <td>0</td>\n",
       "      <td>(makes, VERB)</td>\n",
       "      <td>(computerized, VERB)</td>\n",
       "      <td>(computerized, ADJ)</td>\n",
       "      <td>(industrial, ADJ)</td>\n",
       "    </tr>\n",
       "    <tr>\n",
       "      <td>1</td>\n",
       "      <td>(., .)</td>\n",
       "      <td>(Yet, CONJ)</td>\n",
       "      <td>(Yet, ADV)</td>\n",
       "      <td>(this, DET)</td>\n",
       "    </tr>\n",
       "    <tr>\n",
       "      <td>2</td>\n",
       "      <td>(., .)</td>\n",
       "      <td>(Most, ADJ)</td>\n",
       "      <td>(Most, ADV)</td>\n",
       "      <td>(recently, ADV)</td>\n",
       "    </tr>\n",
       "    <tr>\n",
       "      <td>3</td>\n",
       "      <td>(and, CONJ)</td>\n",
       "      <td>(manufacturing, NOUN)</td>\n",
       "      <td>(manufacturing, VERB)</td>\n",
       "      <td>(engineering, NOUN)</td>\n",
       "    </tr>\n",
       "    <tr>\n",
       "      <td>4</td>\n",
       "      <td>(,, .)</td>\n",
       "      <td>(balanced, VERB)</td>\n",
       "      <td>(balanced, ADJ)</td>\n",
       "      <td>(male, NOUN)</td>\n",
       "    </tr>\n",
       "    <tr>\n",
       "      <td>5</td>\n",
       "      <td>(balanced, ADJ)</td>\n",
       "      <td>(male, ADJ)</td>\n",
       "      <td>(male, NOUN)</td>\n",
       "      <td>(,, .)</td>\n",
       "    </tr>\n",
       "  </tbody>\n",
       "</table>\n",
       "</div>"
      ],
      "text/plain": [
       "  Previous Word-Tag     Predicted Word-Tag        Actual Word-Tag  \\\n",
       "0     (makes, VERB)   (computerized, VERB)    (computerized, ADJ)   \n",
       "1            (., .)            (Yet, CONJ)             (Yet, ADV)   \n",
       "2            (., .)            (Most, ADJ)            (Most, ADV)   \n",
       "3       (and, CONJ)  (manufacturing, NOUN)  (manufacturing, VERB)   \n",
       "4            (,, .)       (balanced, VERB)        (balanced, ADJ)   \n",
       "5   (balanced, ADJ)            (male, ADJ)           (male, NOUN)   \n",
       "\n",
       "         Next Word-Tag  \n",
       "0    (industrial, ADJ)  \n",
       "1          (this, DET)  \n",
       "2      (recently, ADV)  \n",
       "3  (engineering, NOUN)  \n",
       "4         (male, NOUN)  \n",
       "5               (,, .)  "
      ]
     },
     "execution_count": 27,
     "metadata": {},
     "output_type": "execute_result"
    }
   ],
   "source": [
    "#Test on modified Viterbi model\n",
    "start = time.time()\n",
    "tagged_set3 = Viterbi_m2(test_tagged_words)\n",
    "end = time.time()\n",
    "print(\"Time taken in seconds: \", round(end-start,2))\n",
    "\n",
    "check_accuracy(tagged_set3,test_run_base,'Accuracy of Modified Viterbi Model 2: ')\n",
    "\n",
    "check_diff(tagged_set3,test_run_base)"
   ]
  },
  {
   "cell_type": "markdown",
   "metadata": {},
   "source": [
    "#### Observations after applying Technique 2.\n",
    "\n",
    "* Model accuracy improved significantly to 95.95%\n",
    "* It could tag the words like 'Red-blooded' properly to Adjective instead of Noun.\n",
    "* There are some more words which are tagged incorrectly. These are the limitations of HMM and Viterbi models as it considers previous n tags instead of understanding the context of the sentence.\n"
   ]
  },
  {
   "cell_type": "markdown",
   "metadata": {},
   "source": [
    "#### Evaluating tagging accuracy\n",
    "\n",
    "Lets evaluate some sentences from test file provided in the assignment."
   ]
  },
  {
   "cell_type": "code",
   "execution_count": 28,
   "metadata": {},
   "outputs": [
    {
     "data": {
      "text/plain": [
       "['Android is a mobile operating system developed by Google.',\n",
       " 'Android has been the best-selling OS worldwide on smartphones since 2011 and on tablets since 2013.',\n",
       " \"Google and Twitter made a deal in 2015 that gave Google access to Twitter's firehose.\",\n",
       " 'Twitter is an online news and social networking service on which users post and interact with messages known as tweets.',\n",
       " 'Before entering politics, Donald Trump was a domineering businessman and a television personality.',\n",
       " 'The 2018 FIFA World Cup is the 21st FIFA World Cup, an international football tournament contested once every four years.',\n",
       " 'This is the first World Cup to be held in Eastern Europe and the 11th time that it has been held in Europe.',\n",
       " 'Show me the cheapest round trips from Dallas to Atlanta',\n",
       " 'I would like to see flights from Denver to Philadelphia.',\n",
       " 'Show me the price of the flights leaving Atlanta at about 3 in the afternoon and arriving in San Francisco.',\n",
       " 'NASA invited social media users to experience the launch of ICESAT-2 Satellite.']"
      ]
     },
     "execution_count": 28,
     "metadata": {},
     "output_type": "execute_result"
    }
   ],
   "source": [
    "#Read the file and split into sentences.\n",
    "\n",
    "f = open('Test_sentences.txt')\n",
    "text = f.read()\n",
    "sample_test_sent = text.splitlines()\n",
    "f.close()\n",
    "sample_test_sent"
   ]
  },
  {
   "cell_type": "code",
   "execution_count": 29,
   "metadata": {},
   "outputs": [],
   "source": [
    "# list of untagged words\n",
    "\n",
    "sample_test_words = [word for sent in sample_test_sent for word in sent.split()]"
   ]
  },
  {
   "cell_type": "code",
   "execution_count": 30,
   "metadata": {},
   "outputs": [],
   "source": [
    "# tagging the test sentences\n",
    "tagged_seq_tst = Viterbi_m2(sample_test_words)\n"
   ]
  },
  {
   "cell_type": "code",
   "execution_count": 31,
   "metadata": {},
   "outputs": [
    {
     "data": {
      "text/plain": [
       "[('Android', 'NOUN'),\n",
       " ('is', 'VERB'),\n",
       " ('a', 'DET'),\n",
       " ('mobile', 'ADJ'),\n",
       " ('operating', 'NOUN'),\n",
       " ('system', 'NOUN'),\n",
       " ('developed', 'VERB'),\n",
       " ('by', 'ADP'),\n",
       " ('Google.', 'NOUN')]"
      ]
     },
     "execution_count": 31,
     "metadata": {},
     "output_type": "execute_result"
    }
   ],
   "source": [
    "#Lets find the POS tagging of 1st sentence. 'Android is a mobile operating system developed by Google.'\n",
    "tagged_seq_tst[:9]\n",
    "\n",
    "# All tags have been properly identified for this sentences\n",
    "# There are some new words like Android and Google which are properly tagged as Noun."
   ]
  },
  {
   "cell_type": "code",
   "execution_count": 37,
   "metadata": {},
   "outputs": [
    {
     "data": {
      "text/plain": [
       "[('Before', 'ADP'),\n",
       " ('entering', 'VERB'),\n",
       " ('politics,', 'NOUN'),\n",
       " ('Donald', 'NOUN'),\n",
       " ('Trump', 'NOUN'),\n",
       " ('was', 'VERB'),\n",
       " ('a', 'DET'),\n",
       " ('domineering', 'VERB'),\n",
       " ('businessman', 'NOUN'),\n",
       " ('and', 'CONJ'),\n",
       " ('a', 'DET'),\n",
       " ('television', 'NOUN'),\n",
       " ('personality.', 'NOUN')]"
      ]
     },
     "execution_count": 37,
     "metadata": {},
     "output_type": "execute_result"
    }
   ],
   "source": [
    "#Lets find the POS tagging of other sentence. 'Before entering politics, Donald Trump was a domineering businessman and a television personality.'\n",
    "tagged_seq_tst[60:73]\n",
    "\n",
    "# Unknown word 'domineering' is tagged as Verb instead of Adjective in this sentence. This is tagged using our morphological cues defined in regex_tagger.\n",
    "# Except 1 tag, all words are properly tagged.\n",
    "# Unknow Nouns are identified correctly in this sentence like 'Donald Trump' and 'politics'.\n"
   ]
  },
  {
   "cell_type": "markdown",
   "metadata": {},
   "source": [
    "### 6. Model Evaluation\n",
    "\n",
    "* Compare the tagging accuracies of the modifications with the vanilla Viterbi algorithm\n",
    "* We will sample 3 random sets to test accuracies with vanilla viterbi model"
   ]
  },
  {
   "cell_type": "code",
   "execution_count": 38,
   "metadata": {},
   "outputs": [
    {
     "name": "stdout",
     "output_type": "stream",
     "text": [
      "\n",
      " ----Comparing tagging accuracy for random set 1 ----\n",
      "\n",
      "Accuracy of vanilla Viterbi model:  89.73%\n",
      "Accuracy of Modified Viterbi Model 1:  90.62%\n",
      "Accuracy of Modified Viterbi Model 2:  93.3%\n",
      "\n",
      "\n",
      " ----Comparing tagging accuracy for random set 2 ----\n",
      "\n",
      "Accuracy of vanilla Viterbi model:  88.89%\n",
      "Accuracy of Modified Viterbi Model 1:  91.67%\n",
      "Accuracy of Modified Viterbi Model 2:  92.59%\n",
      "\n",
      "\n",
      " ----Comparing tagging accuracy for random set 3 ----\n",
      "\n",
      "Accuracy of vanilla Viterbi model:  90.62%\n",
      "Accuracy of Modified Viterbi Model 1:  94.53%\n",
      "Accuracy of Modified Viterbi Model 2:  95.31%\n",
      "\n"
     ]
    }
   ],
   "source": [
    "random_set=['124','123','55']\n",
    "cnt=1\n",
    "for num in random_set:\n",
    "    print(\"\\n ----Comparing tagging accuracy for random set\",cnt,\"----\\n\")\n",
    "    test_run_base,test_tagged_words=generate_sampl_set(num)\n",
    "    tagged_set_vanilla = Viterbi_Vanilla(test_tagged_words)\n",
    "    tagged_set_m1 = Viterbi_m1(test_tagged_words)\n",
    "    tagged_set_m2 = Viterbi_m2(test_tagged_words)\n",
    "    cnt+=1\n",
    "\n",
    "    check_accuracy(tagged_set_vanilla,test_run_base,'Accuracy of vanilla Viterbi model: ')\n",
    "    check_accuracy(tagged_set_m1,test_run_base,'\\nAccuracy of Modified Viterbi Model 1: ')\n",
    "    check_accuracy(tagged_set_m2,test_run_base,'\\nAccuracy of Modified Viterbi Model 2: ')\n",
    "    print(\"\\n\")\n",
    "\n"
   ]
  },
  {
   "cell_type": "markdown",
   "metadata": {},
   "source": [
    "#### Tagging accuracy Comparison:\n",
    "* Accuracy varies for each random sample. This is mainly due to unknown words present in that particular sample.\n",
    "* In general Technique 1 performs better than vanilla Viterbi algorithm in all cases. In case of unknown words, Technique 1 computes transition probability alone helping algorithm to tag words and helps subsequent words to tag accurately with revised state probabilities.\n",
    "* Technique 2 outperforms in all cases. This technique uses nltk's backoff tagger combined with morphological cues. This is very efficient technique based on second order Markov models that consider triples of consecutive words and regex tagger using morphological cues.\n",
    "\n"
   ]
  },
  {
   "cell_type": "markdown",
   "metadata": {},
   "source": [
    "#### Cases which were incorrectly tagged by original POS tagger\n",
    "Lets look at some specific cases where vanilla Viterbi algorithm incorrectly tagged a word and how it changed with various techniques."
   ]
  },
  {
   "attachments": {
    "image.png": {
     "image/png": "[encoded data removed]"
    }
   },
   "cell_type": "markdown",
   "metadata": {},
   "source": [
    "![image.png](attachment:image.png)"
   ]
  },
  {
   "cell_type": "markdown",
   "metadata": {},
   "source": [
    "#### Case 1: word -> Giraud. \n",
    "\n",
    "1. vanilla Viterbi model tags it as '.' which is first tag in our tag set. Since this is an unknown word Viterbi algorithm by default assigns first tag to this."
   ]
  },
  {
   "cell_type": "code",
   "execution_count": 40,
   "metadata": {},
   "outputs": [
    {
     "name": "stdout",
     "output_type": "stream",
     "text": [
      "Word -> Giraud\n",
      "Emmision probability:  0.0\n",
      "Transition Probability for tag t2 NOUN given t1 as NOUN  0.26468015\n",
      "Transition Probability for tag t2 VERB given t1 as NOUN  0.14669195\n"
     ]
    }
   ],
   "source": [
    "# Checking the Emission and Transition probaility of this word.\n",
    "print (\"Word -> Giraud\")\n",
    "print('Emmision probability: ',word_given_tag('Giraud', 'NOUN')[0]/word_given_tag('Giraud', 'NOUN')[1])\n",
    "\n",
    "for t in ['NOUN','VERB']:\n",
    "    print ('Transition Probability for tag t2 '+t+' given t1 as NOUN ' ,tags_df.loc['NOUN', t])\n",
    "    "
   ]
  },
  {
   "cell_type": "markdown",
   "metadata": {},
   "source": [
    "2. From above analysis of word Giraud, emission probability is 0 for this unknown word. If Transition probability alone is considered, then it would correctly tag to NOUN as its probability is higher at 0.26. Hence Technique 1 could tag this word properly to Noun."
   ]
  },
  {
   "cell_type": "markdown",
   "metadata": {},
   "source": [
    "3. NLTK trigram tagger could identify this word correctly to NOUN as shown below, as trigram is based on second order Markov models that consider triples of consecutive words. "
   ]
  },
  {
   "cell_type": "code",
   "execution_count": 46,
   "metadata": {},
   "outputs": [
    {
     "data": {
      "text/plain": [
       "[[('Giraud', 'NOUN')]]"
      ]
     },
     "execution_count": 46,
     "metadata": {},
     "output_type": "execute_result"
    }
   ],
   "source": [
    "trigram_tagger.tag_sents([[('Giraud')]])"
   ]
  },
  {
   "cell_type": "markdown",
   "metadata": {},
   "source": [
    "#### Case 2: word -> Wickliffe. \n",
    "\n",
    "1. vanilla Viterbi model tags it as '.' which is first tag in our tag set. Since this is an unknown word Viterbi algorithm by default assigns first tag to this."
   ]
  },
  {
   "cell_type": "markdown",
   "metadata": {},
   "source": [
    "2. Technique 1 fails to identify this word tag properly. As shown below transition probability is highest for POS tag DET instead of NOUN. Hence it tags it to DET."
   ]
  },
  {
   "cell_type": "code",
   "execution_count": 44,
   "metadata": {},
   "outputs": [
    {
     "name": "stdout",
     "output_type": "stream",
     "text": [
      "Word -> Wickliffe\n",
      "Emmision probability:  0.0\n",
      "Transition Probability for tag t2 . given t1 as ADP  0.04\n",
      "Transition Probability for tag t2 ADJ given t1 as ADP  0.10673797\n",
      "Transition Probability for tag t2 ADP given t1 as ADP  0.017219251\n",
      "Transition Probability for tag t2 ADV given t1 as ADP  0.013689839\n",
      "Transition Probability for tag t2 CONJ given t1 as ADP  0.00064171123\n",
      "Transition Probability for tag t2 DET given t1 as ADP  0.32342246\n",
      "Transition Probability for tag t2 NOUN given t1 as ADP  0.32213902\n",
      "Transition Probability for tag t2 NUM given t1 as ADP  0.062780745\n",
      "Transition Probability for tag t2 PRON given t1 as ADP  0.0686631\n",
      "Transition Probability for tag t2 PRT given t1 as ADP  0.0014973262\n",
      "Transition Probability for tag t2 VERB given t1 as ADP  0.00855615\n",
      "Transition Probability for tag t2 X given t1 as ADP  0.03465241\n"
     ]
    }
   ],
   "source": [
    "# Checking the Emission and Transition probaility of this word.\n",
    "print (\"Word -> Wickliffe\")\n",
    "print('Emmision probability: ',word_given_tag('Wickliffe', 'NOUN')[0]/word_given_tag('Wickliffe', 'NOUN')[1])\n",
    "\n",
    "for t in tag_set:\n",
    "    print ('Transition Probability for tag t2 '+t+' given t1 as ADP ' ,tags_df.loc['ADP', t])\n",
    "    "
   ]
  },
  {
   "cell_type": "markdown",
   "metadata": {},
   "source": [
    "3. NLTK trigram tagger could identify this word correctly to NOUN as shown below as it considers triples of consecutive word."
   ]
  },
  {
   "cell_type": "code",
   "execution_count": 47,
   "metadata": {},
   "outputs": [
    {
     "data": {
      "text/plain": [
       "[[('Wickliffe', 'NOUN')]]"
      ]
     },
     "execution_count": 47,
     "metadata": {},
     "output_type": "execute_result"
    }
   ],
   "source": [
    "# POS tag of word using trigram tagger\n",
    "trigram_tagger.tag_sents([[('Wickliffe')]])"
   ]
  },
  {
   "cell_type": "markdown",
   "metadata": {},
   "source": [
    "#### Case 3: word -> Red-blooded. \n",
    "\n",
    "1. vanilla Viterbi model tags it as '.' which is first tag in our tag set. Since this is an unknown word Viterbi algorithm by default assigns first tag to this."
   ]
  },
  {
   "cell_type": "markdown",
   "metadata": {},
   "source": [
    "2. Technique 1 fails to identify this word tag properly. As shown below transition probability is highest for POS tag NOUN instead of ADJ. Hence it tags it to NOUN incorrectly."
   ]
  },
  {
   "cell_type": "code",
   "execution_count": 53,
   "metadata": {},
   "outputs": [
    {
     "name": "stdout",
     "output_type": "stream",
     "text": [
      "Word -> Red-blooded\n",
      "Emmision probability:  0.0\n",
      "Transition Probability for tag t2 . given t1 as .  0.093161546\n",
      "Transition Probability for tag t2 ADJ given t1 as .  0.04423822\n",
      "Transition Probability for tag t2 ADP given t1 as .  0.0905487\n",
      "Transition Probability for tag t2 ADV given t1 as .  0.05279755\n",
      "Transition Probability for tag t2 CONJ given t1 as .  0.057392556\n",
      "Transition Probability for tag t2 DET given t1 as .  0.17406973\n",
      "Transition Probability for tag t2 NOUN given t1 as .  0.22281286\n",
      "Transition Probability for tag t2 NUM given t1 as .  0.08234976\n",
      "Transition Probability for tag t2 PRON given t1 as .  0.0655014\n",
      "Transition Probability for tag t2 PRT given t1 as .  0.0025227498\n",
      "Transition Probability for tag t2 VERB given t1 as .  0.087305166\n",
      "Transition Probability for tag t2 X given t1 as .  0.027299756\n"
     ]
    }
   ],
   "source": [
    "# Checking the Emission and Transition probaility of this word.\n",
    "print (\"Word -> Red-blooded\")\n",
    "print('Emmision probability: ',word_given_tag('Red-blooded', 'ADJ')[0]/word_given_tag('Red-blooded', 'ADJ')[1])\n",
    "\n",
    "for t in tag_set:\n",
    "    print ('Transition Probability for tag t2 '+t+' given t1 as . ' ,tags_df.loc['.', t])"
   ]
  },
  {
   "cell_type": "markdown",
   "metadata": {},
   "source": [
    "3. Technique 2 identifies the tag properly due to below morphological cue given in regex tagger.Since trigram tagger has sequential backoff feature to regex_tagger,this word got correctly tagged in this scenario.\n",
    "\n",
    "(r'^([0-9]|[aA-zZ])+\\-[aA-zZ]*$','ADJ'), # words with a hyphen followed by alphabets  "
   ]
  },
  {
   "cell_type": "code",
   "execution_count": 54,
   "metadata": {},
   "outputs": [
    {
     "data": {
      "text/plain": [
       "[[('Red-blooded', 'ADJ')]]"
      ]
     },
     "execution_count": 54,
     "metadata": {},
     "output_type": "execute_result"
    }
   ],
   "source": [
    "# POS tag of word using regex tagger\n",
    "regex_tagger.tag_sents([[('Red-blooded')]])"
   ]
  },
  {
   "cell_type": "code",
   "execution_count": 55,
   "metadata": {},
   "outputs": [
    {
     "data": {
      "text/plain": [
       "[[('Red-blooded', 'ADJ')]]"
      ]
     },
     "execution_count": 55,
     "metadata": {},
     "output_type": "execute_result"
    }
   ],
   "source": [
    "# POS tag of word using trigram tagger\n",
    "trigram_tagger.tag_sents([[('Red-blooded')]])"
   ]
  },
  {
   "cell_type": "markdown",
   "metadata": {},
   "source": [
    "### 7. Summary"
   ]
  },
  {
   "cell_type": "markdown",
   "metadata": {},
   "source": [
    "* In general *vanilla Viterbi* is a good algorithm provided strong training set. It could tag accurately for most of the test set. It failed in case of unknown words and in sentences where context of word usage is different.\n",
    "* *Technique 1* helped in addrressing this issue of unknown words and also inturn helped tagging subsequent words which were incorrectly tagged initially as its state probability changed.\n",
    "* *Technique 2* using trigram tagger and morphological cues proved very efficient techniques to identify most of the POS tags correctly.Trigram tagger which is based on second order Markov models that consider triples of consecutive words and backed off by bigram, unigram and finally regex tagger proved to be a strong model.\n",
    "\n",
    "* However, as we saw in this dataset there were several words which couldn't be tagged correctly even after modifications. This showcases some *limitations of Markov models.*\n",
    "* For *advanced tagging* one can look at some advanced techniques like Conditional random fields or Unsupervised tagging like Baum Welch algorithm.\n"
   ]
  }
 ],
 "metadata": {
  "kernelspec": {
   "display_name": "Python 3",
   "language": "python",
   "name": "python3"
  },
  "language_info": {
   "codemirror_mode": {
    "name": "ipython",
    "version": 3
   },
   "file_extension": ".py",
   "mimetype": "text/x-python",
   "name": "python",
   "nbconvert_exporter": "python",
   "pygments_lexer": "ipython3",
   "version": "3.7.4"
  }
 },
 "nbformat": 4,
 "nbformat_minor": 2
}
